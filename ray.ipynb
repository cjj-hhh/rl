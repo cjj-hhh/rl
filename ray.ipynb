{
 "cells": [
  {
   "cell_type": "code",
   "execution_count": 1,
   "metadata": {
    "ExecuteTime": {
     "end_time": "2020-06-25T23:58:09.796697Z",
     "start_time": "2020-06-25T23:58:09.794468Z"
    }
   },
   "outputs": [],
   "source": [
    "# %pip install -U ray ray[debug] ray[dashboard]"
   ]
  },
  {
   "cell_type": "code",
   "execution_count": 2,
   "metadata": {
    "ExecuteTime": {
     "end_time": "2020-06-25T23:58:19.473489Z",
     "start_time": "2020-06-25T23:58:10.349291Z"
    }
   },
   "outputs": [
    {
     "name": "stderr",
     "output_type": "stream",
     "text": [
      "2020-06-25 23:58:10,664\tINFO resource_spec.py:212 -- Starting Ray with 27.34 GiB memory available for workers and up to 29.8 GiB for objects. You can adjust these settings with ray.init(memory=<bytes>, object_store_memory=<bytes>).\n",
      "2020-06-25 23:58:10,904\tWARNING services.py:923 -- Redis failed to start, retrying now.\n",
      "2020-06-25 23:58:11,149\tINFO services.py:1165 -- View the Ray dashboard at \u001b[1m\u001b[32mlocalhost:8265\u001b[39m\u001b[22m\n"
     ]
    }
   ],
   "source": [
    "# May need to restart kernel\n",
    "import ray\n",
    "import time\n",
    "\n",
    "\n",
    "# This is pretty unreliable, may need to manually retry\n",
    "def restart_ray():\n",
    "    ray.shutdown()\n",
    "    ray.init(object_store_memory=32e9)  # is this ignored? consumes 110+ GB\n",
    "    \n",
    "restart_ray()    "
   ]
  },
  {
   "cell_type": "markdown",
   "metadata": {},
   "source": [
    "## Matrix Multiplication"
   ]
  },
  {
   "cell_type": "code",
   "execution_count": 3,
   "metadata": {
    "ExecuteTime": {
     "end_time": "2020-06-25T23:58:20.273303Z",
     "start_time": "2020-06-25T23:58:19.673458Z"
    }
   },
   "outputs": [],
   "source": [
    "import numpy as np\n",
    "\n",
    "\n",
    "def local_matmul(a: np.ndarray, b: np.ndarray) -> np.ndarray:\n",
    "    \"\"\"A(l, m) x B(m, n) = C(l, n)\"\"\"\n",
    "    assert a.shape[1] == b.shape[0]  # m == m\n",
    "    res = np.zeros((a.shape[0], b.shape[1]))  # (l,n)\n",
    "    b_t = b.T  # for read localility from row-major  # (m, n) -> (n, m)\n",
    "    for i in range(a.shape[0]):  # l\n",
    "        for j in range(b_t.shape[0]):  # n\n",
    "            res[i,j] = np.dot(a[i], b_t[j])\n",
    "    return res  \n",
    "\n",
    "@ray.remote\n",
    "def transpose(x):\n",
    "    return x.T\n",
    "\n",
    "@ray.remote\n",
    "def dot(x_vec: np.ndarray, y_mat: np.ndarray, row: int):\n",
    "    # Fetch entire matrix?\n",
    "    return np.dot(x_vec, y_mat[row])\n",
    "\n",
    "@ray.remote\n",
    "def dot2(x_vec: np.ndarray, y_vec: np.ndarray):\n",
    "    # seems slower?\n",
    "    return np.dot(x_vec, y_vec)\n",
    "\n",
    "@ray.remote\n",
    "def par_matmul(a: np.ndarray, b: np.ndarray):\n",
    "    \"\"\"A(l, m) x B(m, n) = C(l, n)\"\"\"\n",
    "    assert a.shape[1] == b.shape[0]  # m == m\n",
    "    bt = transpose.remote(b)  # for read localility from row-major  # (m, n) -> (n, m)\n",
    "    values = dict()\n",
    "    for i in range(a.shape[0]):  # l\n",
    "        for j in range(b.shape[1]):  # n\n",
    "            values[(i,j)] = dot.remote(a[i], bt, j)\n",
    "            \n",
    "    res = np.zeros((a.shape[0], b.shape[1]))  # l,n\n",
    "    for i in range(a.shape[0]):  # l\n",
    "        for j in range(b.shape[1]):  # n\n",
    "            res[i, j] = ray.get(values[(i,j)])\n",
    "    return res\n"
   ]
  },
  {
   "cell_type": "code",
   "execution_count": 5,
   "metadata": {
    "ExecuteTime": {
     "end_time": "2020-06-25T23:58:50.945882Z",
     "start_time": "2020-06-25T23:58:50.931495Z"
    }
   },
   "outputs": [
    {
     "name": "stdout",
     "output_type": "stream",
     "text": [
      "[[0.39868872 0.7425399 ]\n",
      " [0.20669572 0.60497341]]\n",
      "[[0.39868872 0.7425399 ]\n",
      " [0.20669572 0.60497341]]\n",
      "[[0.39868872 0.7425399 ]\n",
      " [0.20669572 0.60497341]]\n"
     ]
    }
   ],
   "source": [
    "import numpy as np\n",
    "\n",
    "\n",
    "a = np.random.rand(2, 4)\n",
    "b = np.random.rand(4, 2)\n",
    "print(np.matmul(a, b))\n",
    "print(local_matmul(a, b))\n",
    "\n",
    "# May need to wait and retry after ray.init()\n",
    "matmul_id = par_matmul.remote(a, b)\n",
    "print(ray.get(par_matmul.remote(a, b)))\n"
   ]
  },
  {
   "cell_type": "code",
   "execution_count": 6,
   "metadata": {
    "ExecuteTime": {
     "end_time": "2020-06-26T00:00:57.768675Z",
     "start_time": "2020-06-25T23:58:55.186148Z"
    }
   },
   "outputs": [
    {
     "data": {
      "text/html": [
       "<div>\n",
       "<style scoped>\n",
       "    .dataframe tbody tr th:only-of-type {\n",
       "        vertical-align: middle;\n",
       "    }\n",
       "\n",
       "    .dataframe tbody tr th {\n",
       "        vertical-align: top;\n",
       "    }\n",
       "\n",
       "    .dataframe thead th {\n",
       "        text-align: right;\n",
       "    }\n",
       "</style>\n",
       "<table border=\"1\" class=\"dataframe\">\n",
       "  <thead>\n",
       "    <tr style=\"text-align: right;\">\n",
       "      <th></th>\n",
       "      <th>m</th>\n",
       "      <th>reference</th>\n",
       "      <th>local</th>\n",
       "      <th>ray</th>\n",
       "    </tr>\n",
       "  </thead>\n",
       "  <tbody>\n",
       "    <tr>\n",
       "      <th>0</th>\n",
       "      <td>1</td>\n",
       "      <td>0.000013</td>\n",
       "      <td>0.000033</td>\n",
       "      <td>0.007760</td>\n",
       "    </tr>\n",
       "    <tr>\n",
       "      <th>1</th>\n",
       "      <td>10</td>\n",
       "      <td>0.000009</td>\n",
       "      <td>0.000063</td>\n",
       "      <td>0.005077</td>\n",
       "    </tr>\n",
       "    <tr>\n",
       "      <th>2</th>\n",
       "      <td>100</td>\n",
       "      <td>0.000006</td>\n",
       "      <td>0.000031</td>\n",
       "      <td>0.005088</td>\n",
       "    </tr>\n",
       "    <tr>\n",
       "      <th>3</th>\n",
       "      <td>1000</td>\n",
       "      <td>0.000018</td>\n",
       "      <td>0.000041</td>\n",
       "      <td>0.005903</td>\n",
       "    </tr>\n",
       "    <tr>\n",
       "      <th>4</th>\n",
       "      <td>10000</td>\n",
       "      <td>0.000094</td>\n",
       "      <td>0.000115</td>\n",
       "      <td>0.008433</td>\n",
       "    </tr>\n",
       "    <tr>\n",
       "      <th>5</th>\n",
       "      <td>100000</td>\n",
       "      <td>0.001027</td>\n",
       "      <td>0.000360</td>\n",
       "      <td>0.156800</td>\n",
       "    </tr>\n",
       "    <tr>\n",
       "      <th>6</th>\n",
       "      <td>1000000</td>\n",
       "      <td>0.025610</td>\n",
       "      <td>0.007744</td>\n",
       "      <td>0.234164</td>\n",
       "    </tr>\n",
       "    <tr>\n",
       "      <th>7</th>\n",
       "      <td>10000000</td>\n",
       "      <td>0.103698</td>\n",
       "      <td>0.093780</td>\n",
       "      <td>1.200920</td>\n",
       "    </tr>\n",
       "    <tr>\n",
       "      <th>8</th>\n",
       "      <td>100000000</td>\n",
       "      <td>1.030290</td>\n",
       "      <td>1.204478</td>\n",
       "      <td>9.778903</td>\n",
       "    </tr>\n",
       "  </tbody>\n",
       "</table>\n",
       "</div>"
      ],
      "text/plain": [
       "           m  reference     local       ray\n",
       "0          1   0.000013  0.000033  0.007760\n",
       "1         10   0.000009  0.000063  0.005077\n",
       "2        100   0.000006  0.000031  0.005088\n",
       "3       1000   0.000018  0.000041  0.005903\n",
       "4      10000   0.000094  0.000115  0.008433\n",
       "5     100000   0.001027  0.000360  0.156800\n",
       "6    1000000   0.025610  0.007744  0.234164\n",
       "7   10000000   0.103698  0.093780  1.200920\n",
       "8  100000000   1.030290  1.204478  9.778903"
      ]
     },
     "metadata": {},
     "output_type": "display_data"
    },
    {
     "data": {
      "image/png": "[encoded data removed]",
      "text/plain": [
       "<Figure size 432x288 with 1 Axes>"
      ]
     },
     "metadata": {
      "needs_background": "light"
     },
     "output_type": "display_data"
    }
   ],
   "source": [
    "import pandas as pd\n",
    "import time\n",
    "from IPython.display import display\n",
    "\n",
    "\n",
    "REFERENCE = lambda a, b: np.matmul(a, b)\n",
    "LOCAL = lambda a, b: local_matmul(a, b)\n",
    "RAY = lambda a, b: ray.get(par_matmul.remote(a, b))\n",
    "\n",
    "\n",
    "def time_matmul(impl, l, m, n, trials=3):\n",
    "    # not sure if this is a fair test (caching, background processes, etc)    \n",
    "    times = []\n",
    "    for _ in range(trials):  \n",
    "        a = np.random.rand(l, m)\n",
    "        b = np.random.rand(m, n)\n",
    "        \n",
    "        start_time = time.time()\n",
    "        res = impl(a, b)\n",
    "        runtime = time.time() - start_time\n",
    "        times.append(runtime)\n",
    "        \n",
    "        expected = REFERENCE(a, b)\n",
    "        np.testing.assert_allclose(res, expected)\n",
    "    s = pd.Series(times)\n",
    "    return s.mean(), s.std()\n",
    "\n",
    "l = 5\n",
    "n = 3\n",
    "ms, ref_times, loc_times, ray_times = [], [], [], []\n",
    "for m_exp in range(9):\n",
    "    m = int(10**m_exp)\n",
    "    ms.append(m)\n",
    "    ref_mean, ref_std = time_matmul(REFERENCE, l, m, n)\n",
    "    ref_times.append(ref_mean)\n",
    "    loc_time, loc_std = time_matmul(LOCAL, l, m, n)\n",
    "    loc_times.append(loc_time)\n",
    "    ray_time, ray_std = time_matmul(RAY, l, m, n)\n",
    "    ray_times.append(ray_time)\n",
    "\n",
    "# oof\n",
    "results = pd.DataFrame({'m': ms, 'reference': ref_times, 'local': loc_times, 'ray': ray_times})\n",
    "results.plot(0)  \n",
    "display(results)"
   ]
  },
  {
   "cell_type": "markdown",
   "metadata": {},
   "source": [
    "## Stats"
   ]
  },
  {
   "cell_type": "code",
   "execution_count": 7,
   "metadata": {
    "ExecuteTime": {
     "end_time": "2020-06-26T00:01:28.413871Z",
     "start_time": "2020-06-26T00:01:28.409057Z"
    }
   },
   "outputs": [],
   "source": [
    "@ray.remote\n",
    "class StreamingStats:\n",
    "    def __init__(self):\n",
    "        self.count = 0\n",
    "        self.sum = 0\n",
    "        self.squared_sum = 0\n",
    "        \n",
    "    def update(self, val):\n",
    "        self.count += 1\n",
    "        self.sum += val\n",
    "        self.squared_sum += val * val\n",
    "        \n",
    "    def mean(self):\n",
    "        return self.sum / self.count\n",
    "    \n",
    "    def std(self):\n",
    "        return (abs(self.squared_sum / self.count - (self.sum / self.count) ** 2)) ** 0.5"
   ]
  },
  {
   "cell_type": "code",
   "execution_count": 8,
   "metadata": {
    "ExecuteTime": {
     "end_time": "2020-06-26T00:01:29.577362Z",
     "start_time": "2020-06-26T00:01:29.371043Z"
    }
   },
   "outputs": [
    {
     "name": "stdout",
     "output_type": "stream",
     "text": [
      "Expected: mean=0.49958139824917963, std=0.2906121857594889\n",
      "Streaming: mean=0.4995813982491802, std=0.2906121857594887\n"
     ]
    }
   ],
   "source": [
    "s = StreamingStats.remote()\n",
    "\n",
    "stream = np.random.rand(1000)\n",
    "for val in stream:\n",
    "    s.update.remote(val)\n",
    "    \n",
    "print(f'Expected: mean={stream.mean()}, std={stream.std()}')\n",
    "print(f'Streaming: mean={ray.get(s.mean.remote())}, std={ray.get(s.std.remote())}')"
   ]
  },
  {
   "cell_type": "markdown",
   "metadata": {},
   "source": [
    "## Thompson Sampling"
   ]
  },
  {
   "cell_type": "code",
   "execution_count": 9,
   "metadata": {
    "ExecuteTime": {
     "end_time": "2020-06-26T00:01:32.877439Z",
     "start_time": "2020-06-26T00:01:32.871313Z"
    }
   },
   "outputs": [],
   "source": [
    "import collections\n",
    "\n",
    "\n",
    "@ray.remote\n",
    "class BetaBernoulliArm:\n",
    "    def __init__(self, name='arm', alpha=1, beta=1, true_reward=0.5):\n",
    "        assert alpha >= 1\n",
    "        assert beta >= 1\n",
    "        self.name = name\n",
    "        self.alpha = alpha\n",
    "        self.beta = beta\n",
    "        self.true_reward = true_reward\n",
    "        \n",
    "    def name(self):\n",
    "        return self.name\n",
    "        \n",
    "    def update_impression(self):\n",
    "        # Pessimistic, immediate update encourages exploration\n",
    "        self.beta += 1\n",
    "        \n",
    "    def update_conversion(self):\n",
    "        self.alpha += 1\n",
    "        self.beta += 1\n",
    "        \n",
    "    def empirical_mean(self):\n",
    "        return self.alpha / (self.alpha + self.beta)\n",
    "        \n",
    "    def sample(self):\n",
    "        return np.random.beta(self.alpha, self.beta)\n",
    "    \n",
    "    def outcome(self):\n",
    "        return np.random.binomial(1, self.true_reward)"
   ]
  },
  {
   "cell_type": "code",
   "execution_count": 10,
   "metadata": {
    "ExecuteTime": {
     "end_time": "2020-06-26T00:01:36.450288Z",
     "start_time": "2020-06-26T00:01:34.766583Z"
    }
   },
   "outputs": [
    {
     "data": {
      "text/plain": [
       "defaultdict(int, {'promising': 1599, 'uniform': 159, 'good': 242})"
      ]
     },
     "execution_count": 10,
     "metadata": {},
     "output_type": "execute_result"
    }
   ],
   "source": [
    "import collections\n",
    "import pprint\n",
    "\n",
    "\n",
    "def thompson_sample(arms):\n",
    "    if not arms:\n",
    "        return None\n",
    "    \n",
    "    sample_futures = np.array([arm.sample.remote() for arm in arms])\n",
    "    best_sample, best_index = float('-inf'), 0\n",
    "    for i, future in enumerate(sample_futures):\n",
    "        sample = ray.get(future)\n",
    "        if sample > best_sample:\n",
    "            best_sample, best_index = sample, i\n",
    "    return ray.get(arms[best_index].name.remote())\n",
    "\n",
    "def exposures(arms, resolution=1e-3):\n",
    "    trials = int(2 / resolution)\n",
    "    counts = collections.defaultdict(int)\n",
    "    for _ in range(trials):\n",
    "        variant = thompson_sample(arms)\n",
    "        counts[variant] += 1\n",
    "    return counts\n",
    "\n",
    "uniform_arm = BetaBernoulliArm.remote('uniform', 1, 1, 0.5)\n",
    "good_arm = BetaBernoulliArm.remote('good', 80, 20, 0.85)\n",
    "bad_arm = BetaBernoulliArm.remote('bad', 20, 80, 0.25)\n",
    "promising_arm = BetaBernoulliArm.remote('promising', 9, 1, 0.99)\n",
    "arms = [uniform_arm, good_arm, bad_arm, promising_arm]\n",
    "\n",
    "exposures(arms)"
   ]
  },
  {
   "cell_type": "code",
   "execution_count": 12,
   "metadata": {
    "ExecuteTime": {
     "end_time": "2020-06-26T00:09:13.982432Z",
     "start_time": "2020-06-26T00:02:52.609135Z"
    }
   },
   "outputs": [
    {
     "data": {
      "text/plain": [
       "Text(0, 0.5, 'reward')"
      ]
     },
     "execution_count": 12,
     "metadata": {},
     "output_type": "execute_result"
    },
    {
     "data": {
      "image/png": "[encoded data removed]",
      "text/plain": [
       "<Figure size 432x288 with 1 Axes>"
      ]
     },
     "metadata": {
      "needs_background": "light"
     },
     "output_type": "display_data"
    }
   ],
   "source": [
    "import pandas as pd\n",
    "\n",
    "\n",
    "TRIALS = 10\n",
    "EPISODE = 14\n",
    "BATCH = 1000\n",
    "\n",
    "\n",
    "@ray.remote\n",
    "def simulate(trial, episodes, batches):\n",
    "    uniform_arm = BetaBernoulliArm.remote('uniform', 1, 1, 0.5)\n",
    "    good_arm = BetaBernoulliArm.remote('good', 80, 20, 0.85)\n",
    "    bad_arm = BetaBernoulliArm.remote('bad', 20, 80, 0.25)\n",
    "    promising_arm = BetaBernoulliArm.remote('great', 9, 1, 0.99)\n",
    "    arm_list = [uniform_arm, good_arm, bad_arm, promising_arm]\n",
    "    arms = {ray.get(arm.name.remote()): arm for arm in arm_list}\n",
    "    \n",
    "    dates = []\n",
    "    conversions = []\n",
    "    for episode in range(episodes):\n",
    "        \n",
    "        conversion = 0\n",
    "        for batch in range(batches):\n",
    "            arm = arms[thompson_sample(arm_list)]\n",
    "            arm.update_impression.remote()\n",
    "            if ray.get(arm.outcome.remote()):\n",
    "                arm.update_conversion.remote()\n",
    "                conversion += 1\n",
    "        dates.append(episode)\n",
    "        conversions.append(conversion)\n",
    "    return pd.DataFrame({'trial': trial, 'date': dates, 'reward': conversions})\n",
    "\n",
    "\n",
    "sim_ids = [simulate.remote(trial, EPISODE, BATCH) for trial in range(TRIALS)]\n",
    "result_df = pd.concat([pd.DataFrame(ray.get(sim_id)) for sim_id in sim_ids])\n",
    "ax = result_df.pivot(index='date', columns='trial', values='reward').plot()\n",
    "ax.set_ylabel('reward')"
   ]
  },
  {
   "cell_type": "code",
   "execution_count": null,
   "metadata": {
    "ExecuteTime": {
     "end_time": "2020-06-25T22:55:49.973902Z",
     "start_time": "2020-06-25T22:55:39.309393Z"
    }
   },
   "outputs": [],
   "source": [
    "#restart_ray()"
   ]
  }
 ],
 "metadata": {
  "kernelspec": {
   "display_name": "Python 3",
   "language": "python",
   "name": "python3"
  },
  "language_info": {
   "codemirror_mode": {
    "name": "ipython",
    "version": 3
   },
   "file_extension": ".py",
   "mimetype": "text/x-python",
   "name": "python",
   "nbconvert_exporter": "python",
   "pygments_lexer": "ipython3",
   "version": "3.6.9"
  }
 },
 "nbformat": 4,
 "nbformat_minor": 4
}
