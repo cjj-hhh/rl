{
 "cells": [
  {
   "cell_type": "markdown",
   "metadata": {},
   "source": [
    "# Racetrack\n",
    "A simple extension of our last exploration into [gridworld](https://github.com/laxatives/rl/blob/master/gridworld_mdp.ipynb).\n",
    "\n",
    "Here we extend exercise 5.12 in [Sutton & Barto](http://incompleteideas.net/book/the-book-2nd.html), shown below, to consider Temporal Difference Learning. We also choose to remove some of the velocity constraints imposed in the description below.\n",
    "\n",
    "Our agent should learn the mechanics of maintaining a *racing line*, starting turns wide before committing to an apex to maximize speed out of the turn and minimize the total time spent navigating our \"gridworld\"."
   ]
  },
  {
   "cell_type": "markdown",
   "metadata": {
    "ExecuteTime": {
     "end_time": "2020-04-27T05:56:27.474661Z",
     "start_time": "2020-04-27T05:56:27.469801Z"
    }
   },
   "source": [
    "<img src=\"images/racetrack.png\" width=\"85%\" />\n",
    "<img src=\"images/racetrack2.png\" width=\"85%\" />"
   ]
  },
  {
   "cell_type": "code",
   "execution_count": 1,
   "metadata": {
    "ExecuteTime": {
     "end_time": "2020-05-03T05:26:48.770320Z",
     "start_time": "2020-05-03T05:26:48.142252Z"
    }
   },
   "outputs": [],
   "source": [
    "from __future__ import print_function\n",
    "from IPython.display import display\n",
    "from pandas.plotting import register_matplotlib_converters\n",
    "\n",
    "import numpy as np\n",
    "import matplotlib.pyplot as plt\n",
    "import pandas as pd\n",
    "import random\n",
    "\n",
    "\n",
    "pd.options.display.max_columns = None\n",
    "register_matplotlib_converters()\n",
    "\n",
    "%matplotlib inline"
   ]
  },
  {
   "cell_type": "markdown",
   "metadata": {},
   "source": [
    "## The Action-Space\n",
    "Driver can accelerate, coast, or decelerate in both X-Y axes."
   ]
  },
  {
   "cell_type": "code",
   "execution_count": 2,
   "metadata": {
    "ExecuteTime": {
     "end_time": "2020-05-03T05:26:48.858429Z",
     "start_time": "2020-05-03T05:26:48.773400Z"
    }
   },
   "outputs": [],
   "source": [
    "from enum import Enum\n",
    "\n",
    "\n",
    "MAX_VELOCITY = 5\n",
    "\n",
    "\n",
    "class ActionX(Enum):\n",
    "    \"\"\"+X is East\"\"\"\n",
    "    ACCEL = 'AX', 0, lambda x,y: (min(x + 1, MAX_VELOCITY), y), (1, 0)\n",
    "    STEADY = 'SX', 1, lambda x,y: (x, y), (0, 0)\n",
    "    DECEL = 'DX', 2, lambda x,y: (max(x - 1, -MAX_VELOCITY), y), (-1, 0)\n",
    "    def __init__(self, display_name, index, transition, unit_vector):\n",
    "        self.display_name = display_name\n",
    "        self.index = index\n",
    "        self.transition = transition  # matplotlib coordinates\n",
    "        self.unit_vector = unit_vector  # matplotlib coordinates\n",
    "        \n",
    "    def __str__(self):\n",
    "        return self.display_name\n",
    "    \n",
    "    \n",
    "class ActionY(Enum):\n",
    "    \"\"\"+Y is North\"\"\"\n",
    "    ACCEL = 'AY', 0, lambda x,y: (x, min(y + 1, MAX_VELOCITY)), (0, 1)\n",
    "    STEADY = 'SY', 1, lambda x,y: (x, y), (0, 0)\n",
    "    DECEL = 'DY', 2, lambda x,y: (x, max(y - 1, -MAX_VELOCITY)), (0, -1)\n",
    "    def __init__(self, display_name, index, transition, unit_vector):\n",
    "        self.display_name = display_name\n",
    "        self.index = index\n",
    "        self.transition = transition  # matplotlib coordinates\n",
    "        self.unit_vector = unit_vector  # matplotlib coordinates\n",
    "        \n",
    "    def __str__(self):\n",
    "        return self.display_name    "
   ]
  },
  {
   "cell_type": "markdown",
   "metadata": {},
   "source": [
    "## The Grid"
   ]
  },
  {
   "cell_type": "code",
   "execution_count": 3,
   "metadata": {
    "ExecuteTime": {
     "end_time": "2020-05-03T05:26:48.864638Z",
     "start_time": "2020-05-03T05:26:48.859998Z"
    }
   },
   "outputs": [],
   "source": [
    "from itertools import product\n",
    "\n",
    "\n",
    "class Track(object):\n",
    "    def __init__(self, coords):\n",
    "        # Everything is in matplotlib coordinates now (origin is bottom-left)\n",
    "        # Let's never think about row-major ever again and pretend it never happened in the first-place\n",
    "        self.coords = np.rot90(coords, 3)\n",
    "        \n",
    "        # Assumes start from bottom row\n",
    "        self.starts = list(product([x for x, val in enumerate(coords[-1]) if val > 0], [0]))\n",
    "        \n",
    "        # Assumes right handed turn ending in North East corner\n",
    "        end_y = set([i for i, val in enumerate(self.coords[-1]) if val > 0])\n",
    "        self.is_end = lambda x,y: y in end_y and x >= coords.shape[1] - 1\n",
    "        \n",
    "    def is_valid_position(self, x, y):\n",
    "        return self.coords[(x, y)] > 0\n"
   ]
  },
  {
   "cell_type": "code",
   "execution_count": 4,
   "metadata": {
    "ExecuteTime": {
     "end_time": "2020-05-03T05:26:48.882138Z",
     "start_time": "2020-05-03T05:26:48.866023Z"
    }
   },
   "outputs": [],
   "source": [
    "track_a_coords = np.array([\n",
    "    [0, 0, 0, 1, 1, 1, 1, 1, 1, 1, 1, 1, 1, 1, 1, 1, 1],\n",
    "    [0, 0, 1, 1, 1, 1, 1, 1, 1, 1, 1, 1, 1, 1, 1, 1, 1],\n",
    "    [0, 0, 1, 1, 1, 1, 1, 1, 1, 1, 1, 1, 1, 1, 1, 1, 1],\n",
    "    [0, 1, 1, 1, 1, 1, 1, 1, 1, 1, 1, 1, 1, 1, 1, 1, 1],\n",
    "    [1, 1, 1, 1, 1, 1, 1, 1, 1, 1, 1, 1, 1, 1, 1, 1, 1],\n",
    "    [1, 1, 1, 1, 1, 1, 1, 1, 1, 1, 1, 1, 1, 1, 1, 1, 1],\n",
    "    [1, 1, 1, 1, 1, 1, 1, 1, 1, 1, 0, 0, 0, 0, 0, 0, 0],\n",
    "    [1, 1, 1, 1, 1, 1, 1, 1, 1, 0, 0, 0, 0, 0, 0, 0, 0],\n",
    "    [1, 1, 1, 1, 1, 1, 1, 1, 1, 0, 0, 0, 0, 0, 0, 0, 0],\n",
    "    [1, 1, 1, 1, 1, 1, 1, 1, 1, 0, 0, 0, 0, 0, 0, 0, 0],\n",
    "    [1, 1, 1, 1, 1, 1, 1, 1, 1, 0, 0, 0, 0, 0, 0, 0, 0],\n",
    "    [1, 1, 1, 1, 1, 1, 1, 1, 1, 0, 0, 0, 0, 0, 0, 0, 0],\n",
    "    [1, 1, 1, 1, 1, 1, 1, 1, 1, 0, 0, 0, 0, 0, 0, 0, 0],\n",
    "    [1, 1, 1, 1, 1, 1, 1, 1, 1, 0, 0, 0, 0, 0, 0, 0, 0],\n",
    "    [0, 1, 1, 1, 1, 1, 1, 1, 1, 0, 0, 0, 0, 0, 0, 0, 0],\n",
    "    [0, 1, 1, 1, 1, 1, 1, 1, 1, 0, 0, 0, 0, 0, 0, 0, 0],\n",
    "    [0, 1, 1, 1, 1, 1, 1, 1, 1, 0, 0, 0, 0, 0, 0, 0, 0],\n",
    "    [0, 1, 1, 1, 1, 1, 1, 1, 1, 0, 0, 0, 0, 0, 0, 0, 0],\n",
    "    [0, 1, 1, 1, 1, 1, 1, 1, 1, 0, 0, 0, 0, 0, 0, 0, 0],\n",
    "    [0, 1, 1, 1, 1, 1, 1, 1, 1, 0, 0, 0, 0, 0, 0, 0, 0],\n",
    "    [0, 1, 1, 1, 1, 1, 1, 1, 1, 0, 0, 0, 0, 0, 0, 0, 0],\n",
    "    [0, 1, 1, 1, 1, 1, 1, 1, 1, 0, 0, 0, 0, 0, 0, 0, 0],\n",
    "    [0, 0, 1, 1, 1, 1, 1, 1, 1, 0, 0, 0, 0, 0, 0, 0, 0],\n",
    "    [0, 0, 1, 1, 1, 1, 1, 1, 1, 0, 0, 0, 0, 0, 0, 0, 0],\n",
    "    [0, 0, 1, 1, 1, 1, 1, 1, 1, 0, 0, 0, 0, 0, 0, 0, 0],\n",
    "    [0, 0, 1, 1, 1, 1, 1, 1, 1, 0, 0, 0, 0, 0, 0, 0, 0],\n",
    "    [0, 0, 1, 1, 1, 1, 1, 1, 1, 0, 0, 0, 0, 0, 0, 0, 0],\n",
    "    [0, 0, 1, 1, 1, 1, 1, 1, 1, 0, 0, 0, 0, 0, 0, 0, 0],\n",
    "    [0, 0, 1, 1, 1, 1, 1, 1, 1, 0, 0, 0, 0, 0, 0, 0, 0],\n",
    "    [0, 0, 0, 1, 1, 1, 1, 1, 1, 0, 0, 0, 0, 0, 0, 0, 0],\n",
    "    [0, 0, 0, 1, 1, 1, 1, 1, 1, 0, 0, 0, 0, 0, 0, 0, 0],\n",
    "    [0, 0, 0, 1, 1, 1, 1, 1, 1, 0, 0, 0, 0, 0, 0, 0, 0],\n",
    "])\n",
    "\n",
    "TRACK_A = Track(track_a_coords)"
   ]
  },
  {
   "cell_type": "code",
   "execution_count": 5,
   "metadata": {
    "ExecuteTime": {
     "end_time": "2020-05-03T05:26:48.909287Z",
     "start_time": "2020-05-03T05:26:48.883326Z"
    }
   },
   "outputs": [],
   "source": [
    "track_b_coords = np.array([\n",
    "    [0,0,0,0,0,0,0,0,0,0,0,0,0,0,0,0,1,1,1,1,1,1,1,1,1,1,1,1,1,1,1,1],     \n",
    "    [0,0,0,0,0,0,0,0,0,0,0,0,0,1,1,1,1,1,1,1,1,1,1,1,1,1,1,1,1,1,1,1],     \n",
    "    [0,0,0,0,0,0,0,0,0,0,0,0,1,1,1,1,1,1,1,1,1,1,1,1,1,1,1,1,1,1,1,1], \n",
    "    [0,0,0,0,0,0,0,0,0,0,0,1,1,1,1,1,1,1,1,1,1,1,1,1,1,1,1,1,1,1,1,1], \n",
    "    [0,0,0,0,0,0,0,0,0,0,0,1,1,1,1,1,1,1,1,1,1,1,1,1,1,1,1,1,1,1,1,1], \n",
    "    [0,0,0,0,0,0,0,0,0,0,0,1,1,1,1,1,1,1,1,1,1,1,1,1,1,1,1,1,1,1,1,1], \n",
    "    [0,0,0,0,0,0,0,0,0,0,0,1,1,1,1,1,1,1,1,1,1,1,1,1,1,1,1,1,1,1,1,1], \n",
    "    [0,0,0,0,0,0,0,0,0,0,0,1,1,1,1,1,1,1,1,1,1,1,1,1,1,1,1,1,1,1,1,1], \n",
    "    [0,0,0,0,0,0,0,0,0,0,0,0,1,1,1,1,1,1,1,1,1,1,1,1,1,1,1,1,1,1,1,1], \n",
    "    [0,0,0,0,0,0,0,0,0,0,0,0,0,1,1,1,1,1,1,1,1,1,1,1,1,1,1,1,1,1,1,1],     \n",
    "    [0,0,0,0,0,0,0,0,0,0,0,0,0,0,1,1,1,1,1,1,1,1,1,1,1,1,1,1,1,1,0,0], \n",
    "    [0,0,0,0,0,0,0,0,0,0,0,0,0,0,1,1,1,1,1,1,1,1,1,1,1,1,1,0,0,0,0,0], \n",
    "    [0,0,0,0,0,0,0,0,0,0,0,0,0,0,1,1,1,1,1,1,1,1,1,1,1,1,0,0,0,0,0,0], \n",
    "    [0,0,0,0,0,0,0,0,0,0,0,0,0,0,1,1,1,1,1,1,1,1,1,1,0,0,0,0,0,0,0,0], \n",
    "    [0,0,0,0,0,0,0,0,0,0,0,0,0,0,1,1,1,1,1,1,1,1,1,0,0,0,0,0,0,0,0,0],     \n",
    "    [0,0,0,0,0,0,0,0,0,0,0,0,0,1,1,1,1,1,1,1,1,1,1,0,0,0,0,0,0,0,0,0],    \n",
    "    [0,0,0,0,0,0,0,0,0,0,0,0,1,1,1,1,1,1,1,1,1,1,1,0,0,0,0,0,0,0,0,0],    \n",
    "    [0,0,0,0,0,0,0,0,0,0,0,1,1,1,1,1,1,1,1,1,1,1,1,0,0,0,0,0,0,0,0,0],    \n",
    "    [0,0,0,0,0,0,0,0,0,0,1,1,1,1,1,1,1,1,1,1,1,1,1,0,0,0,0,0,0,0,0,0],    \n",
    "    [0,0,0,0,0,0,0,0,0,1,1,1,1,1,1,1,1,1,1,1,1,1,1,0,0,0,0,0,0,0,0,0],   \n",
    "    [0,0,0,0,0,0,0,0,1,1,1,1,1,1,1,1,1,1,1,1,1,1,1,0,0,0,0,0,0,0,0,0],     \n",
    "    [0,0,0,0,0,0,0,1,1,1,1,1,1,1,1,1,1,1,1,1,1,1,1,0,0,0,0,0,0,0,0,0],     \n",
    "    [0,0,0,0,0,0,1,1,1,1,1,1,1,1,1,1,1,1,1,1,1,1,1,0,0,0,0,0,0,0,0,0],     \n",
    "    [0,0,0,0,0,1,1,1,1,1,1,1,1,1,1,1,1,1,1,1,1,1,1,0,0,0,0,0,0,0,0,0],     \n",
    "    [0,0,0,0,1,1,1,1,1,1,1,1,1,1,1,1,1,1,1,1,1,1,1,0,0,0,0,0,0,0,0,0],     \n",
    "    [0,0,0,1,1,1,1,1,1,1,1,1,1,1,1,1,1,1,1,1,1,1,1,0,0,0,0,0,0,0,0,0],     \n",
    "    [0,0,1,1,1,1,1,1,1,1,1,1,1,1,1,1,1,1,1,1,1,1,1,0,0,0,0,0,0,0,0,0],    \n",
    "    [0,1,1,1,1,1,1,1,1,1,1,1,1,1,1,1,1,1,1,1,1,1,1,0,0,0,0,0,0,0,0,0],    \n",
    "    [1,1,1,1,1,1,1,1,1,1,1,1,1,1,1,1,1,1,1,1,1,1,1,0,0,0,0,0,0,0,0,0],\n",
    "    [1,1,1,1,1,1,1,1,1,1,1,1,1,1,1,1,1,1,1,1,1,1,1,0,0,0,0,0,0,0,0,0],    \n",
    "    [1,1,1,1,1,1,1,1,1,1,1,1,1,1,1,1,1,1,1,1,1,1,1,0,0,0,0,0,0,0,0,0],\n",
    "])\n",
    "\n",
    "TRACK_B = Track(track_b_coords)"
   ]
  },
  {
   "cell_type": "code",
   "execution_count": 6,
   "metadata": {
    "ExecuteTime": {
     "end_time": "2020-05-03T05:26:48.920426Z",
     "start_time": "2020-05-03T05:26:48.910462Z"
    }
   },
   "outputs": [],
   "source": [
    "import matplotlib.lines as mlines\n",
    "from itertools import product\n",
    "\n",
    "\n",
    "def fill_square(x, y, ax, color, alpha=1.0):    \n",
    "    square_x = [x, x, x+1, x+1]\n",
    "    square_y = [y, y+1, y+1, y]\n",
    "    ax.fill(square_x, square_y, color, alpha=alpha)\n",
    "\n",
    "\n",
    "def plot_track(track, state=None, title='Race Track', padding=1, offset=0):    \n",
    "    fig, ax = plt.subplots(figsize=(5, 4))    \n",
    "    if title:\n",
    "        ax.set_title(title)\n",
    "    ax.set_xlim(-padding + offset, track.coords.shape[0] + padding + offset)\n",
    "    ax.set_ylim(-padding + offset, track.coords.shape[1] + padding + offset)\n",
    "\n",
    "    for x_ind, y_ind in product(range(-padding, track.coords.shape[0] + padding), \n",
    "                                range(-padding, track.coords.shape[1] + padding)):\n",
    "        x, y = x_ind + offset, y_ind + offset\n",
    "        if (0 <= x_ind < track.coords.shape[0] and \n",
    "                0 <= y_ind < track.coords.shape[1] and \n",
    "                track.coords[(x_ind, y_ind)] > 0):\n",
    "            ax.add_line(mlines.Line2D([x,x+1], [y,y], color='k', linewidth=0.5))\n",
    "            ax.add_line(mlines.Line2D([x,x], [y,y+1], color='k', linewidth=0.5))\n",
    "            ax.add_line(mlines.Line2D([x+1,x+1], [y,y+1], color='k', linewidth=0.5))\n",
    "            ax.add_line(mlines.Line2D([x,x+1], [y+1,y+1], color='k', linewidth=0.5))        \n",
    "            \n",
    "        if track.is_end(x_ind, y_ind):\n",
    "            fill_square(x, y, ax, 'g', alpha=0.5)            \n",
    "            \n",
    "    for x_ind, y_ind in track.starts:\n",
    "        x, y = x_ind + offset, y_ind + offset\n",
    "        fill_square(x, y, ax, 'r', alpha=0.5)\n",
    "        \n",
    "    # TODO: plot afterstate instead of state\n",
    "    if state:\n",
    "        x, y = state.position\n",
    "        x += offset\n",
    "        y += offset\n",
    "        fill_square(x, y, ax, 'b', alpha=0.5)\n",
    "        dx, dy = state.velocity\n",
    "        ax.arrow(x + 0.5, y + 0.5, dx, dy, head_width=0.5)\n",
    "        \n",
    "    return fig, ax"
   ]
  },
  {
   "cell_type": "code",
   "execution_count": 7,
   "metadata": {
    "ExecuteTime": {
     "end_time": "2020-05-03T05:26:51.661364Z",
     "start_time": "2020-05-03T05:26:48.921597Z"
    }
   },
   "outputs": [
    {
     "data": {
      "image/png": "[encoded data removed]",
      "text/plain": [
       "<Figure size 360x288 with 1 Axes>"
      ]
     },
     "metadata": {
      "needs_background": "light"
     },
     "output_type": "display_data"
    },
    {
     "data": {
      "image/png": "[encoded data removed]",
      "text/plain": [
       "<Figure size 360x288 with 1 Axes>"
      ]
     },
     "metadata": {
      "needs_background": "light"
     },
     "output_type": "display_data"
    }
   ],
   "source": [
    "_ = plot_track(TRACK_A, title='Track A')\n",
    "_ = plot_track(TRACK_B, title='Track B')\n",
    "# TODO: chicane, import Circuit de Monaco"
   ]
  },
  {
   "cell_type": "markdown",
   "metadata": {},
   "source": [
    "## The Environment"
   ]
  },
  {
   "cell_type": "code",
   "execution_count": 8,
   "metadata": {
    "ExecuteTime": {
     "end_time": "2020-05-03T05:26:51.672668Z",
     "start_time": "2020-05-03T05:26:51.663330Z"
    }
   },
   "outputs": [],
   "source": [
    "class DriverState(object):\n",
    "    def __init__(self, position, velocity=(0, 0), terminal=False):\n",
    "        self.position = position\n",
    "        self.velocity = velocity\n",
    "        self.terminal = terminal\n",
    "        \n",
    "    def __str__(self):\n",
    "        s = f'x=({self.position[0]},{self.position[1]}),v=({self.velocity[0]},{self.velocity[1]})'\n",
    "        if self.terminal:\n",
    "            s += ',TERMINAL'\n",
    "        return s\n",
    "    \n",
    "\n",
    "class Drive(object):\n",
    "    def __init__(self, track, slippage=0):\n",
    "        self.track = track\n",
    "        self.state = DriverState(random.choice(track.starts))\n",
    "        self.slippage = slippage\n",
    "        \n",
    "    def set_state(self, state):\n",
    "        self.state = state\n",
    "        \n",
    "    def _transition_state(self, ax, ay):\n",
    "        \"\"\"Try to apply the ACTION and check whether it is valid.\"\"\"\n",
    "        x, y = self.state.position\n",
    "        vx, vy = self.state.velocity\n",
    "        new_vx, new_vy = ay.transition(*ax.transition(vx, vy))\n",
    "        \n",
    "        # Tire slippage in X\n",
    "        if random.random() < self.slippage:\n",
    "            new_vx = vx\n",
    "            \n",
    "        # Tire slippage in Y\n",
    "        if random.random() < self.slippage:\n",
    "            new_vy = vy\n",
    "            \n",
    "        new_x, new_y = x + new_vx, y + new_vy\n",
    "        \n",
    "        terminal = False\n",
    "        if self.track.is_end(new_x, new_y):\n",
    "            # Terminal state, episode ends\n",
    "            terminal = True\n",
    "        elif (new_x < 0 or new_x >= self.track.coords.shape[0] or \n",
    "              new_y < 0 or new_y >= self.track.coords.shape[1] or \n",
    "              not self.track.is_valid_position(new_x, new_y)):\n",
    "            # CRASH\n",
    "            return None\n",
    "        return DriverState((new_x, new_y), (new_vx, new_vy), terminal=terminal)\n",
    "    \n",
    "    def transition(self, ax, ay):\n",
    "        \"\"\"Apply the given ACTION to the current state and return the new state and reward.\"\"\"\n",
    "        reward = -1\n",
    "        new_state = self._transition_state(ax, ay)\n",
    "\n",
    "        if new_state is None:\n",
    "            # CRASH\n",
    "            new_state = DriverState(random.choice(self.track.starts))\n",
    "        elif new_state.terminal:\n",
    "            # End of episode\n",
    "            reward = 0           \n",
    "\n",
    "        self.state = new_state\n",
    "        return self.state, reward   \n",
    "    \n",
    "    def plot(self):\n",
    "        plot_track(self.track, self.state)"
   ]
  },
  {
   "cell_type": "markdown",
   "metadata": {},
   "source": [
    "## The Agent"
   ]
  },
  {
   "cell_type": "code",
   "execution_count": 9,
   "metadata": {
    "ExecuteTime": {
     "end_time": "2020-05-03T05:26:51.687153Z",
     "start_time": "2020-05-03T05:26:51.674252Z"
    }
   },
   "outputs": [],
   "source": [
    "class Driver(object):\n",
    "    \"\"\"Learn the Optimal Policy beginning with a random policy and no priors.\"\"\"    \n",
    "    def __init__(self, track, name='Learned', epsilon=0):\n",
    "        self.action_values = np.zeros((track.coords.shape[0],  # state: x\n",
    "                                       track.coords.shape[1],  # state: y\n",
    "                                       2 * MAX_VELOCITY + 1,   # state: vx\n",
    "                                       2 * MAX_VELOCITY + 1,   # state: vy\n",
    "                                       len(ActionX) * len(ActionY)))\n",
    "        self._policy = np.random.randint(0, 9, \n",
    "                                         (track.coords.shape[0],\n",
    "                                          track.coords.shape[1],\n",
    "                                          2 * MAX_VELOCITY + 1,\n",
    "                                          2 * MAX_VELOCITY + 1))\n",
    "        self.track = track        \n",
    "        self.name = name\n",
    "        self.epsilon = epsilon\n",
    "        \n",
    "    @staticmethod\n",
    "    def itoa(i):\n",
    "        \"\"\"Int to Action\"\"\"\n",
    "        if i < 0 or i > 8:\n",
    "            raise RuntimeError(i)          \n",
    "            \n",
    "        ax = ActionX.STEADY\n",
    "        vx = i % 3\n",
    "        if vx == 0:\n",
    "            ax = ActionX.ACCEL\n",
    "        elif vx == 2:\n",
    "            ax = ActionX.DECEL\n",
    "            \n",
    "        ay = ActionY.STEADY\n",
    "        vy = i // 3\n",
    "        if vy == 0:\n",
    "            ay = ActionY.ACCEL\n",
    "        elif vy == 2:\n",
    "            ay = ActionY.DECEL\n",
    "            \n",
    "        return ax, ay\n",
    "        \n",
    "        \n",
    "    def policy(self, state, explore=True):\n",
    "        if explore and random.random() < self.epsilon:\n",
    "            i = np.random.randint(0, 9)\n",
    "        else:\n",
    "            i = self._policy[state]\n",
    "        return i\n",
    "    \n",
    "    def update_state_policy(self, s):\n",
    "        old_i = self._policy[s]\n",
    "        new_i = np.argmax(self.action_values[s])\n",
    "        \n",
    "        # Not stable\n",
    "        if new_i != old_i:\n",
    "            self._policy[s] = new_i\n",
    "            return False\n",
    "        \n",
    "        # Stable\n",
    "        return True     \n",
    "    \n",
    "    def policy_improvement(self):\n",
    "        \"\"\"Update our policy based on our latest action_values\"\"\"\n",
    "        policy_stable = True\n",
    "        for s, _ in np.ndenumerate(self._policy):\n",
    "            stable = self.update_state_policy(s)\n",
    "            if not stable:\n",
    "                policy_stable = False\n",
    "            \n",
    "        return policy_stable\n",
    "    \n",
    "    def plot_action_values(self, title=None, padding=1):\n",
    "        \"\"\"\n",
    "        Display a colormap using the highest explored outcome for each position, \n",
    "        or the mean value if no state in the position has been observed\n",
    "        \"\"\"\n",
    "        if title == None:\n",
    "            title = f'{self.name}: Mean Action Values'\n",
    "        fig, ax = plot_track(self.track, title=title, padding=padding, offset=0.5)\n",
    "        mean_action_values = np.zeros((self.action_values.shape[0] + 2*padding, \n",
    "                                       self.action_values.shape[1] + 2*padding))\n",
    "        for x, y in product(range(self.action_values.shape[0]), range(self.action_values.shape[1])):\n",
    "            q = self.action_values[(x, y)]\n",
    "            explored = q[np.nonzero(q)]\n",
    "            display_val = 0  # Default: 0 (white)\n",
    "            if explored.size > 0:  # Position has observations: plot the optimistic estimate\n",
    "                display_val = np.max(explored)\n",
    "            elif self.track.is_valid_position(x, y):  # Unexplored position: plot the mean\n",
    "                display_val = np.mean(self.action_values)\n",
    "            mean_action_values[(x + padding, y + padding)] = display_val\n",
    "                \n",
    "        im = ax.imshow(mean_action_values.T, cmap='hot', alpha=0.9)\n",
    "        fig.colorbar(im, ax=ax)\n",
    "        \n",
    "    # TODO: plot policy"
   ]
  },
  {
   "cell_type": "markdown",
   "metadata": {},
   "source": [
    "## The Algorithm: Monte Carlo\n",
    "Unlike Value Iteration and Linear Programming, Monte Carlo allows us to focus on samples that are relevant. We target episodes beginning from the starting the line and can avoid training in the many invalid states outside of our track as well as unusual states, such as driving in reverse near the finish line."
   ]
  },
  {
   "cell_type": "code",
   "execution_count": 10,
   "metadata": {
    "ExecuteTime": {
     "end_time": "2020-05-03T05:26:51.700276Z",
     "start_time": "2020-05-03T05:26:51.688407Z"
    }
   },
   "outputs": [],
   "source": [
    "# TODO: parallellize\n",
    "def mc_control(drive, every_visit=True, gamma=0.9, epsilon=0.1,\n",
    "               T=int(1e5), iterations=int(1e4), log_frequency=None):\n",
    "    if log_frequency is None:\n",
    "        log_frequency = iterations // 5 if iterations > 10 else iterations + 1\n",
    "\n",
    "    agent = Driver(drive.track, name='Max Verstappen', epsilon=epsilon)\n",
    "    mean_return = np.zeros((drive.track.coords.shape[0],  # state: x\n",
    "                            drive.track.coords.shape[1],  # state: y\n",
    "                            2 * MAX_VELOCITY + 1,         # state: vx\n",
    "                            2 * MAX_VELOCITY + 1,         # state: vy\n",
    "                            len(ActionX) * len(ActionY)))\n",
    "    return_count = np.zeros((drive.track.coords.shape[0],  # state: x\n",
    "                             drive.track.coords.shape[1],  # state: y\n",
    "                             2 * MAX_VELOCITY + 1,         # state: vx\n",
    "                             2 * MAX_VELOCITY + 1,         # state: vy\n",
    "                             len(ActionX) * len(ActionY)))    \n",
    "    for i in range(1, iterations):\n",
    "        if i % log_frequency == 0:\n",
    "            print(f'\\tIteration {i} of {iterations}...')\n",
    "            agent.plot_action_values(title=f'MC Control: Iteration {i}')\n",
    "\n",
    "        # Simulate episode from random (state, action)\n",
    "        x0, y0 = random.choice(drive.track.starts)\n",
    "        vx0, vy0 = (0, 0) \n",
    "        drive.set_state(DriverState(position=(x0, y0), velocity=(vx0, vy0)))                                                                             \n",
    "        s0 = (x0, y0, vx0, vy0)  # position_x, position_y, velocity_x, velocity_y\n",
    "        episode = [s0]  # s0, a0, s1, r1, a1, s2, r2, a2, s3...\n",
    "                        \n",
    "        a0 = np.random.randint(0, 8)\n",
    "        steps = 0\n",
    "        terminated = False\n",
    "        while steps < T:\n",
    "            state, r1 = drive.transition(*Driver.itoa(a0))\n",
    "            s1 = (state.position[0], state.position[1], state.velocity[0], state.velocity[1])\n",
    "            episode.extend([a0, s1, r1]) \n",
    "            if r1 >= 0:  # terminal state\n",
    "                terminated = True\n",
    "                break\n",
    "            a0 = agent.policy(s1)\n",
    "            steps += 1\n",
    "            \n",
    "        if not terminated:\n",
    "            continue\n",
    "\n",
    "        # Replay backwards from the end of the episode\n",
    "        ret = 0\n",
    "        j = steps - 1\n",
    "        episode_returns = {}\n",
    "        while j > 0:\n",
    "            r1 = episode[3*j + 3]\n",
    "            a0 = episode[3*j + 1]\n",
    "            s0 = episode[3*j - 1]\n",
    "            j -= 1\n",
    "\n",
    "            ret = r1 + gamma * ret\n",
    "            key = (s0[0], s0[1], s0[2], s0[3], a0)\n",
    "            episode_returns[key] = ret\n",
    "            if every_visit:\n",
    "                mean_ret = mean_return[key]\n",
    "                c = return_count[key]\n",
    "                mean_return[key] = (mean_ret * c + ret) / (c + 1)\n",
    "                return_count[key] = c + 1\n",
    "\n",
    "        # Update action values q(s,a)\n",
    "        for key, ret in episode_returns.items():\n",
    "            if not every_visit:\n",
    "                mean_ret = mean_return[key]\n",
    "                c = return_count[key]\n",
    "                mean_return[key] = (mean_ret * c + ret) / (c + 1)\n",
    "                return_count[key] = c + 1\n",
    "            agent.action_values[key] = mean_return[key]\n",
    "\n",
    "        # Update policy\n",
    "        agent.policy_improvement()\n",
    "    return agent"
   ]
  },
  {
   "cell_type": "markdown",
   "metadata": {},
   "source": [
    "### Learning the circuit"
   ]
  },
  {
   "cell_type": "code",
   "execution_count": 11,
   "metadata": {
    "ExecuteTime": {
     "end_time": "2020-05-03T05:54:35.511157Z",
     "start_time": "2020-05-03T05:26:51.701402Z"
    }
   },
   "outputs": [
    {
     "name": "stdout",
     "output_type": "stream",
     "text": [
      "\tIteration 2000 of 10000...\n",
      "\tIteration 4000 of 10000...\n",
      "\tIteration 6000 of 10000...\n",
      "\tIteration 8000 of 10000...\n"
     ]
    },
    {
     "data": {
      "image/png": "[encoded data removed]",
      "text/plain": [
       "<Figure size 360x288 with 2 Axes>"
      ]
     },
     "metadata": {
      "needs_background": "light"
     },
     "output_type": "display_data"
    },
    {
     "data": {
      "image/png": "[encoded data removed]",
      "text/plain": [
       "<Figure size 360x288 with 2 Axes>"
      ]
     },
     "metadata": {
      "needs_background": "light"
     },
     "output_type": "display_data"
    },
    {
     "data": {
      "image/png": "[encoded data removed]",
      "text/plain": [
       "<Figure size 360x288 with 2 Axes>"
      ]
     },
     "metadata": {
      "needs_background": "light"
     },
     "output_type": "display_data"
    },
    {
     "data": {
      "image/png": "[encoded data removed]",
      "text/plain": [
       "<Figure size 360x288 with 2 Axes>"
      ]
     },
     "metadata": {
      "needs_background": "light"
     },
     "output_type": "display_data"
    },
    {
     "data": {
      "image/png": "[encoded data removed]",
      "text/plain": [
       "<Figure size 360x288 with 2 Axes>"
      ]
     },
     "metadata": {
      "needs_background": "light"
     },
     "output_type": "display_data"
    }
   ],
   "source": [
    "# Train Max Verstappen at Spa-Francorchamps\n",
    "a = mc_control(Drive(TRACK_A))\n",
    "a.plot_action_values(title=f'MC Control: Track A')"
   ]
  },
  {
   "cell_type": "markdown",
   "metadata": {},
   "source": [
    "### The Test"
   ]
  },
  {
   "cell_type": "code",
   "execution_count": 12,
   "metadata": {
    "ExecuteTime": {
     "end_time": "2020-05-03T05:54:35.516406Z",
     "start_time": "2020-05-03T05:54:35.512358Z"
    }
   },
   "outputs": [],
   "source": [
    "def test_drive(track, driver, max_steps=16):\n",
    "    environment = Drive(track)\n",
    "    \n",
    "    i = 0\n",
    "    r = -1\n",
    "    state = environment.state\n",
    "    while i < max_steps and r < 0:\n",
    "        environment.plot() \n",
    "        \n",
    "        s = (state.position[0], state.position[1], state.velocity[0], state.velocity[1])\n",
    "        a = driver.policy(s, explore=False)\n",
    "        state, r = environment.transition(*Driver.itoa(a))\n",
    "        i += 1\n",
    "        \n",
    "    if r < 0:\n",
    "        print(\"Max, that was embarassing.\")"
   ]
  },
  {
   "cell_type": "code",
   "execution_count": 13,
   "metadata": {
    "ExecuteTime": {
     "end_time": "2020-05-03T05:54:52.013725Z",
     "start_time": "2020-05-03T05:54:35.517454Z"
    },
    "scrolled": false
   },
   "outputs": [
    {
     "data": {
      "image/png": "[encoded data removed]",
      "text/plain": [
       "<Figure size 360x288 with 1 Axes>"
      ]
     },
     "metadata": {
      "needs_background": "light"
     },
     "output_type": "display_data"
    },
    {
     "data": {
      "image/png": "[encoded data removed]",
      "text/plain": [
       "<Figure size 360x288 with 1 Axes>"
      ]
     },
     "metadata": {
      "needs_background": "light"
     },
     "output_type": "display_data"
    },
    {
     "data": {
      "image/png": "[encoded data removed]",
      "text/plain": [
       "<Figure size 360x288 with 1 Axes>"
      ]
     },
     "metadata": {
      "needs_background": "light"
     },
     "output_type": "display_data"
    },
    {
     "data": {
      "image/png": "[encoded data removed]",
      "text/plain": [
       "<Figure size 360x288 with 1 Axes>"
      ]
     },
     "metadata": {
      "needs_background": "light"
     },
     "output_type": "display_data"
    },
    {
     "data": {
      "image/png": "[encoded data removed]",
      "text/plain": [
       "<Figure size 360x288 with 1 Axes>"
      ]
     },
     "metadata": {
      "needs_background": "light"
     },
     "output_type": "display_data"
    },
    {
     "data": {
      "image/png": "[encoded data removed]",
      "text/plain": [
       "<Figure size 360x288 with 1 Axes>"
      ]
     },
     "metadata": {
      "needs_background": "light"
     },
     "output_type": "display_data"
    },
    {
     "data": {
      "image/png": "[encoded data removed]",
      "text/plain": [
       "<Figure size 360x288 with 1 Axes>"
      ]
     },
     "metadata": {
      "needs_background": "light"
     },
     "output_type": "display_data"
    },
    {
     "data": {
      "image/png": "[encoded data removed]",
      "text/plain": [
       "<Figure size 360x288 with 1 Axes>"
      ]
     },
     "metadata": {
      "needs_background": "light"
     },
     "output_type": "display_data"
    },
    {
     "data": {
      "image/png": "[encoded data removed]",
      "text/plain": [
       "<Figure size 360x288 with 1 Axes>"
      ]
     },
     "metadata": {
      "needs_background": "light"
     },
     "output_type": "display_data"
    },
    {
     "data": {
      "image/png": "[encoded data removed]",
      "text/plain": [
       "<Figure size 360x288 with 1 Axes>"
      ]
     },
     "metadata": {
      "needs_background": "light"
     },
     "output_type": "display_data"
    },
    {
     "data": {
      "image/png": "[encoded data removed]",
      "text/plain": [
       "<Figure size 360x288 with 1 Axes>"
      ]
     },
     "metadata": {
      "needs_background": "light"
     },
     "output_type": "display_data"
    },
    {
     "data": {
      "image/png": "[encoded data removed]",
      "text/plain": [
       "<Figure size 360x288 with 1 Axes>"
      ]
     },
     "metadata": {
      "needs_background": "light"
     },
     "output_type": "display_data"
    },
    {
     "data": {
      "image/png": "[encoded data removed]",
      "text/plain": [
       "<Figure size 360x288 with 1 Axes>"
      ]
     },
     "metadata": {
      "needs_background": "light"
     },
     "output_type": "display_data"
    },
    {
     "data": {
      "image/png": "[encoded data removed]",
      "text/plain": [
       "<Figure size 360x288 with 1 Axes>"
      ]
     },
     "metadata": {
      "needs_background": "light"
     },
     "output_type": "display_data"
    },
    {
     "data": {
      "image/png": "[encoded data removed]",
      "text/plain": [
       "<Figure size 360x288 with 1 Axes>"
      ]
     },
     "metadata": {
      "needs_background": "light"
     },
     "output_type": "display_data"
    }
   ],
   "source": [
    "# Time Trial Max Verstappen\n",
    "test_drive(TRACK_A, a)"
   ]
  },
  {
   "cell_type": "markdown",
   "metadata": {},
   "source": [
    "## Track B: Monaco"
   ]
  },
  {
   "cell_type": "code",
   "execution_count": null,
   "metadata": {
    "ExecuteTime": {
     "start_time": "2020-05-03T05:26:33.818Z"
    }
   },
   "outputs": [
    {
     "name": "stdout",
     "output_type": "stream",
     "text": [
      "\tIteration 2000 of 10000...\n"
     ]
    }
   ],
   "source": [
    "# Max putting in his time at Monte Carlo, Monaco\n",
    "b = mc_control(Drive(TRACK_B))\n",
    "b.plot_action_values(title=f'MC Control: Track B')"
   ]
  },
  {
   "cell_type": "code",
   "execution_count": null,
   "metadata": {
    "ExecuteTime": {
     "start_time": "2020-05-03T05:26:33.820Z"
    }
   },
   "outputs": [],
   "source": [
    "# Time Trial \n",
    "test_drive(TRACK_B, b)"
   ]
  },
  {
   "cell_type": "markdown",
   "metadata": {},
   "source": [
    "### Specification Gaming: Max Verstappen is a dirty cheater\n",
    "The driver learned that it can repeatedly crash by moving backwards from the starting line until it gets to a solved start position where it has previously successfully completed the turn.\n",
    "\n",
    "Let's try that again after forcing Max to pay for damages each time he crashes."
   ]
  },
  {
   "cell_type": "code",
   "execution_count": null,
   "metadata": {
    "ExecuteTime": {
     "start_time": "2020-05-03T05:26:33.821Z"
    }
   },
   "outputs": [],
   "source": [
    "class DriveRevised(Drive):\n",
    "    def transition(self, ax, ay):\n",
    "        \"\"\"Apply the given ACTION to the current state and return the new state and reward.\"\"\"\n",
    "        reward = -1\n",
    "        new_state = self._transition_state(ax, ay)\n",
    "\n",
    "        if new_state is None:\n",
    "            # CRASH\n",
    "            new_state = DriverState(random.choice(self.track.starts))\n",
    "            reward = -10  # The new penalty for crashing\n",
    "        elif new_state.terminal:\n",
    "            # End of episode\n",
    "            reward = 0          \n",
    "\n",
    "        self.state = new_state\n",
    "        return self.state, reward   "
   ]
  },
  {
   "cell_type": "code",
   "execution_count": null,
   "metadata": {
    "ExecuteTime": {
     "start_time": "2020-05-03T05:26:33.823Z"
    }
   },
   "outputs": [],
   "source": [
    "b_revised = mc_control(DriveRevised(TRACK_B))\n",
    "b_revised.plot_action_values(title=f'MC Control: Track B (Revised)')"
   ]
  },
  {
   "cell_type": "code",
   "execution_count": null,
   "metadata": {
    "ExecuteTime": {
     "start_time": "2020-05-03T05:26:33.824Z"
    }
   },
   "outputs": [],
   "source": [
    "test_drive(TRACK_B, b_revised)"
   ]
  },
  {
   "cell_type": "markdown",
   "metadata": {},
   "source": [
    "## Consider Slippage\n",
    "Let's add the complexity of probabilistic state transitions by treating tire traction as non-deterministic. However our algorithm doesn't require a model for the environment and our approach is unchanged. Changes to our environment are fully captured in our episode generation process.\n",
    "\n",
    "We expect Max to drive a bit more conservatively when losing control is a risk."
   ]
  },
  {
   "cell_type": "code",
   "execution_count": null,
   "metadata": {
    "ExecuteTime": {
     "start_time": "2020-05-03T05:26:33.826Z"
    }
   },
   "outputs": [],
   "source": [
    "a_slippage = mc_control(DriveRevised(TRACK_A, slippage=0.1), iterations=int(1e5))\n",
    "a_slippage.plot_action_values(title=f'MC Control: Track A w/ Slippage')"
   ]
  },
  {
   "cell_type": "code",
   "execution_count": null,
   "metadata": {
    "ExecuteTime": {
     "start_time": "2020-05-03T05:26:33.828Z"
    }
   },
   "outputs": [],
   "source": [
    "test_drive(TRACK_A, a_slippage)"
   ]
  },
  {
   "cell_type": "code",
   "execution_count": null,
   "metadata": {
    "ExecuteTime": {
     "start_time": "2020-05-03T05:26:33.829Z"
    }
   },
   "outputs": [],
   "source": [
    "b_slippage = mc_control(DriveRevised(TRACK_B, slippage=0.1), iterations=int(1e5))\n",
    "b_slippage.plot_action_values(title=f'MC Control: Track A w/ Slippage')"
   ]
  },
  {
   "cell_type": "code",
   "execution_count": null,
   "metadata": {
    "ExecuteTime": {
     "start_time": "2020-05-03T05:26:33.830Z"
    }
   },
   "outputs": [],
   "source": [
    "test_drive(TRACK_B, b_slippage)"
   ]
  },
  {
   "cell_type": "markdown",
   "metadata": {
    "ExecuteTime": {
     "end_time": "2020-04-28T05:00:13.511006Z",
     "start_time": "2020-04-28T05:00:13.509254Z"
    }
   },
   "source": [
    "## Temporal Difference Learning\n",
    "Let's have Max update his actions throughout the turn, rather than waiting for until after he completes the turn."
   ]
  },
  {
   "cell_type": "code",
   "execution_count": null,
   "metadata": {
    "ExecuteTime": {
     "start_time": "2020-05-03T05:26:33.832Z"
    }
   },
   "outputs": [],
   "source": [
    "def td_control(drive, alpha, every_visit=True, gamma=0.9, epsilon=0.1,\n",
    "               T=int(1e5), iterations=int(1e4), log_frequency=None):\n",
    "    if log_frequency is None:\n",
    "        log_frequency = iterations // 5 if iterations > 10 else iterations + 1\n",
    "\n",
    "    agent = Driver(drive.track, name='Max Verstappen', epsilon=epsilon)\n",
    "    for i in range(1, iterations):\n",
    "        if i % log_frequency == 0:\n",
    "            print(f'\\tIteration {i} of {iterations}...')\n",
    "            agent.plot_action_values(title=f'MC Control: Iteration {i}')\n",
    "\n",
    "        # Simulate episode from random (state, action)\n",
    "        x0, y0 = random.choice(drive.track.starts)\n",
    "        vx0, vy0 = (0, 0) \n",
    "        drive.set_state(DriverState(position=(x0, y0), velocity=(vx0, vy0)))\n",
    "        \n",
    "        s0 = (x0, y0, vx0, vy0)\n",
    "        a0 = np.random.randint(0, 8)\n",
    "        sa0 = (s0[0], s0[1], s0[2], s0[3], a0)\n",
    "        \n",
    "        steps = 0\n",
    "        while steps < T:\n",
    "            state, r1 = drive.transition(*Driver.itoa(a0))\n",
    "            s1 = (state.position[0], state.position[1], state.velocity[0], state.velocity[1])\n",
    "            if r1 >= 0:  # terminal state\n",
    "                break\n",
    "                \n",
    "            a1 = agent.policy(s1)            \n",
    "            sa1 = (s1[0], s1[1], s1[2], s1[3], a1)\n",
    "            q0 = agent.action_values[sa0]\n",
    "            q1 = agent.action_values[sa1]     \n",
    "            \n",
    "            # On-Policy update, mid-episode\n",
    "            agent.action_values[sa0] = q0 + alpha * (r1 + gamma * q1 - q0)\n",
    "            agent.update_state_policy((sa0[0], sa0[1], sa0[2], sa0[3]))\n",
    "            \n",
    "            # Prep the next timestep            \n",
    "            a0 = a1\n",
    "            sa0 = sa1              \n",
    "            steps += 1       \n",
    "    return agent"
   ]
  },
  {
   "cell_type": "code",
   "execution_count": null,
   "metadata": {
    "ExecuteTime": {
     "start_time": "2020-05-03T05:26:33.833Z"
    }
   },
   "outputs": [],
   "source": [
    "a_td = td_control(DriveRevised(TRACK_A, slippage=0.1), 0.05, iterations=int(1e5))\n",
    "a_td.plot_action_values(title=f'TD Control: Track A w/ Slippage')"
   ]
  },
  {
   "cell_type": "code",
   "execution_count": null,
   "metadata": {
    "ExecuteTime": {
     "start_time": "2020-05-03T05:26:33.834Z"
    }
   },
   "outputs": [],
   "source": [
    "test_drive(TRACK_A, a_td)"
   ]
  },
  {
   "cell_type": "code",
   "execution_count": null,
   "metadata": {
    "ExecuteTime": {
     "start_time": "2020-05-03T05:26:33.836Z"
    }
   },
   "outputs": [],
   "source": [
    "b_td = td_control(DriveRevised(TRACK_B, slippage=0.1), 0.05, iterations=int(1e5))\n",
    "b_td.plot_action_values(title=f'TD Control: Track B w/ Slippage')"
   ]
  },
  {
   "cell_type": "code",
   "execution_count": null,
   "metadata": {
    "ExecuteTime": {
     "start_time": "2020-05-03T05:26:33.837Z"
    }
   },
   "outputs": [],
   "source": [
    "test_drive(TRACK_B, b_td)"
   ]
  },
  {
   "cell_type": "code",
   "execution_count": null,
   "metadata": {},
   "outputs": [],
   "source": []
  }
 ],
 "metadata": {
  "kernelspec": {
   "display_name": "Python 3",
   "language": "python",
   "name": "python3"
  },
  "language_info": {
   "codemirror_mode": {
    "name": "ipython",
    "version": 3
   },
   "file_extension": ".py",
   "mimetype": "text/x-python",
   "name": "python",
   "nbconvert_exporter": "python",
   "pygments_lexer": "ipython3",
   "version": "3.6.9"
  }
 },
 "nbformat": 4,
 "nbformat_minor": 4
}
