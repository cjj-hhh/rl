{
 "cells": [
  {
   "cell_type": "markdown",
   "metadata": {},
   "source": [
    "# Gridworld\n",
    "In this notebook, we repeatedly solve a simple environment to explore the characteristics of the following algorithm classes, {**Linear Programming (LP)**, **Dynamic Programming (DP)**, **Monte Carlo (MC)**, and **Temporal Difference Learning (TD)**}. For **MC** and **TD**, we also explore further problem spaces in **Prediction**, **On-Policy Control**, and **Off-Policy Control**. We also examine a generalization of **TD**, **N-Step TD**.\n",
    "\n",
    "From [Sutton & Barto](http://incompleteideas.net/book/the-book-2nd.html) Example 3.5/3.8 and Berkeley [CS287: Advanced Robotics](https://people.eecs.berkeley.edu/~pabbeel/cs287-fa12/slides/mdps-exact-methods.pdf) (see slide 30)"
   ]
  },
  {
   "cell_type": "markdown",
   "metadata": {},
   "source": [
    "<img src=\"images/gridworld.png\" width=\"85%\" />"
   ]
  },
  {
   "cell_type": "code",
   "execution_count": 1,
   "metadata": {
    "ExecuteTime": {
     "end_time": "2020-05-14T17:57:51.974253Z",
     "start_time": "2020-05-14T17:57:49.871849Z"
    }
   },
   "outputs": [],
   "source": [
    "from __future__ import print_function\n",
    "from IPython.display import display, clear_output\n",
    "from datetime import datetime, timedelta\n",
    "from itertools import product\n",
    "from pandas.plotting import register_matplotlib_converters\n",
    "\n",
    "import ipywidgets as widgets\n",
    "import numpy as np\n",
    "import matplotlib.pyplot as plt\n",
    "import pandas as pd\n",
    "import random\n",
    "import tensorflow as tf\n",
    "\n",
    "\n",
    "pd.options.display.max_columns = None\n",
    "register_matplotlib_converters()\n",
    "\n",
    "\n",
    "%matplotlib inline"
   ]
  },
  {
   "cell_type": "code",
   "execution_count": 2,
   "metadata": {
    "ExecuteTime": {
     "end_time": "2020-05-14T17:57:51.978492Z",
     "start_time": "2020-05-14T17:57:51.976143Z"
    }
   },
   "outputs": [],
   "source": [
    "assert tf.__version__.startswith('2'), tf.__version__"
   ]
  },
  {
   "cell_type": "code",
   "execution_count": 3,
   "metadata": {
    "ExecuteTime": {
     "end_time": "2020-05-14T17:57:56.237366Z",
     "start_time": "2020-05-14T17:57:51.979845Z"
    }
   },
   "outputs": [
    {
     "name": "stdout",
     "output_type": "stream",
     "text": [
      "Looking in indexes: https://pypi.org/simple, https://pypi.lyft.net/pypi/\n",
      "Collecting ortools\n",
      "  Downloading ortools-7.6.7691-cp36-cp36m-manylinux1_x86_64.whl (28.9 MB)\n",
      "\u001b[K     |████████████████████████████████| 28.9 MB 17.7 MB/s eta 0:00:01\n",
      "\u001b[?25hRequirement already satisfied: protobuf>=3.11.2 in /code/venvs/venv/lib/python3.6/site-packages (from ortools) (3.11.3)\n",
      "Requirement already satisfied: six>=1.10 in /code/venvs/venv/lib/python3.6/site-packages (from ortools) (1.12.0)\n",
      "Requirement already satisfied: setuptools in /code/venvs/venv/lib/python3.6/site-packages (from protobuf>=3.11.2->ortools) (45.2.0)\n",
      "Installing collected packages: ortools\n",
      "Successfully installed ortools-7.6.7691\n",
      "Note: you may need to restart the kernel to use updated packages.\n"
     ]
    }
   ],
   "source": [
    "%pip install ortools\n",
    "\n",
    "from ortools.linear_solver import pywraplp\n",
    "\n",
    "# need to restart notebook after installing first time\n",
    "_ = pywraplp.Solver('LinearProgrammingGridworld', pywraplp.Solver.GLOP_LINEAR_PROGRAMMING)"
   ]
  },
  {
   "cell_type": "markdown",
   "metadata": {
    "ExecuteTime": {
     "end_time": "2020-04-22T07:14:42.383807Z",
     "start_time": "2020-04-22T07:12:50.820Z"
    }
   },
   "source": [
    "<img src=\"images/gridworld2.png\" width=\"85%\" />"
   ]
  },
  {
   "cell_type": "markdown",
   "metadata": {},
   "source": [
    "## The Grid\n",
    "A digital [frontier](https://www.youtube.com/watch?v=4-J4duzP8Ng)..."
   ]
  },
  {
   "cell_type": "code",
   "execution_count": 4,
   "metadata": {
    "ExecuteTime": {
     "end_time": "2020-05-14T17:57:56.241872Z",
     "start_time": "2020-05-14T17:57:56.238924Z"
    }
   },
   "outputs": [],
   "source": [
    "# optimal strategy, gamma=0.9\n",
    "expected_values = np.array([\n",
    "    [22.0, 24.4, 22.0, 19.4, 17.5],\n",
    "    [19.8, 22.0, 19.8, 17.8, 16.0],\n",
    "    [17.8, 19.8, 17.8, 16.0, 14.4],\n",
    "    [16.0, 17.8, 16.0, 14.4, 13.0],\n",
    "    [14.4, 16.0, 14.4, 13.0, 11.7]\n",
    "])"
   ]
  },
  {
   "cell_type": "markdown",
   "metadata": {
    "ExecuteTime": {
     "end_time": "2020-04-20T06:46:22.702445Z",
     "start_time": "2020-04-20T06:46:22.696856Z"
    }
   },
   "source": [
    "## Actions\n",
    "[North](https://www.youtube.com/watch?v=K31sJIbv_20), [East](https://www.youtube.com/watch?v=dq3rVbGCijo), [West](https://www.youtube.com/watch?v=2LVLo61M0rY), [South](https://www.youtube.com/watch?v=zRYQJw_pYgY)"
   ]
  },
  {
   "cell_type": "code",
   "execution_count": 5,
   "metadata": {
    "ExecuteTime": {
     "end_time": "2020-05-14T17:57:56.248434Z",
     "start_time": "2020-05-14T17:57:56.242939Z"
    }
   },
   "outputs": [],
   "source": [
    "from enum import Enum\n",
    "\n",
    "\n",
    "class Action(Enum):\n",
    "    NORTH = 'N', 0, lambda x: (x[0] - 1, x[1]), (0, 1)\n",
    "    EAST = 'E', 1, lambda x: (x[0], x[1] + 1), (1, 0)\n",
    "    WEST = 'W', 2, lambda x: (x[0], x[1] - 1), (-1, 0)\n",
    "    SOUTH = 'S', 3, lambda x: (x[0] + 1, x[1]), (0, -1)\n",
    "    def __init__(self, display_name, index, transition, direction):\n",
    "        self.display_name = display_name\n",
    "        self.index = index\n",
    "        self.transition = transition  # numpy row-major coordinates\n",
    "        self.direction = direction  # matplotlib coordinates\n",
    "        \n",
    "    def __str__(self):\n",
    "        return self.display_name"
   ]
  },
  {
   "cell_type": "markdown",
   "metadata": {},
   "source": [
    "## Agents"
   ]
  },
  {
   "cell_type": "code",
   "execution_count": 6,
   "metadata": {
    "ExecuteTime": {
     "end_time": "2020-05-14T17:57:56.252316Z",
     "start_time": "2020-05-14T17:57:56.249542Z"
    }
   },
   "outputs": [],
   "source": [
    "class Agent(object):\n",
    "    def __init__(self, name):\n",
    "        self.name = name\n",
    "        \n",
    "    def policy(self, state):\n",
    "        \"\"\"Return an Action given STATE\"\"\"\n",
    "        raise NotImplementedError()\n"
   ]
  },
  {
   "cell_type": "code",
   "execution_count": 7,
   "metadata": {
    "ExecuteTime": {
     "end_time": "2020-05-14T17:57:56.257936Z",
     "start_time": "2020-05-14T17:57:56.253366Z"
    }
   },
   "outputs": [],
   "source": [
    "class GreedyAgent(Agent):\n",
    "    \"\"\"\n",
    "    This agent has perfect information regarding the environment transition probabilities and rewards.\n",
    "    \n",
    "    This approach is infeasible for complex problems where the environment is unknown.\n",
    "    \"\"\"\n",
    "    def __init__(self, state_values=None, name='Optimal', gamma=0.9):\n",
    "        super().__init__(name)\n",
    "        if state_values is None:\n",
    "            state_values = np.random.randn(5, 5)\n",
    "        self.state_values = state_values  # v(s)\n",
    "        self.gamma = gamma\n",
    "        \n",
    "        self.environment = Gridworld()\n",
    "        \n",
    "    def policy(self, state):\n",
    "        \"\"\"Policy iteration using the exact transition/reward outcomes.\"\"\"\n",
    "        action = None\n",
    "        max_action_value = -1000\n",
    "        for a in Action:\n",
    "            self.environment.set_state(state)\n",
    "            s1, r = self.environment.transition(a)\n",
    "            \n",
    "            action_value = r + self.gamma * self.state_values[s1]\n",
    "            if action_value > max_action_value:\n",
    "                action = a\n",
    "                max_action_value = action_value\n",
    "                \n",
    "        return action"
   ]
  },
  {
   "cell_type": "code",
   "execution_count": 8,
   "metadata": {
    "ExecuteTime": {
     "end_time": "2020-05-14T17:57:56.263005Z",
     "start_time": "2020-05-14T17:57:56.259714Z"
    }
   },
   "outputs": [],
   "source": [
    "class EpsilonGreedyAgent(GreedyAgent):\n",
    "    \"\"\"\n",
    "    GreedyAgent with epsilon greedy exploration.\n",
    "    \n",
    "    This approach is infeasible for complex problems where the environment is unknown.\n",
    "    \"\"\"\n",
    "    def __init__(self, epsilon=1e-2, **kwargs):\n",
    "        super().__init__(**kwargs)\n",
    "        self.epsilon = epsilon\n",
    "        \n",
    "    def policy(self, state):\n",
    "        if random.random() < self.epsilon:\n",
    "            return random.choice([a for a in Action])\n",
    "                \n",
    "        return super().policy(state)"
   ]
  },
  {
   "cell_type": "code",
   "execution_count": 9,
   "metadata": {
    "ExecuteTime": {
     "end_time": "2020-05-14T17:57:56.271104Z",
     "start_time": "2020-05-14T17:57:56.264344Z"
    }
   },
   "outputs": [],
   "source": [
    "class LearnedAgent(Agent):\n",
    "    \"\"\"Learn the Optimal Policy beginning with a random policy and no priors.\"\"\"    \n",
    "    def __init__(self, name='Learned', gamma=0.9, dim=5, epsilon=0):\n",
    "        super().__init__(name)\n",
    "        self.action_values = np.random.randn(5, 5, 4)  # q(s, a)\n",
    "        self._policy = {s: random.choice([a for a in Action])\n",
    "                        for s in product(range(dim), range(dim))}\n",
    "        self.gamma = gamma\n",
    "        self.epsilon = epsilon\n",
    "        \n",
    "    def policy(self, state):\n",
    "        if random.random() < self.epsilon:\n",
    "            return random.choice([a for a in Action])\n",
    "        return self._policy[state]\n",
    "    \n",
    "    def update_state_policy(self, s):\n",
    "        old_action = self._policy[s]\n",
    "        stable = True\n",
    "        max_action_value = -1000\n",
    "        for a in Action:\n",
    "            action_value = self.action_values[(s[0], s[1], a.index)]\n",
    "            if action_value > max_action_value:\n",
    "                action = a\n",
    "                max_action_value = action_value\n",
    "        if action != old_action:\n",
    "            policy_stable = False\n",
    "        self._policy[s] = action\n",
    "        return stable        \n",
    "    \n",
    "    def policy_improvement(self):\n",
    "        \"\"\"Update our policy based on our latest action_values\"\"\"\n",
    "        policy_stable = True\n",
    "        for s in self._policy.keys():\n",
    "            stable = self.update_state_policy(s)\n",
    "            if not stable:\n",
    "                policy_stable = False\n",
    "            \n",
    "        return policy_stable"
   ]
  },
  {
   "cell_type": "markdown",
   "metadata": {},
   "source": [
    "## Environment"
   ]
  },
  {
   "cell_type": "code",
   "execution_count": 10,
   "metadata": {
    "ExecuteTime": {
     "end_time": "2020-05-14T17:57:56.277492Z",
     "start_time": "2020-05-14T17:57:56.272176Z"
    }
   },
   "outputs": [],
   "source": [
    "class Gridworld(object):\n",
    "    def __init__(self, initial_state=(0, 0)):\n",
    "        self.dim = 5\n",
    "        self.state = initial_state\n",
    "        \n",
    "    def set_state(self, state):\n",
    "        self.state = state\n",
    "\n",
    "    def _transition_state(self, action):\n",
    "        \"\"\"Try to apply the ACTION and check whether it is valid\"\"\"\n",
    "        x, y = action.transition(self.state)\n",
    "        if x < 0 or x >= self.dim:\n",
    "            return self.state\n",
    "        elif y < 0 or y >= self.dim:\n",
    "            return self.state\n",
    "        return x, y\n",
    "    \n",
    "    def transition(self, action):\n",
    "        \"\"\"Apply the given ACTION to the current state and return the new state and reward.\"\"\"\n",
    "        reward = 0\n",
    "        if self.state == (0, 1):  # special state A            \n",
    "            new_state = (4, 1)\n",
    "            reward = 10\n",
    "        elif self.state == (0, 3):  # specal state B\n",
    "            new_state = (2, 3)\n",
    "            reward = 5\n",
    "        else:\n",
    "            new_state = self._transition_state(action)\n",
    "            # invalid move\n",
    "            if new_state == self.state:\n",
    "                reward = -1\n",
    "\n",
    "        self.state = new_state\n",
    "        return new_state, reward       "
   ]
  },
  {
   "cell_type": "markdown",
   "metadata": {},
   "source": [
    "## Inspect the OptimalAgent\n",
    "Given the textbook solution, our agent generally moves straight to position `(1, 4)` to collect the 10 reward."
   ]
  },
  {
   "cell_type": "code",
   "execution_count": 44,
   "metadata": {
    "ExecuteTime": {
     "end_time": "2020-05-17T16:08:39.410211Z",
     "start_time": "2020-05-17T16:08:39.402824Z"
    }
   },
   "outputs": [],
   "source": [
    "def display_state_values(state_values, title=None, save_path=None):\n",
    "    fig, ax = plt.subplots(figsize=(4.8, 4.8))\n",
    "    if title:\n",
    "        ax.set_title(title)\n",
    "    # Transform row-major numpy coords to matplotlib coords        \n",
    "    transformed_values = np.rot90(state_values.T)\n",
    "    im = ax.imshow(transformed_values, cmap='hot')\n",
    "    fig.colorbar(im, ax=ax)\n",
    "    \n",
    "    agent = GreedyAgent(state_values)\n",
    "    for s in product(range(5), range(5)):\n",
    "        action = agent.policy(s)\n",
    "        dx, dy = action.direction\n",
    "        \n",
    "        # Transform row-major numpy coords to matplotlib coords\n",
    "        x, y = s[1], 4 - s[0]\n",
    "        ax.arrow(x - 0.25 * dx, y - 0.25 * dy, 0.5 * dx, 0.5 * dy, head_width=0.05)\n",
    "    \n",
    "    ax.set_xlim(-0.5, 4.5)\n",
    "    ax.set_ylim(-0.5, 4.5)\n",
    "    if save_path:\n",
    "        plt.savefig(save_path)\n",
    "    plt.show()\n",
    "\n",
    "    \n",
    "def display_state(state, fig=None, ax=None):\n",
    "    if ax == None:        \n",
    "        fig, ax = plt.subplots(figsize=(6.4*2, 4.8))\n",
    "    grid = np.zeros((5, 5))\n",
    "    grid[state[0], state[1]] = 1\n",
    "    ax.imshow(grid, cmap='viridis')\n",
    "    display(fig)\n",
    "    clear_output(wait=True)\n",
    "    plt.show()"
   ]
  },
  {
   "cell_type": "code",
   "execution_count": 12,
   "metadata": {
    "ExecuteTime": {
     "end_time": "2020-05-14T17:57:56.478456Z",
     "start_time": "2020-05-14T17:57:56.285843Z"
    }
   },
   "outputs": [
    {
     "data": {
      "image/png": "[encoded data removed]",
      "text/plain": [
       "<Figure size 345.6x345.6 with 2 Axes>"
      ]
     },
     "metadata": {
      "needs_background": "light"
     },
     "output_type": "display_data"
    }
   ],
   "source": [
    "display_state_values(expected_values, title='Solution: Optimal Agent')"
   ]
  },
  {
   "cell_type": "markdown",
   "metadata": {},
   "source": [
    "## Linear Programming Value Estimation\n",
    "An exact solution, but extremely sensitive to formulation, hyperparameters, and unscaleable to anything but the simplest problems without making drastic simplifications/assumptions."
   ]
  },
  {
   "cell_type": "code",
   "execution_count": 13,
   "metadata": {
    "ExecuteTime": {
     "end_time": "2020-05-14T17:57:56.486254Z",
     "start_time": "2020-05-14T17:57:56.479657Z"
    }
   },
   "outputs": [],
   "source": [
    "def solve_optimization(gamma=0.9, dim=5):\n",
    "    solver = pywraplp.Solver('LinearProgrammingGridworld',\n",
    "                             pywraplp.Solver.GLOP_LINEAR_PROGRAMMING)\n",
    "\n",
    "    state_values = {s: solver.NumVar(-solver.infinity(), solver.infinity(), f'state_{s[0]}_{s[1]}')\n",
    "                    for s in product(range(dim), range(dim))}\n",
    "    objective = solver.Objective()\n",
    "    objective.SetMinimization()\n",
    "    environment = Gridworld()\n",
    "\n",
    "    # Objective: minimize sum(v(s)) for all s\n",
    "    for s0, v_s0 in state_values.items():\n",
    "        objective.SetCoefficient(v_s0, 1)\n",
    "\n",
    "        # Optimal: v(s) = max_a{r + gamma * v(s')}\n",
    "        for a in Action:\n",
    "\n",
    "            # Deterministically apply (s, a) to Gridworld to get (s', r)\n",
    "            environment.set_state(s0)\n",
    "            s1, r = environment.transition(a)            \n",
    "            v_s1 = state_values[s1]\n",
    "\n",
    "            # Constraint: v(s) - gamma * v(s') >= r\n",
    "            constraint = solver.Constraint(r, solver.infinity())\n",
    "            constraint.SetCoefficient(v_s0, 1)\n",
    "            constraint.SetCoefficient(v_s1, -gamma)\n",
    "\n",
    "    print(f'Number of variables={solver.NumVariables()}, constraints={solver.NumConstraints()}')\n",
    "    solver.EnableOutput()\n",
    "    status = solver.Solve() \n",
    "    if status == solver.OPTIMAL:\n",
    "        values = np.zeros((5, 5))\n",
    "        for (x, y), var in state_values.items():\n",
    "            values[x, y] = var.solution_value()\n",
    "        return values\n",
    "    else:\n",
    "        if status == solver.FEASIBLE:\n",
    "            print('A potentially suboptimal solution was found.')\n",
    "        else:\n",
    "            print('The solver could not solve the problem.')    "
   ]
  },
  {
   "cell_type": "code",
   "execution_count": 14,
   "metadata": {
    "ExecuteTime": {
     "end_time": "2020-05-14T17:57:56.665928Z",
     "start_time": "2020-05-14T17:57:56.487325Z"
    }
   },
   "outputs": [
    {
     "name": "stdout",
     "output_type": "stream",
     "text": [
      "Number of variables=25, constraints=100\n"
     ]
    },
    {
     "data": {
      "image/png": "[encoded data removed]",
      "text/plain": [
       "<Figure size 345.6x345.6 with 2 Axes>"
      ]
     },
     "metadata": {
      "needs_background": "light"
     },
     "output_type": "display_data"
    },
    {
     "data": {
      "text/plain": [
       "array([[ 3.00730776, 10.02435919,  3.00730776,  5.13874615,  1.54162384],\n",
       "       [ 0.90219233,  3.00730776,  0.90219233,  1.54162384,  0.46248715],\n",
       "       [ 0.2706577 ,  0.90219233,  0.2706577 ,  0.46248715,  0.13874615],\n",
       "       [ 0.08119731,  0.2706577 ,  0.08119731,  0.13874615,  0.04162384],\n",
       "       [ 0.02435919,  0.08119731,  0.02435919,  0.04162384,  0.01248715]])"
      ]
     },
     "execution_count": 14,
     "metadata": {},
     "output_type": "execute_result"
    }
   ],
   "source": [
    "# TODO: investigate feasability of gamma=0.9\n",
    "glop_state_values = solve_optimization(gamma=0.3) \n",
    "display_state_values(glop_state_values, title='Linear Programming: GLOP')\n",
    "glop_state_values"
   ]
  },
  {
   "cell_type": "markdown",
   "metadata": {},
   "source": [
    "## Gradient Descent\n",
    "Using gradient descent and a loss defined around the error between `v(s) - v*(s)` (big thanks to Gautam Kedia for cleaning up the loss function)."
   ]
  },
  {
   "cell_type": "code",
   "execution_count": 15,
   "metadata": {
    "ExecuteTime": {
     "end_time": "2020-05-14T17:57:56.677608Z",
     "start_time": "2020-05-14T17:57:56.667106Z"
    }
   },
   "outputs": [],
   "source": [
    "tf.config.experimental_run_functions_eagerly(True)\n",
    "\n",
    "\n",
    "@tf.function\n",
    "def get_problem(gamma, constraint_penalty, state_values=None, dim=5):\n",
    "    # TODO: set better initial values\n",
    "    if state_values == None:\n",
    "        state_values = {s: tf.Variable(np.random.rand(), name=f'state_{s[0]}_{s[1]}', dtype=tf.float32)\n",
    "                        for s in product(range(dim), range(dim))}\n",
    "\n",
    "    errors = []\n",
    "    environment = Gridworld()\n",
    "    for s0, v_s0 in state_values.items():\n",
    "        action_values = []\n",
    "        for a in Action:       \n",
    "            # Deterministically apply (s, a) to Gridworld to get (s', r)\n",
    "            environment.set_state(s0)\n",
    "            s1, r = environment.transition(a)            \n",
    "            v_s1 = state_values[s1]\n",
    "\n",
    "            action_value = r + gamma * v_s1\n",
    "            action_values.append(action_value - v_s0)\n",
    "        errors.append(tf.reduce_max(action_values))\n",
    "\n",
    "    objective = tf.reduce_sum(tf.square(errors), name='objective')\n",
    "    return objective, state_values\n",
    "\n",
    "\n",
    "def plot_lp_state_values(state_values_dict, title=None):\n",
    "    lp_values = np.zeros((5, 5))\n",
    "    for (x, y), var in state_values_dict.items():\n",
    "        lp_values[x, y] = var.numpy()\n",
    "    display_state_values(lp_values, title=title)   \n",
    "    return lp_values\n",
    "\n",
    "\n",
    "def solve_gradients_tf(gamma=0.9, constraint_penalty=10.,\n",
    "                          iterations=50000, stopping_delta=1e-4, log_frequency=None):\n",
    "    if log_frequency is None:\n",
    "        log_frequency = iterations + 1\n",
    "    optimizer = tf.keras.optimizers.Adam()\n",
    "    prev_loss_value = 1e9\n",
    "    loss_history = []\n",
    "\n",
    "    objective, state_values = get_problem(gamma=gamma, constraint_penalty=constraint_penalty)\n",
    "    for i in range(1, iterations):\n",
    "        with tf.GradientTape() as tape:    \n",
    "            objective, state_values = get_problem(gamma=gamma, constraint_penalty=constraint_penalty, \n",
    "                                                  state_values=state_values)\n",
    "            trainable_vars = list(state_values.values())\n",
    "            loss = objective\n",
    "\n",
    "        grads = tape.gradient(loss, trainable_vars)\n",
    "        optimizer.apply_gradients(zip(grads, trainable_vars))\n",
    "        \n",
    "        loss_value = loss.numpy()\n",
    "        loss_history.append(loss_value)\n",
    "        if i % log_frequency == 0:\n",
    "            print(f'Iteration {i}: Loss={loss_value}')\n",
    "            plot_lp_state_values(state_values, title=f'Iteration {i}')\n",
    "            if abs(prev_loss_value - loss_value) < stopping_delta:\n",
    "                break\n",
    "            prev_loss_value = loss_value\n",
    "    return state_values"
   ]
  },
  {
   "cell_type": "code",
   "execution_count": 16,
   "metadata": {
    "ExecuteTime": {
     "end_time": "2020-05-14T18:22:59.893024Z",
     "start_time": "2020-05-14T17:57:56.678740Z"
    },
    "scrolled": true
   },
   "outputs": [
    {
     "data": {
      "image/png": "[encoded data removed]",
      "text/plain": [
       "<Figure size 345.6x345.6 with 2 Axes>"
      ]
     },
     "metadata": {
      "needs_background": "light"
     },
     "output_type": "display_data"
    },
    {
     "data": {
      "text/plain": [
       "array([[21.9774704 , 24.41942787, 21.97747231, 19.41943741, 17.47750473],\n",
       "       [19.77973557, 21.97749901, 19.77972603, 17.80176163, 16.02158356],\n",
       "       [17.80177116, 19.77974129, 17.80177307, 16.02158546, 14.41943645],\n",
       "       [16.021595  , 17.80175209, 16.02159882, 14.41943169, 12.97750187],\n",
       "       [14.41943741, 16.02159309, 14.41943645, 12.97749424, 11.6797533 ]])"
      ]
     },
     "execution_count": 16,
     "metadata": {},
     "output_type": "execute_result"
    }
   ],
   "source": [
    "# Go get a coffee, this will take ~20 minutes\n",
    "lp_state_values = solve_gradients_tf(gamma=0.9, stopping_delta=0.1)\n",
    "plot_lp_state_values(lp_state_values, title='Tensorflow Gradient Descent')"
   ]
  },
  {
   "cell_type": "code",
   "execution_count": 17,
   "metadata": {
    "ExecuteTime": {
     "end_time": "2020-05-14T18:23:00.072247Z",
     "start_time": "2020-05-14T18:22:59.894460Z"
    }
   },
   "outputs": [
    {
     "data": {
      "image/png": "[encoded data removed]",
      "text/plain": [
       "<Figure size 345.6x345.6 with 2 Axes>"
      ]
     },
     "metadata": {
      "needs_background": "light"
     },
     "output_type": "display_data"
    },
    {
     "data": {
      "text/plain": [
       "array([[22. , 24.4, 22. , 19.4, 17.5],\n",
       "       [19.8, 22. , 19.8, 17.8, 16. ],\n",
       "       [17.8, 19.8, 17.8, 16. , 14.4],\n",
       "       [16. , 17.8, 16. , 14.4, 13. ],\n",
       "       [14.4, 16. , 14.4, 13. , 11.7]])"
      ]
     },
     "execution_count": 17,
     "metadata": {},
     "output_type": "execute_result"
    }
   ],
   "source": [
    "# Expected (from textbook)\n",
    "display_state_values(expected_values, title='Solution: Optimal Agent') \n",
    "expected_values"
   ]
  },
  {
   "cell_type": "markdown",
   "metadata": {},
   "source": [
    "## Dynamic Programming: Value Iteration\n",
    "Another strategy for finding the exact solution. This also requires a perfect understanding of the environment and not scaleable to complex problems. It also has weaker convergence guarantees than Linear Programming. Dynamic Programming can handle larger problems than Linear Programming, however the state-space grows exponentially and we must use other methods for the largest problems.\n",
    "\n",
    "For this toy-problem, Value Iteration is extremely efficient, solving the optimal solution in ~200ms."
   ]
  },
  {
   "cell_type": "code",
   "execution_count": 18,
   "metadata": {
    "ExecuteTime": {
     "end_time": "2020-05-14T18:23:00.077968Z",
     "start_time": "2020-05-14T18:23:00.073545Z"
    }
   },
   "outputs": [],
   "source": [
    "def value_iteration(gamma=0.9, epsilon=1e-4):\n",
    "    state_values = np.random.randn(5, 5)\n",
    "    dim = 5\n",
    "    environment = Gridworld()\n",
    "\n",
    "    delta = 1000\n",
    "    while delta > epsilon:\n",
    "        delta = 0\n",
    "        for s0 in product(range(dim), range(dim)):\n",
    "            v_s0 = state_values[s0]\n",
    "\n",
    "            # Policy: arg-max action-value, having perfect information about the environment\n",
    "            optimal_action_value = -1000\n",
    "            for a in Action:   \n",
    "                # Deterministically apply (s, a) to Gridworld\n",
    "                environment.set_state(s0)\n",
    "                s1, r = environment.transition(a)            \n",
    "                v_s1 = state_values[s1]\n",
    "\n",
    "                action_value = r + gamma * v_s1\n",
    "                optimal_action_value = max(action_value, optimal_action_value)\n",
    "            state_values[s0] = optimal_action_value\n",
    "            delta += abs(v_s0 - optimal_action_value)\n",
    "\n",
    "    return state_values\n",
    "            "
   ]
  },
  {
   "cell_type": "code",
   "execution_count": 19,
   "metadata": {
    "ExecuteTime": {
     "end_time": "2020-05-14T18:23:00.264215Z",
     "start_time": "2020-05-14T18:23:00.079092Z"
    }
   },
   "outputs": [
    {
     "data": {
      "image/png": "[encoded data removed]",
      "text/plain": [
       "<Figure size 345.6x345.6 with 2 Axes>"
      ]
     },
     "metadata": {
      "needs_background": "light"
     },
     "output_type": "display_data"
    },
    {
     "data": {
      "text/plain": [
       "array([[21.97747655, 24.41942236, 21.97748013, 19.41942236, 17.47748013],\n",
       "       [19.77972889, 21.97748013, 19.77973211, 17.8017589 , 16.02158301],\n",
       "       [17.801756  , 19.77973211, 17.8017589 , 16.02158301, 14.41942471],\n",
       "       [16.0215804 , 17.8017589 , 16.02158301, 14.41942471, 12.97748224],\n",
       "       [14.41942236, 16.02158301, 14.41942471, 12.97748224, 11.67973402]])"
      ]
     },
     "execution_count": 19,
     "metadata": {},
     "output_type": "execute_result"
    }
   ],
   "source": [
    "vi_state_values = value_iteration()\n",
    "display_state_values(vi_state_values, title='Value Iteration')\n",
    "vi_state_values"
   ]
  },
  {
   "cell_type": "markdown",
   "metadata": {},
   "source": [
    "## Monte Carlo\n",
    "Monte Carlo is the first class of algorithm that is scaleable to complex real world problems. Unlike the previous approaches, Monte Carlo methods do not require a model of the environment, learning from both simulated episodes and actual experience. Additionally, this strategy does not require precise estimation of every state if only particular regions are relevant to our use-case.\n",
    "\n",
    "However Monte Carlo requires a strategy for generating episodes, either for on-policy learning, off-policy learning, simulation, or back-test. None of the these algorithms generate sensible results in a reasonable amount of time without some form of exploration, such as epsilon-greedy policies. This is an extremely strong indication that a supervised learning approach would naively reach a suboptimal policy while never finding the data necessary to escape the local minima."
   ]
  },
  {
   "cell_type": "code",
   "execution_count": 20,
   "metadata": {
    "ExecuteTime": {
     "end_time": "2020-05-14T18:23:00.273492Z",
     "start_time": "2020-05-14T18:23:00.265486Z"
    }
   },
   "outputs": [],
   "source": [
    "#  TODO: early stopping\n",
    "def mc_prediction(every_visit=False, gamma=0.9, dim=5, T=32, iterations=int(1e4), log_frequency=None):\n",
    "    if log_frequency is None:\n",
    "        log_frequency = iterations + 1\n",
    "\n",
    "    # GreedyAgent fails spectacularly here (likely supervised learning would also fail)\n",
    "    agent = EpsilonGreedyAgent(name='First-Value MC Prediction')\n",
    "    returns = {s: (0, 0) for s in product(range(dim), range(dim))}\n",
    "    environment = Gridworld()\n",
    "    for i in range(1, iterations):\n",
    "        if i % log_frequency == 0:\n",
    "            display_state_values(agent.state_values, title=f'MC Prediction: Iteration {i}')\n",
    "        \n",
    "        # Simulate episode\n",
    "        s0 = (random.randint(0, 4), random.randint(0, 4))\n",
    "        environment.set_state(s0)\n",
    "        episode = [s0]  # s0, a0, s1, r1, a1, s2, r2, a2, s3...\n",
    "        for _ in range(T):\n",
    "            a0 = agent.policy(s0)\n",
    "            s1, r1 = environment.transition(a0)\n",
    "            episode.extend([a0, s1, r1]) \n",
    "            s0 = s1\n",
    "\n",
    "        # Replay backwards from the end of the episode\n",
    "        ret = 0\n",
    "        j = T - 1\n",
    "        episode_returns = {}\n",
    "        while j > 0:\n",
    "            r1 = episode[3*j + 3]\n",
    "            s0 = episode[3*j - 1]\n",
    "            j -= 1\n",
    "\n",
    "            ret = r1 + gamma * ret\n",
    "            episode_returns[s0] = ret\n",
    "            if every_visit:\n",
    "                mean_ret, c = returns[s0]\n",
    "                returns[s0] = ((mean_ret * c + ret) / (c + 1), c + 1)\n",
    "            \n",
    "        # Update state values v(s)\n",
    "        for s, ret in episode_returns.items():\n",
    "            if not every_visit:\n",
    "                mean_ret, c = returns[s]\n",
    "                returns[s] = ((mean_ret * c + ret) / (c + 1), c + 1)\n",
    "            agent.state_values[s] = returns[s][0]\n",
    "    return agent"
   ]
  },
  {
   "cell_type": "code",
   "execution_count": 21,
   "metadata": {
    "ExecuteTime": {
     "end_time": "2020-05-14T18:25:33.599686Z",
     "start_time": "2020-05-14T18:23:00.274621Z"
    }
   },
   "outputs": [
    {
     "data": {
      "image/png": "[encoded data removed]",
      "text/plain": [
       "<Figure size 345.6x345.6 with 2 Axes>"
      ]
     },
     "metadata": {
      "needs_background": "light"
     },
     "output_type": "display_data"
    },
    {
     "data": {
      "text/plain": [
       "array([[16.59811779, 18.65415118, 15.7650856 , 14.3271649 , 12.81084875],\n",
       "       [ 9.69305644, 16.28456813, 14.52791222, 12.8290061 , 12.37190864],\n",
       "       [12.31548518, 12.59072867, 12.65410793, 11.06217442,  9.25474084],\n",
       "       [ 5.53244647, 11.00768831, 10.8378179 ,  9.31963937,  8.37838535],\n",
       "       [ 4.38531159,  9.80977127,  4.55191297,  8.1985443 ,  7.49547437]])"
      ]
     },
     "execution_count": 21,
     "metadata": {},
     "output_type": "execute_result"
    }
   ],
   "source": [
    "mcp_agent = mc_prediction(iterations=int(1e6), T=16)\n",
    "display_state_values(mcp_agent.state_values, title='First-Visit MC Prediction')\n",
    "mcp_agent.state_values"
   ]
  },
  {
   "cell_type": "markdown",
   "metadata": {},
   "source": [
    "### Every Visit\n",
    "Use every available example in the episode, instead of the earliest example only for each state. In other words, use more data to estimate state-value, even if the examples near the end of the episode are not very precise estimates."
   ]
  },
  {
   "cell_type": "code",
   "execution_count": 22,
   "metadata": {
    "ExecuteTime": {
     "end_time": "2020-05-14T18:28:13.544752Z",
     "start_time": "2020-05-14T18:25:33.601129Z"
    }
   },
   "outputs": [
    {
     "data": {
      "image/png": "[encoded data removed]",
      "text/plain": [
       "<Figure size 345.6x345.6 with 2 Axes>"
      ]
     },
     "metadata": {
      "needs_background": "light"
     },
     "output_type": "display_data"
    },
    {
     "data": {
      "text/plain": [
       "array([[15.29285228, 14.35392885, 13.80044226, 14.12532978, 12.74259688],\n",
       "       [13.19360275, 10.43538015, 12.08522681, 10.43128891, 11.42321835],\n",
       "       [10.43511279,  8.06759379, 10.43537114, 10.57236338,  8.93292497],\n",
       "       [ 8.06717972,  6.59303376,  8.06737511,  9.13497975,  7.88737318],\n",
       "       [ 4.12307495,  5.397982  ,  3.87702696,  8.08190304,  6.93893223]])"
      ]
     },
     "execution_count": 22,
     "metadata": {},
     "output_type": "execute_result"
    }
   ],
   "source": [
    "mcp_agent = mc_prediction(every_visit=True, iterations=int(1e6), T=16)\n",
    "display_state_values(mcp_agent.state_values, title='Every-Visit MC Prediction')\n",
    "mcp_agent.state_values"
   ]
  },
  {
   "cell_type": "markdown",
   "metadata": {},
   "source": [
    "### Monte Carlo Control\n",
    "This is the first example in our analysis that does not need an accurate model of the environment. Instead, we use our Agent to interact with the environment to generate new samples. In other words, we learn through affecting users, for better or worse, even if this means giving our users a terrible experience in the short term."
   ]
  },
  {
   "cell_type": "code",
   "execution_count": 23,
   "metadata": {
    "ExecuteTime": {
     "end_time": "2020-05-14T18:28:13.557233Z",
     "start_time": "2020-05-14T18:28:13.547543Z"
    }
   },
   "outputs": [],
   "source": [
    "def mc_control(every_visit=False, gamma=0.9, dim=5, T=32, iterations=int(1e4), log_frequency=None):\n",
    "    if log_frequency is None:\n",
    "        log_frequency = iterations + 1\n",
    "\n",
    "    agent = LearnedAgent(name='MC Control', epsilon=0.01)  # this doesn't work without some exploration\n",
    "    returns = {(x, y, a): (0, 0) for x, y, a in product(range(dim), range(dim), [a for a in Action])}\n",
    "    environment = Gridworld()\n",
    "    for i in range(1, iterations):\n",
    "        if i % log_frequency == 0:\n",
    "            display_state_values(agent.action_values.max(axis=2), title=f'MC Control: Iteration {i}')\n",
    "\n",
    "        # Simulate episode from random (state, action)\n",
    "        x, y, a0 = (random.randint(0, 4), random.randint(0, 4), random.choice([a for a in Action]))\n",
    "        s0 = (x, y)\n",
    "        environment.set_state(s0)\n",
    "        episode = [s0]  # s0, a0, s1, r1, a1, s2, r2, a2, s3...\n",
    "        for _ in range(T):\n",
    "            s1, r1 = environment.transition(a0)\n",
    "            episode.extend([a0, s1, r1])             \n",
    "            a0 = agent.policy(s1)\n",
    "\n",
    "        # Replay backwards from the end of the episode\n",
    "        ret = 0\n",
    "        j = T - 1\n",
    "        episode_returns = {}\n",
    "        while j > 0:\n",
    "            r1 = episode[3*j + 3]\n",
    "            a0 = episode[3*j + 1]\n",
    "            x0, y0 = episode[3*j - 1]\n",
    "            key = (x0, y0, a0)\n",
    "            j -= 1\n",
    "\n",
    "            ret = r1 + gamma * ret\n",
    "            episode_returns[key] = ret\n",
    "            if every_visit:\n",
    "                mean_ret, c = returns[key]\n",
    "                returns[key] = ((mean_ret * c + ret) / (c + 1), c + 1)\n",
    "\n",
    "        # Update action values q(s,a)\n",
    "        for (x, y, a), ret in episode_returns.items():\n",
    "            key = (x, y, a)\n",
    "            if not every_visit:\n",
    "                mean_ret, c = returns[key]\n",
    "                returns[key] = ((mean_ret * c + ret) / (c + 1), c + 1)\n",
    "            agent.action_values[(x, y, a.index)] = returns[key][0]\n",
    "\n",
    "        # Update policy\n",
    "        agent.policy_improvement()\n",
    "    return agent"
   ]
  },
  {
   "cell_type": "code",
   "execution_count": 24,
   "metadata": {
    "ExecuteTime": {
     "end_time": "2020-05-14T18:30:00.563694Z",
     "start_time": "2020-05-14T18:28:13.558679Z"
    }
   },
   "outputs": [
    {
     "data": {
      "image/png": "[encoded data removed]",
      "text/plain": [
       "<Figure size 345.6x345.6 with 2 Axes>"
      ]
     },
     "metadata": {
      "needs_background": "light"
     },
     "output_type": "display_data"
    },
    {
     "data": {
      "text/plain": [
       "array([[17.37860763, 18.58333873, 17.36624539, 13.87999377, 12.84679615],\n",
       "       [15.04118279, 16.32354844, 14.48183981, 12.18018702, 11.27720971],\n",
       "       [13.37756686, 13.9606935 , 12.76420459, 10.86765588,  9.20169197],\n",
       "       [11.91720796, 12.02166838, 10.89188658,  9.48738027,  8.55191662],\n",
       "       [ 8.90432902, 10.14518961,  8.91110907,  8.55774002,  7.68603991]])"
      ]
     },
     "execution_count": 24,
     "metadata": {},
     "output_type": "execute_result"
    }
   ],
   "source": [
    "mcc_agent = mc_control(iterations=int(1e6), T=16)\n",
    "display_state_values(mcc_agent.action_values.max(axis=2), title='First-Visit MC Control')\n",
    "mcc_agent.action_values.max(axis=2)"
   ]
  },
  {
   "cell_type": "code",
   "execution_count": 25,
   "metadata": {
    "ExecuteTime": {
     "end_time": "2020-05-14T18:31:55.258202Z",
     "start_time": "2020-05-14T18:30:00.565179Z"
    }
   },
   "outputs": [
    {
     "data": {
      "image/png": "[encoded data removed]",
      "text/plain": [
       "<Figure size 345.6x345.6 with 2 Axes>"
      ]
     },
     "metadata": {
      "needs_background": "light"
     },
     "output_type": "display_data"
    },
    {
     "data": {
      "text/plain": [
       "array([[16.64922907, 14.46044752, 15.55199386, 14.23936115, 12.89435035],\n",
       "       [14.07057178, 10.91838087, 13.82750586, 12.36564767, 12.37060048],\n",
       "       [12.28297224,  8.5584161 , 12.0771084 , 10.84519612,  9.33060119],\n",
       "       [10.59719203,  7.04537248,  9.99209677,  9.30487053,  8.35758078],\n",
       "       [ 8.64543264,  5.82082002,  8.61497582,  8.36412837,  7.53187641]])"
      ]
     },
     "execution_count": 25,
     "metadata": {},
     "output_type": "execute_result"
    }
   ],
   "source": [
    "mcc_agent = mc_control(every_visit=True, iterations=int(1e6), T=16)\n",
    "display_state_values(mcc_agent.action_values.max(axis=2), title='Every-Visit MC Control')\n",
    "mcc_agent.action_values.max(axis=2)"
   ]
  },
  {
   "cell_type": "markdown",
   "metadata": {},
   "source": [
    "### Off-Policy Learning through Importance Sampling\n",
    "Assuming our strategy for data collection obeys the *coverage* assumption (every state is visited at least once, such as by using a holdout or epsilon-greedy behavior policy), we can develop new agents without affecting users.\n",
    "\n",
    "However this strategy can be very slow, especially if the behavior policy and target policy behave drastically differently, in which case most episodes will be thrown out by the target policy."
   ]
  },
  {
   "cell_type": "code",
   "execution_count": 26,
   "metadata": {
    "ExecuteTime": {
     "end_time": "2020-05-14T18:31:55.271758Z",
     "start_time": "2020-05-14T18:31:55.260106Z"
    }
   },
   "outputs": [],
   "source": [
    "def get_policy_probs(agent, state, samples=100):\n",
    "    probs = {a: 0 for a in Action}\n",
    "    for _ in range(samples):\n",
    "        a = agent.policy(state)\n",
    "        probs[a] += 1 / samples\n",
    "    return probs\n",
    "\n",
    "# Importance Sampling\n",
    "def off_policy_mc(behavior, target, gamma=0.9, \n",
    "                  dim=5, T=32, iterations=int(1e4), log_frequency=None):\n",
    "    if log_frequency is None:\n",
    "        log_frequency = iterations + 1\n",
    "\n",
    "    returns = {(x, y, a): (0, 0) for x, y, a in product(range(dim), range(dim), [a for a in Action])}\n",
    "    environment = Gridworld()\n",
    "    for i in range(1, iterations):\n",
    "        if i % log_frequency == 0:\n",
    "            display_state_values(target.action_values.max(axis=2), title=f'Off-Policy MC: Iteration {i}')\n",
    "\n",
    "        # Simulate episode from random (state, action)\n",
    "        x, y, a0 = (random.randint(0, 4), random.randint(0, 4), random.choice([a for a in Action]))\n",
    "        s0 = (x, y)\n",
    "        environment.set_state(s0)\n",
    "        episode = [s0]  # s0, a0, s1, r1, a1, s2, r2, a2, s3...\n",
    "        for _ in range(T):\n",
    "            s1, r1 = environment.transition(a0)\n",
    "            episode.extend([a0, s1, r1])             \n",
    "            a0 = behavior.policy(s1)\n",
    "\n",
    "        # Replay backwards from the end of the episode\n",
    "        ret = 0\n",
    "        j = T - 1\n",
    "        w = 1\n",
    "        while j > 0:\n",
    "            r1 = episode[3*j + 3]\n",
    "            a0 = episode[3*j + 1]\n",
    "            x0, y0 = episode[3*j - 1]\n",
    "            j -= 1\n",
    "\n",
    "            key = (x0, y0, a0)\n",
    "            ret = r1 + gamma * ret             \n",
    "            mean_ret, c = returns[key]\n",
    "            returns[key] = ((mean_ret + (w / (c + w)) * (ret - mean_ret)), c + w)\n",
    "            \n",
    "            # If the episode doesn't match the target policy, reject it\n",
    "            target_action = target.policy((x0, y0))\n",
    "            if target_action != a0:\n",
    "                break\n",
    "            w += get_policy_probs(behavior, (x0, y0))[a0]\n",
    "\n",
    "        # Update policy\n",
    "        for (x, y, a), ret in returns.items():\n",
    "            target.action_values[(x, y, a.index)] = returns[(x, y, a)][0]\n",
    "        target.policy_improvement()\n",
    "    return target"
   ]
  },
  {
   "cell_type": "markdown",
   "metadata": {},
   "source": [
    "This ones not quite right... "
   ]
  },
  {
   "cell_type": "code",
   "execution_count": 27,
   "metadata": {
    "ExecuteTime": {
     "end_time": "2020-05-14T18:54:16.329180Z",
     "start_time": "2020-05-14T18:31:55.272872Z"
    }
   },
   "outputs": [
    {
     "data": {
      "image/png": "[encoded data removed]",
      "text/plain": [
       "<Figure size 345.6x345.6 with 2 Axes>"
      ]
     },
     "metadata": {
      "needs_background": "light"
     },
     "output_type": "display_data"
    },
    {
     "data": {
      "text/plain": [
       "array([[ 3.3345636 , 10.40396285,  3.75525771,  5.39327382,  2.61793533],\n",
       "       [ 1.40690717,  3.19151538,  1.88923299,  2.87071638,  1.64748373],\n",
       "       [ 0.83770726,  1.51224628,  0.94221054,  0.92031191,  0.55352484],\n",
       "       [ 0.50404036,  0.88254695,  0.52152918,  0.34324275,  0.27931181],\n",
       "       [ 0.3705281 ,  0.56480438,  0.33564327,  0.22809774,  0.3455105 ]])"
      ]
     },
     "execution_count": 27,
     "metadata": {},
     "output_type": "execute_result"
    }
   ],
   "source": [
    "behavior_policy = EpsilonGreedyAgent(state_values=vi_state_values, epsilon=0.25)  # must obey assumption of coverage\n",
    "target = LearnedAgent(name='Target Policy', epsilon=0)  # deterministic\n",
    "off_policy_mc(behavior_policy, target, iterations=int(1e6), T=16)\n",
    "display_state_values(target.action_values.max(axis=2), title='Off-Policy MC Control')\n",
    "target.action_values.max(axis=2)"
   ]
  },
  {
   "cell_type": "markdown",
   "metadata": {},
   "source": [
    "## Temporal-Difference Learning\n",
    "Most of the previous examples have been instructive tools for comparison. Temporal-Difference (TD) is the core approach generating most RL learning algorithms by gradually updating our estimate towards our latest reward and value estimate scaled by a hyperparameter learning rate $\\alpha$.\n",
    "\n",
    "Unlike in Monte Carlo, we can apply these updates at every timestep, instead of waiting for the episode to terminate. For each update, we subtract the *difference* in our value estimate in *time*, before and after observation, from the current action value. While not as fast as Dynamic Programming (\\~200ms), TD algorithms (\\~1s) are still very performant and, more importantly, do not need a model of any complex environment characteristics.\n",
    "\n",
    "Our analysis runs in parallel with the previous exploration into Monte Carlo. First we examine state-value prediction, then action-value control, and finally an off-policy algorithm using distinct behavior and target policies."
   ]
  },
  {
   "cell_type": "markdown",
   "metadata": {},
   "source": [
    "### Temporal Difference Prediction"
   ]
  },
  {
   "cell_type": "code",
   "execution_count": 28,
   "metadata": {
    "ExecuteTime": {
     "end_time": "2020-05-14T18:54:16.336679Z",
     "start_time": "2020-05-14T18:54:16.330957Z"
    }
   },
   "outputs": [],
   "source": [
    "def td_prediction(alpha, every_visit=False, gamma=0.9, dim=5, T=32, iterations=int(1e4), log_frequency=None):\n",
    "    if log_frequency is None:\n",
    "        log_frequency = iterations + 1\n",
    "\n",
    "    agent = EpsilonGreedyAgent(name='TD Prediction')\n",
    "    environment = Gridworld()\n",
    "    for i in range(1, iterations):\n",
    "        if i % log_frequency == 0:\n",
    "            display_state_values(agent.state_values, title=f'TD Prediction: Iteration {i}')\n",
    "        \n",
    "        # Simulate episode\n",
    "        s0 = (random.randint(0, 4), random.randint(0, 4))\n",
    "        environment.set_state(s0)\n",
    "        for _ in range(T):\n",
    "            \n",
    "            # Agent interacts with the environment\n",
    "            a0 = agent.policy(s0)\n",
    "            s1, r1 = environment.transition(a0)\n",
    "            \n",
    "            # Update state values v(s)\n",
    "            v0 = agent.state_values[s0]\n",
    "            v1 = agent.state_values[s1]\n",
    "            agent.state_values[s0] = v0 + alpha * (r1 + gamma * v1 - v0)\n",
    "            \n",
    "            # Prep the next timestep\n",
    "            s0 = s1\n",
    "    return agent"
   ]
  },
  {
   "cell_type": "code",
   "execution_count": 29,
   "metadata": {
    "ExecuteTime": {
     "end_time": "2020-05-14T18:54:18.149189Z",
     "start_time": "2020-05-14T18:54:16.338080Z"
    }
   },
   "outputs": [
    {
     "data": {
      "image/png": "[encoded data removed]",
      "text/plain": [
       "<Figure size 345.6x345.6 with 2 Axes>"
      ]
     },
     "metadata": {
      "needs_background": "light"
     },
     "output_type": "display_data"
    },
    {
     "data": {
      "text/plain": [
       "array([[21.76289759, 24.19960657, 21.70261083, 19.21161623, 17.32705086],\n",
       "       [19.40996761, 21.76970875, 19.55468221, 17.52163441, 15.75049255],\n",
       "       [17.62070587, 19.57785394, 17.464217  , 15.81896685, 14.21810365],\n",
       "       [15.86534218, 17.6057003 , 15.85489386, 14.25181061, 12.8237065 ],\n",
       "       [14.27692371, 15.8041699 , 14.27042004, 12.83299892, 11.55493771]])"
      ]
     },
     "execution_count": 29,
     "metadata": {},
     "output_type": "execute_result"
    }
   ],
   "source": [
    "tdp_agent = td_prediction(0.05, iterations=int(1e4), T=16)\n",
    "display_state_values(tdp_agent.state_values, title='Temporal Difference: Prediction')\n",
    "tdp_agent.state_values"
   ]
  },
  {
   "cell_type": "markdown",
   "metadata": {},
   "source": [
    "### Temporal Difference Control (SARSA)"
   ]
  },
  {
   "cell_type": "code",
   "execution_count": 30,
   "metadata": {
    "ExecuteTime": {
     "end_time": "2020-05-14T18:54:18.158015Z",
     "start_time": "2020-05-14T18:54:18.150862Z"
    }
   },
   "outputs": [],
   "source": [
    "# SARSA\n",
    "def td_control(alpha, every_visit=False, gamma=0.9, dim=5, T=32, iterations=int(1e4), log_frequency=None):\n",
    "    if log_frequency is None:\n",
    "        log_frequency = iterations + 1\n",
    "\n",
    "    agent = LearnedAgent(name='TD Control', epsilon=0.01)  # this doesn't work without some exploration\n",
    "    environment = Gridworld()\n",
    "    for i in range(1, iterations):\n",
    "        if i % log_frequency == 0:\n",
    "            display_state_values(agent.action_values.max(axis=2), title=f'TD Control: Iteration {i}')\n",
    "\n",
    "        # Simulate episode from random (state, action)\n",
    "        x, y, a0 = (random.randint(0, 4), random.randint(0, 4), random.choice([a for a in Action]))\n",
    "        sa0 = (x, y, a0.index)\n",
    "        environment.set_state((x, y))\n",
    "        for _ in range(T):\n",
    "            s1, r1 = environment.transition(a0)\n",
    "            a1 = agent.policy(s1)\n",
    "            \n",
    "            sa1 = (s1[0], s1[1], a1.index)\n",
    "            q0 = agent.action_values[sa0]\n",
    "            q1 = agent.action_values[sa1]\n",
    "            \n",
    "            # On-Policy update, mid-episode\n",
    "            agent.action_values[sa0] = q0 + alpha * (r1 + gamma * q1 - q0)\n",
    "            agent.update_state_policy((sa0[0], sa0[1]))\n",
    "            \n",
    "            # Prep the next timestep            \n",
    "            a0 = a1\n",
    "            sa0 = sa1 \n",
    "\n",
    "    return agent\n"
   ]
  },
  {
   "cell_type": "code",
   "execution_count": 31,
   "metadata": {
    "ExecuteTime": {
     "end_time": "2020-05-14T18:54:19.228018Z",
     "start_time": "2020-05-14T18:54:18.159387Z"
    }
   },
   "outputs": [
    {
     "data": {
      "image/png": "[encoded data removed]",
      "text/plain": [
       "<Figure size 345.6x345.6 with 2 Axes>"
      ]
     },
     "metadata": {
      "needs_background": "light"
     },
     "output_type": "display_data"
    },
    {
     "data": {
      "text/plain": [
       "array([[21.79602179, 24.23310445, 21.79366064, 19.23723977, 17.32843087],\n",
       "       [19.38020192, 21.78915462, 19.52503589, 17.35497744, 15.59616037],\n",
       "       [17.62045702, 19.6191353 , 17.64940295, 15.86881807, 14.25016621],\n",
       "       [15.82033153, 17.66232944, 15.82261551, 14.23187863, 12.80542116],\n",
       "       [14.23531235, 15.88171919, 14.2183725 , 12.80351799, 11.5173044 ]])"
      ]
     },
     "execution_count": 31,
     "metadata": {},
     "output_type": "execute_result"
    }
   ],
   "source": [
    "tdc_agent = td_control(0.05, iterations=int(1e4), T=16)\n",
    "display_state_values(tdc_agent.action_values.max(axis=2), title='Temporal Difference: Control')\n",
    "tdc_agent.action_values.max(axis=2)"
   ]
  },
  {
   "cell_type": "markdown",
   "metadata": {},
   "source": [
    "### Off-Policy Temporal Difference Control (Q-Learning)"
   ]
  },
  {
   "cell_type": "code",
   "execution_count": 39,
   "metadata": {
    "ExecuteTime": {
     "end_time": "2020-05-17T15:48:58.159872Z",
     "start_time": "2020-05-17T15:48:58.152756Z"
    }
   },
   "outputs": [],
   "source": [
    "def off_policy_td(behavior, target, alpha, gamma=0.9, \n",
    "                  dim=5, T=32, iterations=int(1e4), log_frequency=None):\n",
    "    if log_frequency is None:\n",
    "        log_frequency = iterations + 1\n",
    "\n",
    "    environment = Gridworld()\n",
    "    for i in range(1, iterations):\n",
    "        if i % log_frequency == 0:\n",
    "            display_state_values(target.action_values.max(axis=2), title=f'Off-Policy TD: Iteration {i}')\n",
    "\n",
    "        # Simulate episode from random (state, action)\n",
    "        x, y, a0 = (random.randint(0, 4), random.randint(0, 4), random.choice([a for a in Action]))\n",
    "        sa0 = (x, y, a0.index)\n",
    "        environment.set_state((x, y))\n",
    "        for _ in range(T):\n",
    "            s1, r1 = environment.transition(a0)\n",
    "            \n",
    "            # Evaluate using target policy\n",
    "            a1 = target.policy(s1)            \n",
    "            sa1 = (s1[0], s1[1], a1.index)\n",
    "            q0 = target.action_values[sa0]\n",
    "            q1 = target.action_values[sa1]\n",
    "            \n",
    "            # Off-Policy update, mid-episode\n",
    "            target.action_values[sa0] = q0 + alpha * (r1 + gamma * q1 - q0)\n",
    "            target.update_state_policy((sa0[0], sa0[1]))  # Off-Policy update, mid-episode\n",
    "            \n",
    "            # Generate the episode using the behavior policy          \n",
    "            a0 = behavior.policy(s1)\n",
    "            sa0 = (s1[0], s1[1], a0.index) \n",
    "            \n",
    "    return target"
   ]
  },
  {
   "cell_type": "code",
   "execution_count": 45,
   "metadata": {
    "ExecuteTime": {
     "end_time": "2020-05-17T16:12:22.462731Z",
     "start_time": "2020-05-17T16:08:55.305203Z"
    }
   },
   "outputs": [
    {
     "data": {
      "image/png": "[encoded data removed]",
      "text/plain": [
       "<Figure size 345.6x345.6 with 2 Axes>"
      ]
     },
     "metadata": {
      "needs_background": "light"
     },
     "output_type": "display_data"
    },
    {
     "data": {
      "text/plain": [
       "array([[21.97748529, 24.4194281 , 21.97748529, 19.4194281 , 17.47748529],\n",
       "       [19.77973676, 21.97748529, 19.77973676, 17.80176308, 16.02158677],\n",
       "       [17.80176308, 19.77973676, 17.80176308, 16.02158677, 14.4194281 ],\n",
       "       [16.02158677, 17.80176308, 16.02158677, 14.4194281 , 12.97748529],\n",
       "       [14.4194281 , 16.02158677, 14.4194281 , 12.97748529, 11.67973676]])"
      ]
     },
     "execution_count": 45,
     "metadata": {},
     "output_type": "execute_result"
    }
   ],
   "source": [
    "tdbp_agent = EpsilonGreedyAgent(state_values=vi_state_values, epsilon=0.25)  # must obey assumption of coverage\n",
    "tdtp_agent = LearnedAgent(name='Target Policy', epsilon=0)  # deterministic\n",
    "off_policy_td(tdbp_agent, tdtp_agent, 0.05, iterations=int(1e6), T=16)\n",
    "display_state_values(tdtp_agent.action_values.max(axis=2), \n",
    "                     title='Off-Policy TD Control (Q Learning)', \n",
    "                     save_path='images/qlearning.png')\n",
    "tdtp_agent.action_values.max(axis=2)"
   ]
  },
  {
   "cell_type": "markdown",
   "metadata": {},
   "source": [
    "### Double-Q Learning\n",
    "Random initial states with above average estimates induce bias in our target policy, or value *maximization bias*. To address *maximization bias*, we learn two distinct action values. At each timestep, we flip a coin and randomly use one agent to propose the next action while the other provides feedback. Then, both actors work together to select the best action.\n",
    "\n",
    "This is similar to off-policy learning, however instead of committing behavior and target policies, we randomly swap the two policies reduce maximization bias in an on-policy setting."
   ]
  },
  {
   "cell_type": "code",
   "execution_count": 34,
   "metadata": {
    "ExecuteTime": {
     "end_time": "2020-05-14T18:57:45.872498Z",
     "start_time": "2020-05-14T18:57:45.865556Z"
    }
   },
   "outputs": [],
   "source": [
    "class DoubleAgent(Agent):\n",
    "    \"\"\"Learn the Optimal Policy beginning with a random policy and no priors.\"\"\"    \n",
    "    def __init__(self, name='Double', gamma=0.9, dim=5, epsilon=0):\n",
    "        super().__init__(name)\n",
    "        self.policy_left = LearnedAgent('Left')\n",
    "        self.policy_right = LearnedAgent('Right')\n",
    "        self.action_values_right = np.random.randn(5, 5, 4)  # q(s, a)\n",
    "        self.gamma = gamma\n",
    "        self.epsilon = epsilon\n",
    "        \n",
    "    def policy(self, s, explore=True):\n",
    "        if explore and random.random() < self.epsilon:\n",
    "            return random.choice([a for a in Action])\n",
    "        \n",
    "        max_action_value = -1000\n",
    "        for a in Action:\n",
    "            key = (s[0], s[1], a.index)\n",
    "            action_value_left = self.policy_left.action_values[key]\n",
    "            action_value_right = self.policy_right.action_values[key]\n",
    "            action_value = action_value_left + action_value_right\n",
    "            if action_value > max_action_value:\n",
    "                action = a\n",
    "                max_action_value = action_value\n",
    "        return action\n",
    "    \n",
    "    def plot_action_values(self, title):\n",
    "        display_state_values(self.policy_left.action_values.max(axis=2), title=title + ' (Agent 1)')\n",
    "        display_state_values(self.policy_right.action_values.max(axis=2), title=title + ' (Agent 2)')\n",
    "        return self.policy_left.action_values.max(axis=2), self.policy_right.action_values.max(axis=2)\n"
   ]
  },
  {
   "cell_type": "code",
   "execution_count": 35,
   "metadata": {
    "ExecuteTime": {
     "end_time": "2020-05-14T18:57:45.880600Z",
     "start_time": "2020-05-14T18:57:45.873634Z"
    }
   },
   "outputs": [],
   "source": [
    "def double_q_learning(agent, alpha, gamma=0.9, \n",
    "                      dim=5, T=32, iterations=int(1e4), log_frequency=None):\n",
    "    if log_frequency is None:\n",
    "        log_frequency = iterations + 1\n",
    "\n",
    "    environment = Gridworld()\n",
    "    for i in range(1, iterations):\n",
    "        if i % log_frequency == 0:\n",
    "            agent.plot_action_values(f'DQL: Iteration {i}')\n",
    "\n",
    "        # Simulate episode from random (state, action)\n",
    "        x, y, a0 = (random.randint(0, 4), random.randint(0, 4), random.choice([a for a in Action]))\n",
    "        sa0 = (x, y, a0.index)\n",
    "        environment.set_state((x, y))\n",
    "        for _ in range(T):\n",
    "            s1, r1 = environment.transition(a0)\n",
    "            \n",
    "            # Flip a coin\n",
    "            if random.random() < 0.5:\n",
    "                student, teacher = agent.policy_left, agent.policy_right\n",
    "            else:\n",
    "                student, teacher = agent.policy_right, agent.policy_left\n",
    "                \n",
    "            # Students picks the next action\n",
    "            a1 = student.policy(s1)\n",
    "            \n",
    "            # Teacher provides feedback\n",
    "            sa1 = (s1[0], s1[1], a1.index)\n",
    "            q1 = teacher.action_values[sa1]\n",
    "            \n",
    "            # Update the student only\n",
    "            q0 = student.action_values[sa0]\n",
    "            student.action_values[sa0] = q0 + alpha * (r1 + gamma * q1 - q0)\n",
    "            student.update_state_policy((sa0[0], sa0[1]))\n",
    "            \n",
    "            # Generate the episode using the combined policy (must obey assumption of coverage)\n",
    "            a0 = agent.policy(s1)\n",
    "            sa0 = (s1[0], s1[1], a0.index)                        \n",
    "            \n",
    "    return target"
   ]
  },
  {
   "cell_type": "code",
   "execution_count": 36,
   "metadata": {
    "ExecuteTime": {
     "end_time": "2020-05-14T18:58:02.458238Z",
     "start_time": "2020-05-14T18:57:45.881683Z"
    }
   },
   "outputs": [
    {
     "data": {
      "image/png": "[encoded data removed]",
      "text/plain": [
       "<Figure size 345.6x345.6 with 2 Axes>"
      ]
     },
     "metadata": {
      "needs_background": "light"
     },
     "output_type": "display_data"
    },
    {
     "data": {
      "image/png": "[encoded data removed]",
      "text/plain": [
       "<Figure size 345.6x345.6 with 2 Axes>"
      ]
     },
     "metadata": {
      "needs_background": "light"
     },
     "output_type": "display_data"
    },
    {
     "name": "stdout",
     "output_type": "stream",
     "text": [
      "[[21.97748529 24.4194281  21.97748529 19.4194281  17.47748529]\n",
      " [19.77973676 21.97748529 19.77973676 17.80176308 16.02158677]\n",
      " [17.80176308 19.77973676 17.80176308 16.02158677 14.4194281 ]\n",
      " [16.02158677 17.80176308 16.02158677 14.4194281  12.97748529]\n",
      " [14.4194281  16.02158677 14.4194281  12.97748529 11.67973676]]\n",
      "\n",
      "[[21.97748529 24.4194281  21.97748529 19.4194281  17.47748529]\n",
      " [19.77973676 21.97748529 19.77973676 17.80176308 16.02158677]\n",
      " [17.80176308 19.77973676 17.80176308 16.02158677 14.4194281 ]\n",
      " [16.02158677 17.80176308 16.02158677 14.4194281  12.97748529]\n",
      " [14.4194281  16.02158677 14.4194281  12.97748529 11.67973676]]\n"
     ]
    }
   ],
   "source": [
    "dqll_agent = DoubleAgent(name='DQL Agent', epsilon=0.05)  # must explore\n",
    "double_q_learning(dqll_agent, 0.05, iterations=int(1e5), T=16)\n",
    "q1, q2 = dqll_agent.plot_action_values('Double Q-Learning')\n",
    "print(q1)\n",
    "print()\n",
    "print(q2)"
   ]
  },
  {
   "cell_type": "markdown",
   "metadata": {},
   "source": [
    "## N-Step\n",
    "Maintaining a longer window for updates than TD-Learning, beginning to resemble a strategy closer to Monte Carlo. Sutton & Barto claim N-Step return has an *error reduction property* with gauaranteed worst case to be better than $V_{t+n-1}$."
   ]
  },
  {
   "cell_type": "code",
   "execution_count": 72,
   "metadata": {
    "ExecuteTime": {
     "end_time": "2020-05-17T18:33:42.610494Z",
     "start_time": "2020-05-17T18:33:42.602995Z"
    }
   },
   "outputs": [],
   "source": [
    "import collections\n",
    "\n",
    "\n",
    "def ntd_prediction(alpha, n, every_visit=False, gamma=0.9, dim=5, T=32, iterations=int(1e4), log_frequency=None):\n",
    "    if log_frequency is None:\n",
    "        log_frequency = iterations + 1\n",
    "\n",
    "    agent = EpsilonGreedyAgent(name='N-Step TD Prediction')\n",
    "    environment = Gridworld()\n",
    "    for i in range(1, iterations):\n",
    "        if i % log_frequency == 0:\n",
    "            display_state_values(agent.state_values, title=f'N-Step TD Prediction: Iteration {i}')\n",
    "        \n",
    "        # Simulate episode\n",
    "        s0 = (random.randint(0, 4), random.randint(0, 4))\n",
    "        environment.set_state(s0)\n",
    "        \n",
    "        states = collections.deque()\n",
    "        states.append(s0)\n",
    "        rewards = [0] * n\n",
    "        \n",
    "        for i in range(1, T + n):\n",
    "            # Episode generation\n",
    "            if i < T:\n",
    "                # Agent interacts with the environment\n",
    "                a0 = agent.policy(s0)\n",
    "                s1, r1 = environment.transition(a0)                \n",
    "                states.append(s1)\n",
    "                rewards[i % n] = r1\n",
    "            else:  # Episode over, update only\n",
    "                rewards[i % n] = 0\n",
    "                \n",
    "            # Update state value\n",
    "            if i >= n:           \n",
    "                target = 0  # gain i-n:i\n",
    "                s_i = states[-1]  # latest observation  \n",
    "                if s_i:\n",
    "                    target += agent.state_values[s_i]\n",
    "                for j in range(0, n):\n",
    "                    target = rewards[(i - j) % n] + gamma * target\n",
    "                \n",
    "                s0 = states.popleft()\n",
    "                v0 = agent.state_values[s0]\n",
    "                agent.state_values[s0] = v0 + alpha * (target - v0)\n",
    "            \n",
    "            # Prep the next timestep\n",
    "            s0 = states[-1] if states else None\n",
    "    return agent"
   ]
  },
  {
   "cell_type": "code",
   "execution_count": 75,
   "metadata": {
    "ExecuteTime": {
     "end_time": "2020-05-17T18:38:40.982065Z",
     "start_time": "2020-05-17T18:37:21.443351Z"
    }
   },
   "outputs": [
    {
     "data": {
      "image/png": "[encoded data removed]",
      "text/plain": [
       "<Figure size 345.6x345.6 with 2 Axes>"
      ]
     },
     "metadata": {
      "needs_background": "light"
     },
     "output_type": "display_data"
    },
    {
     "data": {
      "image/png": "[encoded data removed]",
      "text/plain": [
       "<Figure size 345.6x345.6 with 2 Axes>"
      ]
     },
     "metadata": {
      "needs_background": "light"
     },
     "output_type": "display_data"
    },
    {
     "data": {
      "image/png": "[encoded data removed]",
      "text/plain": [
       "<Figure size 345.6x345.6 with 2 Axes>"
      ]
     },
     "metadata": {
      "needs_background": "light"
     },
     "output_type": "display_data"
    },
    {
     "data": {
      "image/png": "[encoded data removed]",
      "text/plain": [
       "<Figure size 345.6x345.6 with 2 Axes>"
      ]
     },
     "metadata": {
      "needs_background": "light"
     },
     "output_type": "display_data"
    }
   ],
   "source": [
    "for i in [1,2,5,10]:\n",
    "    ntdp_agent = ntd_prediction(0.01, i, iterations=int(1e5), T=16)\n",
    "    display_state_values(ntdp_agent.state_values, title=f'{i}-Step Temporal Difference: Prediction')"
   ]
  },
  {
   "cell_type": "markdown",
   "metadata": {},
   "source": [
    "## Conclusion\n",
    "In this notebook, we have intestigated 4 types of algorithms, **Linear Programming (LP)**, **Dynamic Programming (DP)**, **Monte Carlo (MC)**, and **Temporal Difference Learning (TD)** in our toy Gridworld environment. For the most part, all of these algorithms were able to solve our problem optimally. However **LP** and **DP** require exact models of the environment, making them difficult to use in complex problems. They both also scale poorly with large problems. Neither **MC** nor **TD** require these models, making them both more suitable to complex, real-world scenarios.\n",
    "\n",
    "For **MC** and **TD**, we divided the problem into 3 aspects, **Prediction** (evaluating the returns for a policy), **On-Policy Control** (using our policy on the environment to improve itself) and **Off-Policy Control** (learning while another policy is in control). We also explore a generalization of **TD**, **N-Step TD**, which extends the update window and begins to resemble the longer horizon estimates used in **MC**."
   ]
  },
  {
   "cell_type": "code",
   "execution_count": null,
   "metadata": {},
   "outputs": [],
   "source": []
  }
 ],
 "metadata": {
  "kernelspec": {
   "display_name": "Python 3",
   "language": "python",
   "name": "python3"
  },
  "language_info": {
   "codemirror_mode": {
    "name": "ipython",
    "version": 3
   },
   "file_extension": ".py",
   "mimetype": "text/x-python",
   "name": "python",
   "nbconvert_exporter": "python",
   "pygments_lexer": "ipython3",
   "version": "3.6.9"
  }
 },
 "nbformat": 4,
 "nbformat_minor": 4
}
