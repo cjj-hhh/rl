{
 "cells": [
  {
   "cell_type": "markdown",
   "metadata": {},
   "source": [
    "# Gridworld\n",
    "In this notebook, we repeatedly solve a simple environment to explore the characteristics of the following algorithm classes, {**Linear Programming (LP)**, **Dynamic Programming (DP)**, **Monte Carlo (MC)**, and **Temporal Difference Learning (TD)**}. For **MC** and **TD**, we also explore further problem spaces in **Prediction**, **On-Policy Control**, and **Off-Policy Control**. We also examine a generalization of **TD**, **N-Step TD**.\n",
    "\n",
    "From [Sutton & Barto](http://incompleteideas.net/book/the-book-2nd.html) Example 3.5/3.8 and Berkeley [CS287: Advanced Robotics](https://people.eecs.berkeley.edu/~pabbeel/cs287-fa12/slides/mdps-exact-methods.pdf) (see slide 30)"
   ]
  },
  {
   "cell_type": "markdown",
   "metadata": {},
   "source": [
    "<img src=\"images/gridworld.png\" width=\"85%\" />"
   ]
  },
  {
   "cell_type": "code",
   "execution_count": 1,
   "metadata": {
    "ExecuteTime": {
     "end_time": "2020-05-25T18:38:08.948567Z",
     "start_time": "2020-05-25T18:38:07.180341Z"
    }
   },
   "outputs": [],
   "source": [
    "from __future__ import print_function\n",
    "from IPython.display import display, clear_output\n",
    "from datetime import datetime, timedelta\n",
    "from itertools import product\n",
    "from pandas.plotting import register_matplotlib_converters\n",
    "\n",
    "import ipywidgets as widgets\n",
    "import numpy as np\n",
    "import matplotlib.pyplot as plt\n",
    "import pandas as pd\n",
    "import random\n",
    "import tensorflow as tf\n",
    "\n",
    "\n",
    "pd.options.display.max_columns = None\n",
    "register_matplotlib_converters()\n",
    "\n",
    "\n",
    "%matplotlib inline"
   ]
  },
  {
   "cell_type": "code",
   "execution_count": 2,
   "metadata": {
    "ExecuteTime": {
     "end_time": "2020-05-25T18:38:08.952031Z",
     "start_time": "2020-05-25T18:38:08.949930Z"
    }
   },
   "outputs": [],
   "source": [
    "assert tf.__version__.startswith('2'), tf.__version__"
   ]
  },
  {
   "cell_type": "code",
   "execution_count": 3,
   "metadata": {
    "ExecuteTime": {
     "end_time": "2020-05-25T18:38:10.710348Z",
     "start_time": "2020-05-25T18:38:08.953400Z"
    }
   },
   "outputs": [
    {
     "name": "stdout",
     "output_type": "stream",
     "text": [
      "Looking in indexes: https://pypi.org/simple, https://pypi.lyft.net/pypi/\n",
      "Requirement already satisfied: ortools in /code/venvs/venv/lib/python3.6/site-packages (7.6.7691)\n",
      "Requirement already satisfied: six>=1.10 in /code/venvs/venv/lib/python3.6/site-packages (from ortools) (1.12.0)\n",
      "Requirement already satisfied: protobuf>=3.11.2 in /code/venvs/venv/lib/python3.6/site-packages (from ortools) (3.11.3)\n",
      "Requirement already satisfied: setuptools in /code/venvs/venv/lib/python3.6/site-packages (from protobuf>=3.11.2->ortools) (45.2.0)\n",
      "Note: you may need to restart the kernel to use updated packages.\n"
     ]
    }
   ],
   "source": [
    "%pip install ortools\n",
    "\n",
    "from ortools.linear_solver import pywraplp\n",
    "\n",
    "# need to restart notebook after installing first time\n",
    "_ = pywraplp.Solver('LinearProgrammingGridworld', pywraplp.Solver.GLOP_LINEAR_PROGRAMMING)"
   ]
  },
  {
   "cell_type": "markdown",
   "metadata": {
    "ExecuteTime": {
     "end_time": "2020-04-22T07:14:42.383807Z",
     "start_time": "2020-04-22T07:12:50.820Z"
    }
   },
   "source": [
    "<img src=\"images/gridworld2.png\" width=\"85%\" />"
   ]
  },
  {
   "cell_type": "markdown",
   "metadata": {},
   "source": [
    "## The Grid\n",
    "A digital [frontier](https://www.youtube.com/watch?v=4-J4duzP8Ng)..."
   ]
  },
  {
   "cell_type": "code",
   "execution_count": 4,
   "metadata": {
    "ExecuteTime": {
     "end_time": "2020-05-25T18:38:10.715998Z",
     "start_time": "2020-05-25T18:38:10.711872Z"
    }
   },
   "outputs": [],
   "source": [
    "# random strategy, gamma=0.9\n",
    "expected_values_random = np.array([\n",
    "    [ 3.3,  8.8,  4.4,  5.3,  1.5],\n",
    "    [ 1.5,  3.0,  2.3,  1.9,  0.5],\n",
    "    [ 0.1,  0.7,  0.7,  0.4, -0.4],\n",
    "    [-1.0, -0.4, -0.4, -0.6, -1.2],\n",
    "    [-1.9, -1.3, -1.2, -1.4, -2.0],\n",
    "])\n",
    "# optimal strategy, gamma=0.9\n",
    "expected_values = np.array([\n",
    "    [22.0, 24.4, 22.0, 19.4, 17.5],\n",
    "    [19.8, 22.0, 19.8, 17.8, 16.0],\n",
    "    [17.8, 19.8, 17.8, 16.0, 14.4],\n",
    "    [16.0, 17.8, 16.0, 14.4, 13.0],\n",
    "    [14.4, 16.0, 14.4, 13.0, 11.7]\n",
    "])"
   ]
  },
  {
   "cell_type": "markdown",
   "metadata": {
    "ExecuteTime": {
     "end_time": "2020-04-20T06:46:22.702445Z",
     "start_time": "2020-04-20T06:46:22.696856Z"
    }
   },
   "source": [
    "## Actions\n",
    "[North](https://www.youtube.com/watch?v=K31sJIbv_20), [East](https://www.youtube.com/watch?v=dq3rVbGCijo), [West](https://www.youtube.com/watch?v=2LVLo61M0rY), [South](https://www.youtube.com/watch?v=zRYQJw_pYgY)"
   ]
  },
  {
   "cell_type": "code",
   "execution_count": 5,
   "metadata": {
    "ExecuteTime": {
     "end_time": "2020-05-25T18:38:10.721721Z",
     "start_time": "2020-05-25T18:38:10.717021Z"
    }
   },
   "outputs": [],
   "source": [
    "from enum import Enum\n",
    "\n",
    "\n",
    "class Action(Enum):\n",
    "    NORTH = 'N', 0, lambda x: (x[0] - 1, x[1]), (0, 1)\n",
    "    EAST = 'E', 1, lambda x: (x[0], x[1] + 1), (1, 0)\n",
    "    WEST = 'W', 2, lambda x: (x[0], x[1] - 1), (-1, 0)\n",
    "    SOUTH = 'S', 3, lambda x: (x[0] + 1, x[1]), (0, -1)\n",
    "    def __init__(self, display_name, index, transition, direction):\n",
    "        self.display_name = display_name\n",
    "        self.index = index\n",
    "        self.transition = transition  # numpy row-major coordinates\n",
    "        self.direction = direction  # matplotlib coordinates\n",
    "        \n",
    "    def __str__(self):\n",
    "        return self.display_name"
   ]
  },
  {
   "cell_type": "markdown",
   "metadata": {},
   "source": [
    "## Agents"
   ]
  },
  {
   "cell_type": "code",
   "execution_count": 6,
   "metadata": {
    "ExecuteTime": {
     "end_time": "2020-05-25T18:38:10.725671Z",
     "start_time": "2020-05-25T18:38:10.722725Z"
    }
   },
   "outputs": [],
   "source": [
    "class Agent(object):\n",
    "    def __init__(self, name):\n",
    "        self.name = name\n",
    "        \n",
    "    def policy(self, state):\n",
    "        \"\"\"Return an Action given STATE\"\"\"\n",
    "        raise NotImplementedError()\n"
   ]
  },
  {
   "cell_type": "code",
   "execution_count": 7,
   "metadata": {
    "ExecuteTime": {
     "end_time": "2020-05-25T18:38:10.729552Z",
     "start_time": "2020-05-25T18:38:10.726665Z"
    }
   },
   "outputs": [],
   "source": [
    "class RandomAgent(Agent):\n",
    "    \"\"\" Randomly select an action at each timestep. Used to evaluate policy prediction. \"\"\"\n",
    "    def __init__(self, name='Random'):\n",
    "        super().__init__(name)\n",
    "        self.state_values = np.random.randn(5, 5)\n",
    "    \n",
    "    def policy(self, state):\n",
    "        return random.choice([a for a in Action])"
   ]
  },
  {
   "cell_type": "code",
   "execution_count": 8,
   "metadata": {
    "ExecuteTime": {
     "end_time": "2020-05-25T18:38:10.735688Z",
     "start_time": "2020-05-25T18:38:10.731169Z"
    }
   },
   "outputs": [],
   "source": [
    "class GreedyAgent(Agent):\n",
    "    \"\"\"\n",
    "    This agent has perfect information regarding the environment transition probabilities and rewards.\n",
    "    \n",
    "    This approach is infeasible for complex problems where the environment is unknown.\n",
    "    \"\"\"\n",
    "    def __init__(self, state_values=None, name='Optimal', gamma=0.9):\n",
    "        super().__init__(name)\n",
    "        if state_values is None:\n",
    "            state_values = np.random.randn(5, 5)\n",
    "        self.state_values = state_values  # v(s)\n",
    "        self.gamma = gamma\n",
    "        \n",
    "        self.environment = Gridworld()\n",
    "        \n",
    "    def policy(self, state):\n",
    "        \"\"\"Policy iteration using the exact transition/reward outcomes.\"\"\"\n",
    "        action = None\n",
    "        max_action_value = -1000\n",
    "        for a in Action:\n",
    "            self.environment.set_state(state)\n",
    "            s1, r = self.environment.transition(a)\n",
    "            \n",
    "            action_value = r + self.gamma * self.state_values[s1]\n",
    "            if action_value > max_action_value:\n",
    "                action = a\n",
    "                max_action_value = action_value\n",
    "                \n",
    "        return action"
   ]
  },
  {
   "cell_type": "code",
   "execution_count": 9,
   "metadata": {
    "ExecuteTime": {
     "end_time": "2020-05-25T18:38:10.740150Z",
     "start_time": "2020-05-25T18:38:10.736951Z"
    }
   },
   "outputs": [],
   "source": [
    "class EpsilonGreedyAgent(GreedyAgent):\n",
    "    \"\"\"\n",
    "    GreedyAgent with epsilon greedy exploration.\n",
    "    \n",
    "    This approach is infeasible for complex problems where the environment is unknown.\n",
    "    \"\"\"\n",
    "    def __init__(self, epsilon=1e-2, **kwargs):\n",
    "        super().__init__(**kwargs)\n",
    "        self.epsilon = epsilon\n",
    "        \n",
    "    def policy(self, state):\n",
    "        if random.random() < self.epsilon:\n",
    "            return random.choice([a for a in Action])\n",
    "                \n",
    "        return super().policy(state)"
   ]
  },
  {
   "cell_type": "code",
   "execution_count": 10,
   "metadata": {
    "ExecuteTime": {
     "end_time": "2020-05-25T18:38:10.747760Z",
     "start_time": "2020-05-25T18:38:10.741160Z"
    }
   },
   "outputs": [],
   "source": [
    "class LearnedAgent(Agent):\n",
    "    \"\"\"Learn the Optimal Policy beginning with a random policy and no priors.\"\"\"    \n",
    "    def __init__(self, name='Learned', gamma=0.9, dim=5, epsilon=0):\n",
    "        super().__init__(name)\n",
    "        self.action_values = np.random.randn(5, 5, 4)  # q(s, a)\n",
    "        self._policy = {s: random.choice([a for a in Action])\n",
    "                        for s in product(range(dim), range(dim))}\n",
    "        self.gamma = gamma\n",
    "        self.epsilon = epsilon\n",
    "        \n",
    "    def policy(self, state):\n",
    "        if random.random() < self.epsilon:\n",
    "            return random.choice([a for a in Action])\n",
    "        return self._policy[state]\n",
    "    \n",
    "    def update_state_policy(self, s):\n",
    "        old_action = self._policy[s]\n",
    "        stable = True\n",
    "        max_action_value = -1000\n",
    "        for a in Action:\n",
    "            action_value = self.action_values[(s[0], s[1], a.index)]\n",
    "            if action_value > max_action_value:\n",
    "                action = a\n",
    "                max_action_value = action_value\n",
    "        if action != old_action:\n",
    "            policy_stable = False\n",
    "        self._policy[s] = action\n",
    "        return stable        \n",
    "    \n",
    "    def policy_improvement(self):\n",
    "        \"\"\"Update our policy based on our latest action_values\"\"\"\n",
    "        policy_stable = True\n",
    "        for s in self._policy.keys():\n",
    "            stable = self.update_state_policy(s)\n",
    "            if not stable:\n",
    "                policy_stable = False\n",
    "            \n",
    "        return policy_stable"
   ]
  },
  {
   "cell_type": "markdown",
   "metadata": {},
   "source": [
    "## Environment"
   ]
  },
  {
   "cell_type": "code",
   "execution_count": 11,
   "metadata": {
    "ExecuteTime": {
     "end_time": "2020-05-25T18:38:10.753965Z",
     "start_time": "2020-05-25T18:38:10.748771Z"
    }
   },
   "outputs": [],
   "source": [
    "class Gridworld(object):\n",
    "    def __init__(self, initial_state=(0, 0)):\n",
    "        self.dim = 5\n",
    "        self.state = initial_state\n",
    "        \n",
    "    def set_state(self, state):\n",
    "        self.state = state\n",
    "\n",
    "    def _transition_state(self, action):\n",
    "        \"\"\"Try to apply the ACTION and check whether it is valid\"\"\"\n",
    "        x, y = action.transition(self.state)\n",
    "        if x < 0 or x >= self.dim:\n",
    "            return self.state\n",
    "        elif y < 0 or y >= self.dim:\n",
    "            return self.state\n",
    "        return x, y\n",
    "    \n",
    "    def transition(self, action):\n",
    "        \"\"\"Apply the given ACTION to the current state and return the new state and reward.\"\"\"\n",
    "        reward = 0\n",
    "        if self.state == (0, 1):  # special state A            \n",
    "            new_state = (4, 1)\n",
    "            reward = 10\n",
    "        elif self.state == (0, 3):  # specal state B\n",
    "            new_state = (2, 3)\n",
    "            reward = 5\n",
    "        else:\n",
    "            new_state = self._transition_state(action)\n",
    "            # invalid move\n",
    "            if new_state == self.state:\n",
    "                reward = -1\n",
    "\n",
    "        self.state = new_state\n",
    "        return new_state, reward       "
   ]
  },
  {
   "cell_type": "markdown",
   "metadata": {},
   "source": [
    "## Inspect the State Values of the RandomAgent\n",
    "Given the textbook solution"
   ]
  },
  {
   "cell_type": "code",
   "execution_count": 12,
   "metadata": {
    "ExecuteTime": {
     "end_time": "2020-05-25T18:38:10.761529Z",
     "start_time": "2020-05-25T18:38:10.754997Z"
    }
   },
   "outputs": [],
   "source": [
    "def display_state_values(state_values, title=None, save_path=None, plot_actions=True):\n",
    "    fig, ax = plt.subplots(figsize=(4.8, 4.8))\n",
    "    if title:\n",
    "        ax.set_title(title)\n",
    "    # Transform row-major numpy coords to matplotlib coords        \n",
    "    transformed_values = np.rot90(state_values.T)\n",
    "    im = ax.imshow(transformed_values, cmap='hot')\n",
    "    fig.colorbar(im, ax=ax)\n",
    "    \n",
    "    if plot_actions:\n",
    "        agent = GreedyAgent(state_values)\n",
    "        for s in product(range(5), range(5)):\n",
    "            action = agent.policy(s)\n",
    "            dx, dy = action.direction\n",
    "\n",
    "            # Transform row-major numpy coords to matplotlib coords\n",
    "            x, y = s[1], 4 - s[0]\n",
    "            ax.arrow(x - 0.25 * dx, y - 0.25 * dy, 0.5 * dx, 0.5 * dy, head_width=0.05)\n",
    "    \n",
    "    ax.set_xlim(-0.5, 4.5)\n",
    "    ax.set_ylim(-0.5, 4.5)\n",
    "    if save_path:\n",
    "        plt.savefig(save_path)\n",
    "    plt.show()\n",
    "\n",
    "    \n",
    "def display_state(state, fig=None, ax=None):\n",
    "    if ax == None:        \n",
    "        fig, ax = plt.subplots(figsize=(6.4*2, 4.8))\n",
    "    grid = np.zeros((5, 5))\n",
    "    grid[state[0], state[1]] = 1\n",
    "    ax.imshow(grid, cmap='viridis')\n",
    "    display(fig)\n",
    "    clear_output(wait=True)\n",
    "    plt.show()"
   ]
  },
  {
   "cell_type": "code",
   "execution_count": 13,
   "metadata": {
    "ExecuteTime": {
     "end_time": "2020-05-25T18:38:10.927213Z",
     "start_time": "2020-05-25T18:38:10.762521Z"
    }
   },
   "outputs": [
    {
     "data": {
      "image/png": "[encoded data removed]",
      "text/plain": [
       "<Figure size 345.6x345.6 with 2 Axes>"
      ]
     },
     "metadata": {
      "needs_background": "light"
     },
     "output_type": "display_data"
    }
   ],
   "source": [
    "display_state_values(expected_values_random, title='Solution: Random Agent', plot_actions=False)"
   ]
  },
  {
   "cell_type": "markdown",
   "metadata": {},
   "source": [
    "## Inspect the OptimalAgent\n",
    "Given the textbook solution, our agent generally moves straight to position `(1, 4)` to collect the 10 reward."
   ]
  },
  {
   "cell_type": "code",
   "execution_count": 14,
   "metadata": {
    "ExecuteTime": {
     "end_time": "2020-05-25T18:38:11.100774Z",
     "start_time": "2020-05-25T18:38:10.928245Z"
    }
   },
   "outputs": [
    {
     "data": {
      "image/png": "[encoded data removed]",
      "text/plain": [
       "<Figure size 345.6x345.6 with 2 Axes>"
      ]
     },
     "metadata": {
      "needs_background": "light"
     },
     "output_type": "display_data"
    }
   ],
   "source": [
    "display_state_values(expected_values, title='Solution: Optimal Agent')"
   ]
  },
  {
   "cell_type": "markdown",
   "metadata": {},
   "source": [
    "## Linear Programming Value Estimation\n",
    "An exact solution, but extremely sensitive to formulation, hyperparameters, and unscaleable to anything but the simplest problems without making drastic simplifications/assumptions."
   ]
  },
  {
   "cell_type": "code",
   "execution_count": 15,
   "metadata": {
    "ExecuteTime": {
     "end_time": "2020-05-25T18:38:11.108378Z",
     "start_time": "2020-05-25T18:38:11.101831Z"
    }
   },
   "outputs": [],
   "source": [
    "def solve_optimization(gamma=0.9, dim=5):\n",
    "    solver = pywraplp.Solver('LinearProgrammingGridworld',\n",
    "                             pywraplp.Solver.GLOP_LINEAR_PROGRAMMING)\n",
    "\n",
    "    state_values = {s: solver.NumVar(-solver.infinity(), solver.infinity(), f'state_{s[0]}_{s[1]}')\n",
    "                    for s in product(range(dim), range(dim))}\n",
    "    objective = solver.Objective()\n",
    "    objective.SetMinimization()\n",
    "    environment = Gridworld()\n",
    "\n",
    "    # Objective: minimize sum(v(s)) for all s\n",
    "    for s0, v_s0 in state_values.items():\n",
    "        objective.SetCoefficient(v_s0, 1)\n",
    "\n",
    "        # Random: v(s) = mean_a{r + gamma * v(s')}\n",
    "        # Optimal: v(s) = max_a{r + gamma * v(s')}\n",
    "        for a in Action:\n",
    "\n",
    "            # Deterministically apply (s, a) to Gridworld to get (s', r)\n",
    "            environment.set_state(s0)\n",
    "            s1, r = environment.transition(a)            \n",
    "            v_s1 = state_values[s1]\n",
    "\n",
    "            # Optimal: v(s) - gamma * v(s') >= r\n",
    "            # Optimal: SUM [v(s) - gamma * v(s')] == r            \n",
    "            constraint = solver.Constraint(r, solver.infinity())\n",
    "            constraint.SetCoefficient(v_s0, 1)\n",
    "            constraint.SetCoefficient(v_s1, -gamma)\n",
    "\n",
    "    print(f'Number of variables={solver.NumVariables()}, constraints={solver.NumConstraints()}')\n",
    "    solver.EnableOutput()\n",
    "    status = solver.Solve() \n",
    "    if status == solver.OPTIMAL:\n",
    "        values = np.zeros((5, 5))\n",
    "        for (x, y), var in state_values.items():\n",
    "            values[x, y] = var.solution_value()\n",
    "        return values\n",
    "    else:\n",
    "        if status == solver.FEASIBLE:\n",
    "            print('A potentially suboptimal solution was found.')\n",
    "        else:\n",
    "            print('The solver could not solve the problem.')    "
   ]
  },
  {
   "cell_type": "code",
   "execution_count": 16,
   "metadata": {
    "ExecuteTime": {
     "end_time": "2020-05-25T18:38:11.269770Z",
     "start_time": "2020-05-25T18:38:11.109379Z"
    }
   },
   "outputs": [
    {
     "name": "stdout",
     "output_type": "stream",
     "text": [
      "Number of variables=25, constraints=100\n"
     ]
    },
    {
     "data": {
      "image/png": "[encoded data removed]",
      "text/plain": [
       "<Figure size 345.6x345.6 with 2 Axes>"
      ]
     },
     "metadata": {
      "needs_background": "light"
     },
     "output_type": "display_data"
    },
    {
     "data": {
      "text/plain": [
       "array([[ 3.00730776, 10.02435919,  3.00730776,  5.13874615,  1.54162384],\n",
       "       [ 0.90219233,  3.00730776,  0.90219233,  1.54162384,  0.46248715],\n",
       "       [ 0.2706577 ,  0.90219233,  0.2706577 ,  0.46248715,  0.13874615],\n",
       "       [ 0.08119731,  0.2706577 ,  0.08119731,  0.13874615,  0.04162384],\n",
       "       [ 0.02435919,  0.08119731,  0.02435919,  0.04162384,  0.01248715]])"
      ]
     },
     "execution_count": 16,
     "metadata": {},
     "output_type": "execute_result"
    }
   ],
   "source": [
    "# TODO: investigate feasability of gamma=0.9\n",
    "glop_state_values = solve_optimization(gamma=0.3) \n",
    "display_state_values(glop_state_values, title='Linear Programming: GLOP', plot_actions=False)\n",
    "glop_state_values"
   ]
  },
  {
   "cell_type": "markdown",
   "metadata": {},
   "source": [
    "## Gradient Descent\n",
    "Using gradient descent and a loss defined around the error between `v(s) - v*(s)` (big thanks to Gautam Kedia for cleaning up the loss function)."
   ]
  },
  {
   "cell_type": "code",
   "execution_count": 17,
   "metadata": {
    "ExecuteTime": {
     "end_time": "2020-05-25T18:38:11.280805Z",
     "start_time": "2020-05-25T18:38:11.270807Z"
    }
   },
   "outputs": [],
   "source": [
    "tf.config.experimental_run_functions_eagerly(True)\n",
    "\n",
    "\n",
    "@tf.function\n",
    "def get_problem(gamma, constraint_penalty, state_values=None, dim=5):\n",
    "    # TODO: set better initial values\n",
    "    if state_values == None:\n",
    "        state_values = {s: tf.Variable(np.random.rand(), name=f'state_{s[0]}_{s[1]}', dtype=tf.float32)\n",
    "                        for s in product(range(dim), range(dim))}\n",
    "\n",
    "    errors = []\n",
    "    environment = Gridworld()\n",
    "    for s0, v_s0 in state_values.items():\n",
    "        action_values = []\n",
    "        for a in Action:       \n",
    "            # Deterministically apply (s, a) to Gridworld to get (s', r)\n",
    "            environment.set_state(s0)\n",
    "            s1, r = environment.transition(a)            \n",
    "            v_s1 = state_values[s1]\n",
    "\n",
    "            action_value = r + gamma * v_s1\n",
    "            action_values.append(action_value - v_s0)\n",
    "        # Random: reduce_mean, Optimal: reduce_max\n",
    "        errors.append(tf.reduce_mean(action_values))\n",
    "\n",
    "    objective = tf.reduce_sum(tf.square(errors), name='objective')\n",
    "    return objective, state_values\n",
    "\n",
    "\n",
    "def plot_lp_state_values(state_values_dict, title=None):\n",
    "    lp_values = np.zeros((5, 5))\n",
    "    for (x, y), var in state_values_dict.items():\n",
    "        lp_values[x, y] = var.numpy()\n",
    "    display_state_values(lp_values, title=title, plot_actions=False)   \n",
    "    return lp_values\n",
    "\n",
    "\n",
    "def solve_gradients_tf(gamma=0.9, constraint_penalty=10.,\n",
    "                          iterations=50000, stopping_delta=1e-4, log_frequency=None):\n",
    "    if log_frequency is None:\n",
    "        log_frequency = iterations + 1\n",
    "    optimizer = tf.keras.optimizers.Adam()\n",
    "    prev_loss_value = 1e9\n",
    "    loss_history = []\n",
    "\n",
    "    objective, state_values = get_problem(gamma=gamma, constraint_penalty=constraint_penalty)\n",
    "    for i in range(1, iterations):\n",
    "        with tf.GradientTape() as tape:    \n",
    "            objective, state_values = get_problem(gamma=gamma, constraint_penalty=constraint_penalty, \n",
    "                                                  state_values=state_values)\n",
    "            trainable_vars = list(state_values.values())\n",
    "            loss = objective\n",
    "\n",
    "        grads = tape.gradient(loss, trainable_vars)\n",
    "        optimizer.apply_gradients(zip(grads, trainable_vars))\n",
    "        \n",
    "        loss_value = loss.numpy()\n",
    "        loss_history.append(loss_value)\n",
    "        if i % log_frequency == 0:\n",
    "            print(f'Iteration {i}: Loss={loss_value}')\n",
    "            plot_lp_state_values(state_values, title=f'Iteration {i}')\n",
    "            if abs(prev_loss_value - loss_value) < stopping_delta:\n",
    "                break\n",
    "            prev_loss_value = loss_value\n",
    "    return state_values"
   ]
  },
  {
   "cell_type": "code",
   "execution_count": 18,
   "metadata": {
    "ExecuteTime": {
     "end_time": "2020-05-25T19:01:18.467387Z",
     "start_time": "2020-05-25T18:38:11.281825Z"
    },
    "scrolled": true
   },
   "outputs": [
    {
     "data": {
      "image/png": "[encoded data removed]",
      "text/plain": [
       "<Figure size 345.6x345.6 with 2 Axes>"
      ]
     },
     "metadata": {
      "needs_background": "light"
     },
     "output_type": "display_data"
    },
    {
     "data": {
      "text/plain": [
       "array([[ 3.30900264,  8.7892828 ,  4.42762661,  5.32235765,  1.49218452],\n",
       "       [ 1.5215832 ,  2.99232316,  2.25013494,  1.90757537,  0.54739887],\n",
       "       [ 0.05082472,  0.73816818,  0.67311466,  0.3581883 , -0.40313998],\n",
       "       [-0.97359192, -0.43549624, -0.35488161, -0.58560592, -1.18307495],\n",
       "       [-1.85770261, -1.34522557, -1.22926927, -1.42291653, -1.97517908]])"
      ]
     },
     "execution_count": 18,
     "metadata": {},
     "output_type": "execute_result"
    }
   ],
   "source": [
    "# Go get a coffee, this will take ~20 minutes\n",
    "lp_state_values = solve_gradients_tf(gamma=0.9, stopping_delta=0.1)\n",
    "plot_lp_state_values(lp_state_values, title='Tensorflow Gradient Descent')"
   ]
  },
  {
   "cell_type": "code",
   "execution_count": 19,
   "metadata": {
    "ExecuteTime": {
     "end_time": "2020-05-25T19:01:18.623199Z",
     "start_time": "2020-05-25T19:01:18.468693Z"
    }
   },
   "outputs": [
    {
     "data": {
      "image/png": "[encoded data removed]",
      "text/plain": [
       "<Figure size 345.6x345.6 with 2 Axes>"
      ]
     },
     "metadata": {
      "needs_background": "light"
     },
     "output_type": "display_data"
    },
    {
     "data": {
      "text/plain": [
       "array([[ 3.3,  8.8,  4.4,  5.3,  1.5],\n",
       "       [ 1.5,  3. ,  2.3,  1.9,  0.5],\n",
       "       [ 0.1,  0.7,  0.7,  0.4, -0.4],\n",
       "       [-1. , -0.4, -0.4, -0.6, -1.2],\n",
       "       [-1.9, -1.3, -1.2, -1.4, -2. ]])"
      ]
     },
     "execution_count": 19,
     "metadata": {},
     "output_type": "execute_result"
    }
   ],
   "source": [
    "display_state_values(expected_values_random, title='Solution: Random Agent', plot_actions=False)\n",
    "expected_values_random"
   ]
  },
  {
   "cell_type": "markdown",
   "metadata": {},
   "source": [
    "## Dynamic Programming: Value Iteration\n",
    "Another strategy for finding the exact solution. This also requires a perfect understanding of the environment and not scaleable to complex problems. It also has weaker convergence guarantees than Linear Programming. Dynamic Programming can handle larger problems than Linear Programming, however the state-space grows exponentially and we must use other methods for the largest problems.\n",
    "\n",
    "For this toy-problem, Value Iteration is extremely efficient, solving the optimal solution in ~200ms."
   ]
  },
  {
   "cell_type": "code",
   "execution_count": 20,
   "metadata": {
    "ExecuteTime": {
     "end_time": "2020-05-25T19:01:18.628770Z",
     "start_time": "2020-05-25T19:01:18.624370Z"
    }
   },
   "outputs": [],
   "source": [
    "def value_iteration(gamma=0.9, epsilon=1e-4):\n",
    "    state_values = np.random.randn(5, 5)\n",
    "    dim = 5\n",
    "    environment = Gridworld()\n",
    "\n",
    "    delta = 1000\n",
    "    while delta > epsilon:\n",
    "        delta = 0\n",
    "        for s0 in product(range(dim), range(dim)):\n",
    "            v_s0 = state_values[s0]\n",
    "\n",
    "            # Policy: arg-max action-value, having perfect information about the environment\n",
    "            optimal_action_value = -1000\n",
    "            for a in Action:   \n",
    "                # Deterministically apply (s, a) to Gridworld\n",
    "                environment.set_state(s0)\n",
    "                s1, r = environment.transition(a)            \n",
    "                v_s1 = state_values[s1]\n",
    "\n",
    "                action_value = r + gamma * v_s1\n",
    "                optimal_action_value = max(action_value, optimal_action_value)\n",
    "            state_values[s0] = optimal_action_value\n",
    "            delta += abs(v_s0 - optimal_action_value)\n",
    "\n",
    "    return state_values\n",
    "            "
   ]
  },
  {
   "cell_type": "code",
   "execution_count": 21,
   "metadata": {
    "ExecuteTime": {
     "end_time": "2020-05-25T19:01:18.809465Z",
     "start_time": "2020-05-25T19:01:18.629880Z"
    }
   },
   "outputs": [
    {
     "data": {
      "image/png": "[encoded data removed]",
      "text/plain": [
       "<Figure size 345.6x345.6 with 2 Axes>"
      ]
     },
     "metadata": {
      "needs_background": "light"
     },
     "output_type": "display_data"
    },
    {
     "data": {
      "text/plain": [
       "array([[21.97747751, 24.41942299, 21.97748069, 19.41942299, 17.47748069],\n",
       "       [19.77972976, 21.97748069, 19.77973263, 17.80175936, 16.02158343],\n",
       "       [17.80175678, 19.77973263, 17.80175936, 16.02158343, 14.41942508],\n",
       "       [16.0215811 , 17.80175936, 16.02158343, 14.41942508, 12.97748258],\n",
       "       [14.41942299, 16.02158343, 14.41942508, 12.97748258, 11.67973432]])"
      ]
     },
     "execution_count": 21,
     "metadata": {},
     "output_type": "execute_result"
    }
   ],
   "source": [
    "vi_state_values = value_iteration()\n",
    "display_state_values(vi_state_values, title='Value Iteration')\n",
    "vi_state_values"
   ]
  },
  {
   "cell_type": "code",
   "execution_count": 22,
   "metadata": {
    "ExecuteTime": {
     "end_time": "2020-05-25T19:01:18.984734Z",
     "start_time": "2020-05-25T19:01:18.810534Z"
    }
   },
   "outputs": [
    {
     "data": {
      "image/png": "[encoded data removed]",
      "text/plain": [
       "<Figure size 345.6x345.6 with 2 Axes>"
      ]
     },
     "metadata": {
      "needs_background": "light"
     },
     "output_type": "display_data"
    },
    {
     "data": {
      "text/plain": [
       "array([[22. , 24.4, 22. , 19.4, 17.5],\n",
       "       [19.8, 22. , 19.8, 17.8, 16. ],\n",
       "       [17.8, 19.8, 17.8, 16. , 14.4],\n",
       "       [16. , 17.8, 16. , 14.4, 13. ],\n",
       "       [14.4, 16. , 14.4, 13. , 11.7]])"
      ]
     },
     "execution_count": 22,
     "metadata": {},
     "output_type": "execute_result"
    }
   ],
   "source": [
    "display_state_values(expected_values, title='Solution: Optimal Agent')\n",
    "expected_values"
   ]
  },
  {
   "cell_type": "markdown",
   "metadata": {},
   "source": [
    "## Monte Carlo\n",
    "Monte Carlo is the first class of algorithm that is scaleable to complex real world problems. Unlike the previous approaches, Monte Carlo methods do not require a model of the environment, learning from both simulated episodes and actual experience. Additionally, this strategy does not require precise estimation of every state if only particular regions are relevant to our use-case.\n",
    "\n",
    "However Monte Carlo requires a strategy for generating episodes, either for on-policy learning, off-policy learning, simulation, or back-test. None of the these algorithms generate sensible results in a reasonable amount of time without some form of exploration, such as epsilon-greedy policies. This is an extremely strong indication that a supervised learning approach would naively reach a suboptimal policy while never finding the data necessary to escape the local minima."
   ]
  },
  {
   "cell_type": "code",
   "execution_count": 23,
   "metadata": {
    "ExecuteTime": {
     "end_time": "2020-05-25T19:01:18.995089Z",
     "start_time": "2020-05-25T19:01:18.987241Z"
    }
   },
   "outputs": [],
   "source": [
    "#  TODO: early stopping\n",
    "def mc_prediction(every_visit=False, gamma=0.9, dim=5, T=32, iterations=int(1e4), log_frequency=None):\n",
    "    if log_frequency is None:\n",
    "        log_frequency = iterations + 1\n",
    "\n",
    "    # GreedyAgent fails spectacularly here (likely supervised learning would also fail)\n",
    "    agent = RandomAgent(name='First-Value MC Prediction: Random Agent')\n",
    "    returns = {s: (0, 0) for s in product(range(dim), range(dim))}\n",
    "    environment = Gridworld()\n",
    "    for i in range(1, iterations):\n",
    "        if i % log_frequency == 0:\n",
    "            display_state_values(agent.state_values, title=f'MC Prediction: Iteration {i}')\n",
    "        \n",
    "        # Simulate episode\n",
    "        s0 = (random.randint(0, 4), random.randint(0, 4))\n",
    "        environment.set_state(s0)\n",
    "        episode = [s0]  # s0, a0, s1, r1, a1, s2, r2, a2, s3...\n",
    "        for _ in range(T):\n",
    "            a0 = agent.policy(s0)\n",
    "            s1, r1 = environment.transition(a0)\n",
    "            episode.extend([a0, s1, r1]) \n",
    "            s0 = s1\n",
    "\n",
    "        # Replay backwards from the end of the episode\n",
    "        ret = 0\n",
    "        j = T - 1\n",
    "        episode_returns = {}\n",
    "        while j > 0:\n",
    "            r1 = episode[3*j + 3]\n",
    "            s0 = episode[3*j - 1]\n",
    "            j -= 1\n",
    "\n",
    "            ret = r1 + gamma * ret\n",
    "            episode_returns[s0] = ret\n",
    "            if every_visit:\n",
    "                mean_ret, c = returns[s0]\n",
    "                returns[s0] = ((mean_ret * c + ret) / (c + 1), c + 1)\n",
    "            \n",
    "        # Update state values v(s)\n",
    "        for s, ret in episode_returns.items():\n",
    "            if not every_visit:\n",
    "                mean_ret, c = returns[s]\n",
    "                returns[s] = ((mean_ret * c + ret) / (c + 1), c + 1)\n",
    "            agent.state_values[s] = returns[s][0]\n",
    "    return agent"
   ]
  },
  {
   "cell_type": "code",
   "execution_count": 24,
   "metadata": {
    "ExecuteTime": {
     "end_time": "2020-05-25T19:02:16.982691Z",
     "start_time": "2020-05-25T19:01:18.996576Z"
    }
   },
   "outputs": [
    {
     "data": {
      "image/png": "[encoded data removed]",
      "text/plain": [
       "<Figure size 345.6x345.6 with 2 Axes>"
      ]
     },
     "metadata": {
      "needs_background": "light"
     },
     "output_type": "display_data"
    },
    {
     "data": {
      "text/plain": [
       "array([[ 2.99029056,  9.07492549,  4.08298879,  5.22549533,  1.19537731],\n",
       "       [ 1.22390134,  2.72278531,  1.91201106,  1.65611253,  0.33264761],\n",
       "       [-0.07822282,  0.60625043,  0.52780123,  0.28709726, -0.44135819],\n",
       "       [-0.86316287, -0.34503864, -0.2554116 , -0.44601538, -0.99658397],\n",
       "       [-1.58873022, -1.1289699 , -0.96871345, -1.11541321, -1.62211565]])"
      ]
     },
     "execution_count": 24,
     "metadata": {},
     "output_type": "execute_result"
    }
   ],
   "source": [
    "mcp_agent = mc_prediction(iterations=int(1e6), T=16)\n",
    "display_state_values(mcp_agent.state_values, title='First-Visit MC Prediction: Random Agent', plot_actions=False)\n",
    "mcp_agent.state_values"
   ]
  },
  {
   "cell_type": "markdown",
   "metadata": {},
   "source": [
    "### Every Visit\n",
    "Use every available example in the episode, instead of the earliest example only for each state. In other words, use more data to estimate state-value, even if the examples near the end of the episode are not very precise estimates."
   ]
  },
  {
   "cell_type": "code",
   "execution_count": 25,
   "metadata": {
    "ExecuteTime": {
     "end_time": "2020-05-25T19:03:16.928307Z",
     "start_time": "2020-05-25T19:02:16.984133Z"
    }
   },
   "outputs": [
    {
     "data": {
      "image/png": "[encoded data removed]",
      "text/plain": [
       "<Figure size 345.6x345.6 with 2 Axes>"
      ]
     },
     "metadata": {
      "needs_background": "light"
     },
     "output_type": "display_data"
    },
    {
     "data": {
      "text/plain": [
       "array([[ 2.92973556,  9.09121548,  4.02774489,  5.21614346,  1.12227649],\n",
       "       [ 1.11419382,  2.64802001,  1.81958507,  1.58028367,  0.26134222],\n",
       "       [-0.12303052,  0.55069417,  0.48013207,  0.24815515, -0.44713302],\n",
       "       [-0.82055585, -0.31771634, -0.23620994, -0.40832597, -0.9328671 ],\n",
       "       [-1.49100035, -1.03190246, -0.90200774, -1.04070798, -1.52341751]])"
      ]
     },
     "execution_count": 25,
     "metadata": {},
     "output_type": "execute_result"
    }
   ],
   "source": [
    "mcp_agent = mc_prediction(every_visit=True, iterations=int(1e6), T=16)\n",
    "display_state_values(mcp_agent.state_values, title='Every-Visit MC Prediction: Random Agent', plot_actions=False)\n",
    "mcp_agent.state_values"
   ]
  },
  {
   "cell_type": "markdown",
   "metadata": {},
   "source": [
    "### Monte Carlo Control\n",
    "This is the first example in our analysis that does not need an accurate model of the environment. Instead, we use our Agent to interact with the environment to generate new samples. In other words, we learn through affecting users, for better or worse, even if this means giving our users a terrible experience in the short term."
   ]
  },
  {
   "cell_type": "code",
   "execution_count": 26,
   "metadata": {
    "ExecuteTime": {
     "end_time": "2020-05-25T19:03:16.938991Z",
     "start_time": "2020-05-25T19:03:16.929597Z"
    }
   },
   "outputs": [],
   "source": [
    "def mc_control(every_visit=False, gamma=0.9, dim=5, T=32, iterations=int(1e4), log_frequency=None):\n",
    "    if log_frequency is None:\n",
    "        log_frequency = iterations + 1\n",
    "\n",
    "    agent = LearnedAgent(name='MC Control', epsilon=0.01)  # this doesn't work without some exploration\n",
    "    returns = {(x, y, a): (0, 0) for x, y, a in product(range(dim), range(dim), [a for a in Action])}\n",
    "    environment = Gridworld()\n",
    "    for i in range(1, iterations):\n",
    "        if i % log_frequency == 0:\n",
    "            display_state_values(agent.action_values.max(axis=2), title=f'MC Control: Iteration {i}')\n",
    "\n",
    "        # Simulate episode from random (state, action)\n",
    "        x, y, a0 = (random.randint(0, 4), random.randint(0, 4), random.choice([a for a in Action]))\n",
    "        s0 = (x, y)\n",
    "        environment.set_state(s0)\n",
    "        episode = [s0]  # s0, a0, s1, r1, a1, s2, r2, a2, s3...\n",
    "        for _ in range(T):\n",
    "            s1, r1 = environment.transition(a0)\n",
    "            episode.extend([a0, s1, r1])             \n",
    "            a0 = agent.policy(s1)\n",
    "\n",
    "        # Replay backwards from the end of the episode\n",
    "        ret = 0\n",
    "        j = T - 1\n",
    "        episode_returns = {}\n",
    "        while j > 0:\n",
    "            r1 = episode[3*j + 3]\n",
    "            a0 = episode[3*j + 1]\n",
    "            x0, y0 = episode[3*j - 1]\n",
    "            key = (x0, y0, a0)\n",
    "            j -= 1\n",
    "\n",
    "            ret = r1 + gamma * ret\n",
    "            episode_returns[key] = ret\n",
    "            if every_visit:\n",
    "                mean_ret, c = returns[key]\n",
    "                returns[key] = ((mean_ret * c + ret) / (c + 1), c + 1)\n",
    "\n",
    "        # Update action values q(s,a)\n",
    "        for (x, y, a), ret in episode_returns.items():\n",
    "            key = (x, y, a)\n",
    "            if not every_visit:\n",
    "                mean_ret, c = returns[key]\n",
    "                returns[key] = ((mean_ret * c + ret) / (c + 1), c + 1)\n",
    "            agent.action_values[(x, y, a.index)] = returns[key][0]\n",
    "\n",
    "        # Update policy\n",
    "        agent.policy_improvement()\n",
    "    return agent"
   ]
  },
  {
   "cell_type": "code",
   "execution_count": 27,
   "metadata": {
    "ExecuteTime": {
     "end_time": "2020-05-25T19:05:02.206779Z",
     "start_time": "2020-05-25T19:03:16.940114Z"
    }
   },
   "outputs": [
    {
     "data": {
      "image/png": "[encoded data removed]",
      "text/plain": [
       "<Figure size 345.6x345.6 with 2 Axes>"
      ]
     },
     "metadata": {
      "needs_background": "light"
     },
     "output_type": "display_data"
    },
    {
     "data": {
      "text/plain": [
       "array([[17.08795373, 18.53184694, 16.49453673, 13.87292284, 13.09709516],\n",
       "       [15.02338417, 15.87630316, 14.22204104, 12.30867826, 11.27659962],\n",
       "       [13.34185586, 13.62996008, 12.53763165, 10.86013606,  9.43963571],\n",
       "       [11.84534618, 11.36799591, 10.92227563,  9.37592316,  8.5624232 ],\n",
       "       [ 8.88153725, 10.06962879,  8.96694922,  8.59089617,  7.68986312]])"
      ]
     },
     "execution_count": 27,
     "metadata": {},
     "output_type": "execute_result"
    }
   ],
   "source": [
    "mcc_agent = mc_control(iterations=int(1e6), T=16)\n",
    "display_state_values(mcc_agent.action_values.max(axis=2), title='First-Visit MC Control')\n",
    "mcc_agent.action_values.max(axis=2)"
   ]
  },
  {
   "cell_type": "code",
   "execution_count": 28,
   "metadata": {
    "ExecuteTime": {
     "end_time": "2020-05-25T19:06:54.164138Z",
     "start_time": "2020-05-25T19:05:02.208222Z"
    }
   },
   "outputs": [
    {
     "data": {
      "image/png": "[encoded data removed]",
      "text/plain": [
       "<Figure size 345.6x345.6 with 2 Axes>"
      ]
     },
     "metadata": {
      "needs_background": "light"
     },
     "output_type": "display_data"
    },
    {
     "data": {
      "text/plain": [
       "array([[17.37268857, 14.71584118, 16.70670188, 10.15424547, 12.09117594],\n",
       "       [14.99104855, 12.11763858, 14.5157894 ,  8.03494234, 10.64903343],\n",
       "       [13.26892704,  9.97655945, 12.21326414,  6.68429697,  9.34923251],\n",
       "       [11.81481217,  7.75588365, 10.71838031,  9.17274356,  8.53458366],\n",
       "       [ 8.86288605,  6.21387835,  9.06983825,  8.37164178,  7.61675768]])"
      ]
     },
     "execution_count": 28,
     "metadata": {},
     "output_type": "execute_result"
    }
   ],
   "source": [
    "mcc_agent = mc_control(every_visit=True, iterations=int(1e6), T=16)\n",
    "display_state_values(mcc_agent.action_values.max(axis=2), title='Every-Visit MC Control')\n",
    "mcc_agent.action_values.max(axis=2)"
   ]
  },
  {
   "cell_type": "markdown",
   "metadata": {},
   "source": [
    "### Off-Policy Learning through Importance Sampling\n",
    "Assuming our strategy for data collection obeys the *coverage* assumption (every state is visited at least once, such as by using a holdout or epsilon-greedy behavior policy), we can develop new agents without affecting users.\n",
    "\n",
    "However this strategy can be very slow, especially if the behavior policy and target policy behave drastically differently, in which case most episodes will be thrown out by the target policy."
   ]
  },
  {
   "cell_type": "code",
   "execution_count": 29,
   "metadata": {
    "ExecuteTime": {
     "end_time": "2020-05-25T19:06:54.175912Z",
     "start_time": "2020-05-25T19:06:54.165598Z"
    }
   },
   "outputs": [],
   "source": [
    "def get_policy_probs(agent, state, samples=100):\n",
    "    probs = {a: 0 for a in Action}\n",
    "    for _ in range(samples):\n",
    "        a = agent.policy(state)\n",
    "        probs[a] += 1 / samples\n",
    "    return probs\n",
    "\n",
    "# Importance Sampling\n",
    "def off_policy_mc(behavior, target, gamma=0.9, \n",
    "                  dim=5, T=32, iterations=int(1e4), log_frequency=None):\n",
    "    if log_frequency is None:\n",
    "        log_frequency = iterations + 1\n",
    "\n",
    "    returns = {(x, y, a): (0, 0) for x, y, a in product(range(dim), range(dim), [a for a in Action])}\n",
    "    environment = Gridworld()\n",
    "    for i in range(1, iterations):\n",
    "        if i % log_frequency == 0:\n",
    "            display_state_values(target.action_values.max(axis=2), title=f'Off-Policy MC: Iteration {i}')\n",
    "\n",
    "        # Simulate episode from random (state, action)\n",
    "        x, y, a0 = (random.randint(0, 4), random.randint(0, 4), random.choice([a for a in Action]))\n",
    "        s0 = (x, y)\n",
    "        environment.set_state(s0)\n",
    "        episode = [s0]  # s0, a0, s1, r1, a1, s2, r2, a2, s3...\n",
    "        for _ in range(T):\n",
    "            s1, r1 = environment.transition(a0)\n",
    "            episode.extend([a0, s1, r1])             \n",
    "            a0 = behavior.policy(s1)\n",
    "\n",
    "        # Replay backwards from the end of the episode\n",
    "        ret = 0\n",
    "        j = T - 1\n",
    "        w = 1\n",
    "        while j > 0:\n",
    "            r1 = episode[3*j + 3]\n",
    "            a0 = episode[3*j + 1]\n",
    "            x0, y0 = episode[3*j - 1]\n",
    "            j -= 1\n",
    "\n",
    "            key = (x0, y0, a0)\n",
    "            ret = r1 + gamma * ret             \n",
    "            mean_ret, c = returns[key]\n",
    "            returns[key] = ((mean_ret + (w / (c + w)) * (ret - mean_ret)), c + w)\n",
    "            \n",
    "            # If the episode doesn't match the target policy, reject it\n",
    "            target_action = target.policy((x0, y0))\n",
    "            if target_action != a0:\n",
    "                break\n",
    "            w += get_policy_probs(behavior, (x0, y0))[a0]\n",
    "\n",
    "        # Update policy\n",
    "        for (x, y, a), ret in returns.items():\n",
    "            target.action_values[(x, y, a.index)] = returns[(x, y, a)][0]\n",
    "        target.policy_improvement()\n",
    "    return target"
   ]
  },
  {
   "cell_type": "markdown",
   "metadata": {},
   "source": [
    "This ones not quite right... "
   ]
  },
  {
   "cell_type": "code",
   "execution_count": 30,
   "metadata": {
    "ExecuteTime": {
     "end_time": "2020-05-25T19:27:42.336130Z",
     "start_time": "2020-05-25T19:06:54.177006Z"
    }
   },
   "outputs": [
    {
     "data": {
      "image/png": "[encoded data removed]",
      "text/plain": [
       "<Figure size 345.6x345.6 with 2 Axes>"
      ]
     },
     "metadata": {
      "needs_background": "light"
     },
     "output_type": "display_data"
    },
    {
     "data": {
      "text/plain": [
       "array([[ 8.70388672, 10.56932273,  6.37821416,  5.47575671,  3.34696383],\n",
       "       [ 2.52174976,  4.81250294,  3.62252502,  2.90969934,  2.10125441],\n",
       "       [ 1.41536679,  2.33808372,  1.62831684,  0.97552387,  1.22768791],\n",
       "       [ 1.01577258,  1.35033449,  0.896998  ,  0.64287947,  1.88832513],\n",
       "       [ 0.56934332,  0.85535704,  0.52273022,  0.77120096,  0.71726965]])"
      ]
     },
     "execution_count": 30,
     "metadata": {},
     "output_type": "execute_result"
    }
   ],
   "source": [
    "behavior_policy = EpsilonGreedyAgent(state_values=vi_state_values, epsilon=0.25)  # must obey assumption of coverage\n",
    "target = LearnedAgent(name='Target Policy', epsilon=0)  # deterministic\n",
    "off_policy_mc(behavior_policy, target, iterations=int(1e6), T=16)\n",
    "display_state_values(target.action_values.max(axis=2), title='Off-Policy MC Control')\n",
    "target.action_values.max(axis=2)"
   ]
  },
  {
   "cell_type": "markdown",
   "metadata": {},
   "source": [
    "## Temporal-Difference Learning\n",
    "Most of the previous examples have been instructive tools for comparison. Temporal-Difference (TD) is the core approach generating most RL learning algorithms by gradually updating our estimate towards our latest reward and value estimate scaled by a hyperparameter learning rate $\\alpha$.\n",
    "\n",
    "Unlike in Monte Carlo, we can apply these updates at every timestep, instead of waiting for the episode to terminate. For each update, we subtract the *difference* in our value estimate in *time*, before and after observation, from the current action value. While not as fast as Dynamic Programming (\\~200ms), TD algorithms (\\~1s) are still very performant and, more importantly, do not need a model of any complex environment characteristics.\n",
    "\n",
    "Our analysis runs in parallel with the previous exploration into Monte Carlo. First we examine state-value prediction, then action-value control, and finally an off-policy algorithm using distinct behavior and target policies."
   ]
  },
  {
   "cell_type": "markdown",
   "metadata": {},
   "source": [
    "### Temporal Difference Prediction"
   ]
  },
  {
   "cell_type": "code",
   "execution_count": 31,
   "metadata": {
    "ExecuteTime": {
     "end_time": "2020-05-25T19:27:42.342904Z",
     "start_time": "2020-05-25T19:27:42.337585Z"
    }
   },
   "outputs": [],
   "source": [
    "def td_prediction(alpha, every_visit=False, gamma=0.9, dim=5, T=32, iterations=int(1e4), log_frequency=None):\n",
    "    if log_frequency is None:\n",
    "        log_frequency = iterations + 1\n",
    "\n",
    "    agent = RandomAgent(name='TD Prediction: Random Agent')\n",
    "    environment = Gridworld()\n",
    "    for i in range(1, iterations):\n",
    "        if i % log_frequency == 0:\n",
    "            display_state_values(agent.state_values, title=f'TD Prediction: Iteration {i}')\n",
    "        \n",
    "        # Simulate episode\n",
    "        s0 = (random.randint(0, 4), random.randint(0, 4))\n",
    "        environment.set_state(s0)\n",
    "        for _ in range(T):\n",
    "            \n",
    "            # Agent interacts with the environment\n",
    "            a0 = agent.policy(s0)\n",
    "            s1, r1 = environment.transition(a0)\n",
    "            \n",
    "            # Update state values v(s)\n",
    "            v0 = agent.state_values[s0]\n",
    "            v1 = agent.state_values[s1]\n",
    "            agent.state_values[s0] = v0 + alpha * (r1 + gamma * v1 - v0)\n",
    "            \n",
    "            # Prep the next timestep\n",
    "            s0 = s1\n",
    "    return agent"
   ]
  },
  {
   "cell_type": "code",
   "execution_count": 32,
   "metadata": {
    "ExecuteTime": {
     "end_time": "2020-05-25T19:27:43.169470Z",
     "start_time": "2020-05-25T19:27:42.344137Z"
    }
   },
   "outputs": [
    {
     "data": {
      "image/png": "[encoded data removed]",
      "text/plain": [
       "<Figure size 345.6x345.6 with 2 Axes>"
      ]
     },
     "metadata": {
      "needs_background": "light"
     },
     "output_type": "display_data"
    },
    {
     "data": {
      "text/plain": [
       "array([[ 3.43486069e+00,  8.95092880e+00,  4.81220729e+00,\n",
       "         5.16664875e+00,  1.46989778e+00],\n",
       "       [ 1.31375631e+00,  2.03337239e+00,  1.67639487e+00,\n",
       "         1.83224867e+00,  3.54115389e-03],\n",
       "       [ 3.68189738e-01,  3.62515757e-01,  6.48042444e-01,\n",
       "         4.06858572e-01, -7.68083466e-01],\n",
       "       [-9.21795223e-01, -5.08781557e-01, -4.58885404e-01,\n",
       "        -6.61550991e-01, -1.28049745e+00],\n",
       "       [-1.58825173e+00, -1.21701569e+00, -1.23985183e+00,\n",
       "        -1.68017845e+00, -2.05341422e+00]])"
      ]
     },
     "execution_count": 32,
     "metadata": {},
     "output_type": "execute_result"
    }
   ],
   "source": [
    "tdp_agent = td_prediction(0.05, iterations=int(1e4), T=16)\n",
    "display_state_values(tdp_agent.state_values, title='TD: Prediction (Random Agent)', plot_actions=False)\n",
    "tdp_agent.state_values"
   ]
  },
  {
   "cell_type": "markdown",
   "metadata": {},
   "source": [
    "### Temporal Difference Control (SARSA)"
   ]
  },
  {
   "cell_type": "code",
   "execution_count": 33,
   "metadata": {
    "ExecuteTime": {
     "end_time": "2020-05-25T19:27:43.177115Z",
     "start_time": "2020-05-25T19:27:43.170681Z"
    }
   },
   "outputs": [],
   "source": [
    "# SARSA\n",
    "def td_control(alpha, every_visit=False, gamma=0.9, dim=5, T=32, iterations=int(1e4), log_frequency=None):\n",
    "    if log_frequency is None:\n",
    "        log_frequency = iterations + 1\n",
    "\n",
    "    agent = LearnedAgent(name='TD Control', epsilon=0.01)  # this doesn't work without some exploration\n",
    "    environment = Gridworld()\n",
    "    for i in range(1, iterations):\n",
    "        if i % log_frequency == 0:\n",
    "            display_state_values(agent.action_values.max(axis=2), title=f'TD Control: Iteration {i}')\n",
    "\n",
    "        # Simulate episode from random (state, action)\n",
    "        x, y, a0 = (random.randint(0, 4), random.randint(0, 4), random.choice([a for a in Action]))\n",
    "        sa0 = (x, y, a0.index)\n",
    "        environment.set_state((x, y))\n",
    "        for _ in range(T):\n",
    "            s1, r1 = environment.transition(a0)\n",
    "            a1 = agent.policy(s1)\n",
    "            \n",
    "            sa1 = (s1[0], s1[1], a1.index)\n",
    "            q0 = agent.action_values[sa0]\n",
    "            q1 = agent.action_values[sa1]\n",
    "            \n",
    "            # On-Policy update, mid-episode\n",
    "            agent.action_values[sa0] = q0 + alpha * (r1 + gamma * q1 - q0)\n",
    "            agent.update_state_policy((sa0[0], sa0[1]))\n",
    "            \n",
    "            # Prep the next timestep            \n",
    "            a0 = a1\n",
    "            sa0 = sa1 \n",
    "\n",
    "    return agent\n"
   ]
  },
  {
   "cell_type": "code",
   "execution_count": 34,
   "metadata": {
    "ExecuteTime": {
     "end_time": "2020-05-25T19:27:44.255464Z",
     "start_time": "2020-05-25T19:27:43.178309Z"
    }
   },
   "outputs": [
    {
     "data": {
      "image/png": "[encoded data removed]",
      "text/plain": [
       "<Figure size 345.6x345.6 with 2 Axes>"
      ]
     },
     "metadata": {
      "needs_background": "light"
     },
     "output_type": "display_data"
    },
    {
     "data": {
      "text/plain": [
       "array([[21.8110199 , 24.2472432 , 21.81349163, 19.28137757, 17.32020422],\n",
       "       [19.60401083, 21.82005652, 19.65535242, 17.59070456, 15.86863141],\n",
       "       [17.6548432 , 19.6262095 , 17.63098161, 15.89331498, 14.19496615],\n",
       "       [15.85035339, 17.63485517, 15.81479776, 14.14874691, 12.8338441 ],\n",
       "       [14.26506161, 15.8439262 , 14.26744145, 12.84417842, 11.50006608]])"
      ]
     },
     "execution_count": 34,
     "metadata": {},
     "output_type": "execute_result"
    }
   ],
   "source": [
    "tdc_agent = td_control(0.05, iterations=int(1e4), T=16)\n",
    "display_state_values(tdc_agent.action_values.max(axis=2), title='Temporal Difference: Control')\n",
    "tdc_agent.action_values.max(axis=2)"
   ]
  },
  {
   "cell_type": "markdown",
   "metadata": {},
   "source": [
    "### Off-Policy Temporal Difference Control (Q-Learning)"
   ]
  },
  {
   "cell_type": "code",
   "execution_count": 35,
   "metadata": {
    "ExecuteTime": {
     "end_time": "2020-05-25T19:27:44.263265Z",
     "start_time": "2020-05-25T19:27:44.256693Z"
    }
   },
   "outputs": [],
   "source": [
    "def off_policy_td(behavior, target, alpha, gamma=0.9, \n",
    "                  dim=5, T=32, iterations=int(1e4), log_frequency=None):\n",
    "    if log_frequency is None:\n",
    "        log_frequency = iterations + 1\n",
    "\n",
    "    environment = Gridworld()\n",
    "    for i in range(1, iterations):\n",
    "        if i % log_frequency == 0:\n",
    "            display_state_values(target.action_values.max(axis=2), title=f'Off-Policy TD: Iteration {i}')\n",
    "\n",
    "        # Simulate episode from random (state, action)\n",
    "        x, y, a0 = (random.randint(0, 4), random.randint(0, 4), random.choice([a for a in Action]))\n",
    "        sa0 = (x, y, a0.index)\n",
    "        environment.set_state((x, y))\n",
    "        for _ in range(T):\n",
    "            s1, r1 = environment.transition(a0)\n",
    "            \n",
    "            # Evaluate using target policy\n",
    "            a1 = target.policy(s1)            \n",
    "            sa1 = (s1[0], s1[1], a1.index)\n",
    "            q0 = target.action_values[sa0]\n",
    "            q1 = target.action_values[sa1]\n",
    "            \n",
    "            # Off-Policy update, mid-episode\n",
    "            target.action_values[sa0] = q0 + alpha * (r1 + gamma * q1 - q0)\n",
    "            target.update_state_policy((sa0[0], sa0[1]))  # Off-Policy update, mid-episode\n",
    "            \n",
    "            # Generate the episode using the behavior policy          \n",
    "            a0 = behavior.policy(s1)\n",
    "            sa0 = (s1[0], s1[1], a0.index) \n",
    "            \n",
    "    return target"
   ]
  },
  {
   "cell_type": "code",
   "execution_count": 36,
   "metadata": {
    "ExecuteTime": {
     "end_time": "2020-05-25T19:31:02.162880Z",
     "start_time": "2020-05-25T19:27:44.264442Z"
    }
   },
   "outputs": [
    {
     "data": {
      "image/png": "[encoded data removed]",
      "text/plain": [
       "<Figure size 345.6x345.6 with 2 Axes>"
      ]
     },
     "metadata": {
      "needs_background": "light"
     },
     "output_type": "display_data"
    },
    {
     "data": {
      "text/plain": [
       "array([[21.97748529, 24.4194281 , 21.97748529, 19.4194281 , 17.47748529],\n",
       "       [19.77973676, 21.97748529, 19.77973676, 17.80176308, 16.02158677],\n",
       "       [17.80176308, 19.77973676, 17.80176308, 16.02158677, 14.4194281 ],\n",
       "       [16.02158677, 17.80176308, 16.02158677, 14.4194281 , 12.97748529],\n",
       "       [14.4194281 , 16.02158677, 14.4194281 , 12.97748529, 11.67973676]])"
      ]
     },
     "execution_count": 36,
     "metadata": {},
     "output_type": "execute_result"
    }
   ],
   "source": [
    "tdbp_agent = EpsilonGreedyAgent(state_values=vi_state_values, epsilon=0.25)  # must obey assumption of coverage\n",
    "tdtp_agent = LearnedAgent(name='Target Policy', epsilon=0)  # deterministic\n",
    "off_policy_td(tdbp_agent, tdtp_agent, 0.05, iterations=int(1e6), T=16)\n",
    "display_state_values(tdtp_agent.action_values.max(axis=2), \n",
    "                     title='Off-Policy TD Control (Q Learning)', \n",
    "                     save_path='images/qlearning.png')\n",
    "tdtp_agent.action_values.max(axis=2)"
   ]
  },
  {
   "cell_type": "markdown",
   "metadata": {},
   "source": [
    "### Double-Q Learning\n",
    "Random initial states with above average estimates induce bias in our target policy, or value *maximization bias*. To address *maximization bias*, we learn two distinct action values. At each timestep, we flip a coin and randomly use one agent to propose the next action while the other provides feedback. Then, both actors work together to select the best action.\n",
    "\n",
    "This is similar to off-policy learning, however instead of committing behavior and target policies, we randomly swap the two policies reduce maximization bias in an on-policy setting."
   ]
  },
  {
   "cell_type": "code",
   "execution_count": 37,
   "metadata": {
    "ExecuteTime": {
     "end_time": "2020-05-25T19:31:02.171312Z",
     "start_time": "2020-05-25T19:31:02.164334Z"
    }
   },
   "outputs": [],
   "source": [
    "class DoubleAgent(Agent):\n",
    "    \"\"\"Learn the Optimal Policy beginning with a random policy and no priors.\"\"\"    \n",
    "    def __init__(self, name='Double', gamma=0.9, dim=5, epsilon=0):\n",
    "        super().__init__(name)\n",
    "        self.policy_left = LearnedAgent('Left')\n",
    "        self.policy_right = LearnedAgent('Right')\n",
    "        self.action_values_right = np.random.randn(5, 5, 4)  # q(s, a)\n",
    "        self.gamma = gamma\n",
    "        self.epsilon = epsilon\n",
    "        \n",
    "    def policy(self, s, explore=True):\n",
    "        if explore and random.random() < self.epsilon:\n",
    "            return random.choice([a for a in Action])\n",
    "        \n",
    "        max_action_value = -1000\n",
    "        for a in Action:\n",
    "            key = (s[0], s[1], a.index)\n",
    "            action_value_left = self.policy_left.action_values[key]\n",
    "            action_value_right = self.policy_right.action_values[key]\n",
    "            action_value = action_value_left + action_value_right\n",
    "            if action_value > max_action_value:\n",
    "                action = a\n",
    "                max_action_value = action_value\n",
    "        return action\n",
    "    \n",
    "    def plot_action_values(self, title):\n",
    "        display_state_values(self.policy_left.action_values.max(axis=2), title=title + ' (Agent 1)')\n",
    "        display_state_values(self.policy_right.action_values.max(axis=2), title=title + ' (Agent 2)')\n",
    "        return self.policy_left.action_values.max(axis=2), self.policy_right.action_values.max(axis=2)\n"
   ]
  },
  {
   "cell_type": "code",
   "execution_count": 38,
   "metadata": {
    "ExecuteTime": {
     "end_time": "2020-05-25T19:31:02.179497Z",
     "start_time": "2020-05-25T19:31:02.172521Z"
    }
   },
   "outputs": [],
   "source": [
    "def double_q_learning(agent, alpha, gamma=0.9, \n",
    "                      dim=5, T=32, iterations=int(1e4), log_frequency=None):\n",
    "    if log_frequency is None:\n",
    "        log_frequency = iterations + 1\n",
    "\n",
    "    environment = Gridworld()\n",
    "    for i in range(1, iterations):\n",
    "        if i % log_frequency == 0:\n",
    "            agent.plot_action_values(f'DQL: Iteration {i}')\n",
    "\n",
    "        # Simulate episode from random (state, action)\n",
    "        x, y, a0 = (random.randint(0, 4), random.randint(0, 4), random.choice([a for a in Action]))\n",
    "        sa0 = (x, y, a0.index)\n",
    "        environment.set_state((x, y))\n",
    "        for _ in range(T):\n",
    "            s1, r1 = environment.transition(a0)\n",
    "            \n",
    "            # Flip a coin\n",
    "            if random.random() < 0.5:\n",
    "                student, teacher = agent.policy_left, agent.policy_right\n",
    "            else:\n",
    "                student, teacher = agent.policy_right, agent.policy_left\n",
    "                \n",
    "            # Students picks the next action\n",
    "            a1 = student.policy(s1)\n",
    "            \n",
    "            # Teacher provides feedback\n",
    "            sa1 = (s1[0], s1[1], a1.index)\n",
    "            q1 = teacher.action_values[sa1]\n",
    "            \n",
    "            # Update the student only\n",
    "            q0 = student.action_values[sa0]\n",
    "            student.action_values[sa0] = q0 + alpha * (r1 + gamma * q1 - q0)\n",
    "            student.update_state_policy((sa0[0], sa0[1]))\n",
    "            \n",
    "            # Generate the episode using the combined policy (must obey assumption of coverage)\n",
    "            a0 = agent.policy(s1)\n",
    "            sa0 = (s1[0], s1[1], a0.index)                        \n",
    "            \n",
    "    return target"
   ]
  },
  {
   "cell_type": "code",
   "execution_count": 39,
   "metadata": {
    "ExecuteTime": {
     "end_time": "2020-05-25T19:31:18.632175Z",
     "start_time": "2020-05-25T19:31:02.180609Z"
    }
   },
   "outputs": [
    {
     "data": {
      "image/png": "[encoded data removed]",
      "text/plain": [
       "<Figure size 345.6x345.6 with 2 Axes>"
      ]
     },
     "metadata": {
      "needs_background": "light"
     },
     "output_type": "display_data"
    },
    {
     "data": {
      "image/png": "[encoded data removed]",
      "text/plain": [
       "<Figure size 345.6x345.6 with 2 Axes>"
      ]
     },
     "metadata": {
      "needs_background": "light"
     },
     "output_type": "display_data"
    },
    {
     "name": "stdout",
     "output_type": "stream",
     "text": [
      "[[21.97748529 24.4194281  21.97748529 19.4194281  17.47748529]\n",
      " [19.77973676 21.97748529 19.77973676 17.80176308 16.02158677]\n",
      " [17.80176308 19.77973676 17.80176308 16.02158677 14.4194281 ]\n",
      " [16.02158677 17.80176308 16.02158677 14.4194281  12.97748529]\n",
      " [14.4194281  16.02158677 14.4194281  12.97748529 11.67973676]]\n",
      "\n",
      "[[21.97748529 24.4194281  21.97748529 19.4194281  17.47748529]\n",
      " [19.77973676 21.97748529 19.77973676 17.80176308 16.02158677]\n",
      " [17.80176308 19.77973676 17.80176308 16.02158677 14.4194281 ]\n",
      " [16.02158677 17.80176308 16.02158677 14.4194281  12.97748529]\n",
      " [14.4194281  16.02158677 14.4194281  12.97748529 11.67973676]]\n"
     ]
    }
   ],
   "source": [
    "dqll_agent = DoubleAgent(name='DQL Agent', epsilon=0.05)  # must explore\n",
    "double_q_learning(dqll_agent, 0.05, iterations=int(1e5), T=16)\n",
    "q1, q2 = dqll_agent.plot_action_values('Double Q-Learning')\n",
    "print(q1)\n",
    "print()\n",
    "print(q2)"
   ]
  },
  {
   "cell_type": "markdown",
   "metadata": {},
   "source": [
    "## N-Step\n",
    "Maintaining a longer window for updates than TD-Learning, beginning to resemble a strategy closer to Monte Carlo. Sutton & Barto claim N-Step return has an *error reduction property* with gauaranteed worst case to be better than $V_{t+n-1}$."
   ]
  },
  {
   "cell_type": "code",
   "execution_count": 40,
   "metadata": {
    "ExecuteTime": {
     "end_time": "2020-05-25T19:31:18.641335Z",
     "start_time": "2020-05-25T19:31:18.633633Z"
    }
   },
   "outputs": [],
   "source": [
    "import collections\n",
    "\n",
    "\n",
    "def ntd_prediction(alpha, n, every_visit=False, gamma=0.9, dim=5, T=32, iterations=int(1e4), log_frequency=None):\n",
    "    if log_frequency is None:\n",
    "        log_frequency = iterations + 1\n",
    "\n",
    "    agent = RandomAgent(name='N-Step TD Prediction (RandomAgent)')\n",
    "    environment = Gridworld()\n",
    "    for i in range(1, iterations):\n",
    "        if i % log_frequency == 0:\n",
    "            display_state_values(agent.state_values, title=f'N-Step TD Prediction: Iteration {i}')\n",
    "        \n",
    "        # Simulate episode\n",
    "        s0 = (random.randint(0, 4), random.randint(0, 4))\n",
    "        environment.set_state(s0)\n",
    "        \n",
    "        states = collections.deque()\n",
    "        states.append(s0)\n",
    "        rewards = [0] * n\n",
    "        \n",
    "        for i in range(1, T + n):\n",
    "            # Episode generation\n",
    "            if i < T:\n",
    "                # Agent interacts with the environment\n",
    "                a0 = agent.policy(s0)\n",
    "                s1, r1 = environment.transition(a0)                \n",
    "                states.append(s1)\n",
    "                rewards[i % n] = r1\n",
    "            else:  # Episode over, update only\n",
    "                rewards[i % n] = 0\n",
    "                \n",
    "            # Update state value\n",
    "            if i >= n:           \n",
    "                target = 0  # gain i-n:i\n",
    "                s_i = states[-1]  # latest observation  \n",
    "                if s_i:\n",
    "                    target += agent.state_values[s_i]\n",
    "                for j in range(0, n):\n",
    "                    target = rewards[(i - j) % n] + gamma * target\n",
    "                \n",
    "                s0 = states.popleft()\n",
    "                v0 = agent.state_values[s0]\n",
    "                agent.state_values[s0] = v0 + alpha * (target - v0)\n",
    "            \n",
    "            # Prep the next timestep\n",
    "            s0 = states[-1] if states else None\n",
    "    return agent"
   ]
  },
  {
   "cell_type": "code",
   "execution_count": 41,
   "metadata": {
    "ExecuteTime": {
     "end_time": "2020-05-25T19:31:59.153113Z",
     "start_time": "2020-05-25T19:31:18.642513Z"
    }
   },
   "outputs": [
    {
     "data": {
      "image/png": "[encoded data removed]",
      "text/plain": [
       "<Figure size 345.6x345.6 with 2 Axes>"
      ]
     },
     "metadata": {
      "needs_background": "light"
     },
     "output_type": "display_data"
    },
    {
     "data": {
      "image/png": "[encoded data removed]",
      "text/plain": [
       "<Figure size 345.6x345.6 with 2 Axes>"
      ]
     },
     "metadata": {
      "needs_background": "light"
     },
     "output_type": "display_data"
    },
    {
     "data": {
      "image/png": "[encoded data removed]",
      "text/plain": [
       "<Figure size 345.6x345.6 with 2 Axes>"
      ]
     },
     "metadata": {
      "needs_background": "light"
     },
     "output_type": "display_data"
    },
    {
     "data": {
      "image/png": "[encoded data removed]",
      "text/plain": [
       "<Figure size 345.6x345.6 with 2 Axes>"
      ]
     },
     "metadata": {
      "needs_background": "light"
     },
     "output_type": "display_data"
    }
   ],
   "source": [
    "for i in [1,2,5,10]:\n",
    "    ntdp_agent = ntd_prediction(0.01, i, iterations=int(1e5), T=16)\n",
    "    display_state_values(ntdp_agent.state_values, title=f'{i}-Step TD: Prediction (RandomAgent)', plot_actions=False)"
   ]
  },
  {
   "cell_type": "markdown",
   "metadata": {},
   "source": [
    "### N-Step Sarsa (TD On-Policy Control)"
   ]
  },
  {
   "cell_type": "code",
   "execution_count": 42,
   "metadata": {
    "ExecuteTime": {
     "end_time": "2020-05-25T19:31:59.163132Z",
     "start_time": "2020-05-25T19:31:59.154353Z"
    }
   },
   "outputs": [],
   "source": [
    "def n_sarsa(alpha, n, every_visit=False, gamma=0.9, dim=5, T=32, iterations=int(1e4), log_frequency=None):\n",
    "    if log_frequency is None:\n",
    "        log_frequency = iterations + 1\n",
    "\n",
    "    agent = LearnedAgent(name='N-Step TD Control', epsilon=0.01)  # this doesn't work without some exploration\n",
    "    environment = Gridworld()\n",
    "    for i in range(1, iterations):\n",
    "        if i % log_frequency == 0:\n",
    "            display_state_values(agent.action_values.max(axis=2), title=f'TD Control: Iteration {i}')\n",
    "          \n",
    "        # Simulate episode\n",
    "        x, y, a0 = (random.randint(0, 4), random.randint(0, 4), random.choice([a for a in Action]))\n",
    "        sa0 = (x, y, a0.index)\n",
    "        environment.set_state((x, y))\n",
    "        \n",
    "        actions = collections.deque([sa0])\n",
    "        rewards = collections.deque([])\n",
    "        \n",
    "        for i in range(1, T + n):\n",
    "            # Episode generation\n",
    "            if i < T:\n",
    "                s1, r1 = environment.transition(a0)   \n",
    "                a1 = agent.policy(s1)             \n",
    "                \n",
    "                sa1 = (s1[0], s1[1], a1.index)\n",
    "                actions.append(sa1)\n",
    "                rewards.append(r1)\n",
    "                \n",
    "            # Update state value\n",
    "            if i >= n:           \n",
    "                target = 0  # gain i-n:i\n",
    "                sa_i = actions[-1] if actions else None # latest observation  \n",
    "                if sa_i:\n",
    "                    target += agent.action_values[sa_i]\n",
    "                for j in range(len(rewards) - 2, -1, -1):\n",
    "                    target = rewards[j] + gamma * target\n",
    "                    \n",
    "                if rewards: rewards.popleft()\n",
    "                sa0 = actions.popleft()                \n",
    "                q0 = agent.action_values[sa0]\n",
    "                agent.action_values[sa0] = q0 + alpha * (r1 + gamma * target - q0)\n",
    "                agent.update_state_policy((sa0[0], sa0[1]))   \n",
    "                \n",
    "            # Prep the next timestep\n",
    "            if actions:\n",
    "                sa0 = actions[-1]\n",
    "                a0 = [a for a in Action][sa0[2]]\n",
    "            else:\n",
    "                break\n",
    "\n",
    "    return agent\n"
   ]
  },
  {
   "cell_type": "code",
   "execution_count": 47,
   "metadata": {
    "ExecuteTime": {
     "end_time": "2020-05-26T23:19:20.001880Z",
     "start_time": "2020-05-26T23:18:52.007956Z"
    }
   },
   "outputs": [
    {
     "data": {
      "image/png": "[encoded data removed]",
      "text/plain": [
       "<Figure size 345.6x345.6 with 2 Axes>"
      ]
     },
     "metadata": {
      "needs_background": "light"
     },
     "output_type": "display_data"
    },
    {
     "data": {
      "image/png": "[encoded data removed]",
      "text/plain": [
       "<Figure size 345.6x345.6 with 2 Axes>"
      ]
     },
     "metadata": {
      "needs_background": "light"
     },
     "output_type": "display_data"
    },
    {
     "data": {
      "image/png": "[encoded data removed]",
      "text/plain": [
       "<Figure size 345.6x345.6 with 2 Axes>"
      ]
     },
     "metadata": {
      "needs_background": "light"
     },
     "output_type": "display_data"
    },
    {
     "data": {
      "image/png": "[encoded data removed]",
      "text/plain": [
       "<Figure size 345.6x345.6 with 2 Axes>"
      ]
     },
     "metadata": {
      "needs_background": "light"
     },
     "output_type": "display_data"
    },
    {
     "data": {
      "image/png": "[encoded data removed]",
      "text/plain": [
       "<Figure size 345.6x345.6 with 2 Axes>"
      ]
     },
     "metadata": {
      "needs_background": "light"
     },
     "output_type": "display_data"
    }
   ],
   "source": [
    "for n in [1, 2, 3, 4, 5]:\n",
    "    # Performance breaks down for larger values of n, even with lower learning rate\n",
    "    ns_agent = n_sarsa(0.05, n, iterations=int(1e4), T=64)\n",
    "    display_state_values(ns_agent.action_values.max(axis=2), title=f'{n}-Step SARSA')\n",
    "    ns_agent.action_values.max(axis=2)"
   ]
  },
  {
   "cell_type": "markdown",
   "metadata": {},
   "source": [
    "### Off Policy N-Step Sarsa"
   ]
  },
  {
   "cell_type": "code",
   "execution_count": 44,
   "metadata": {
    "ExecuteTime": {
     "end_time": "2020-05-25T19:32:20.683127Z",
     "start_time": "2020-05-25T19:32:20.671016Z"
    }
   },
   "outputs": [],
   "source": [
    "import collections\n",
    "\n",
    "\n",
    "def action_likelihood(agent, state, resolution=1e-2):\n",
    "    samples = int(2 / resolution)\n",
    "    outcomes = collections.defaultdict(int)\n",
    "    for _ in range(samples):\n",
    "        outcomes[agent.policy(state).index] += 1\n",
    "    probs = {action.index: outcomes[action.index] / samples for action in Action}\n",
    "    return probs\n",
    "\n",
    "\n",
    "def off_policy_ntd(behavior, target_pol, alpha, n, gamma=0.9, control_variate=True,\n",
    "                   dim=5, T=32, iterations=int(1e4), log_frequency=None):\n",
    "    if log_frequency is None:\n",
    "        log_frequency = iterations + 1\n",
    "    environment = Gridworld()\n",
    "    for i in range(1, iterations):\n",
    "        if i % log_frequency == 0:\n",
    "            display_state_values(agent.action_values.max(axis=2), title=f'TD Control: Iteration {i}')\n",
    "          \n",
    "        # Simulate episode\n",
    "        x, y, a0 = (random.randint(0, 4), random.randint(0, 4), random.choice([a for a in Action]))\n",
    "        sa0 = (x, y, a0.index)\n",
    "        environment.set_state((x, y))\n",
    "        \n",
    "        actions = collections.deque([sa0])\n",
    "        rewards = collections.deque([])\n",
    "        \n",
    "        for i in range(1, T + n):\n",
    "            # Episode generation\n",
    "            if i < T:\n",
    "                s1, r1 = environment.transition(a0)   \n",
    "                a1 = behavior.policy(s1)             \n",
    "                \n",
    "                sa1 = (s1[0], s1[1], a1.index)\n",
    "                actions.append(sa1)\n",
    "                rewards.append(r1)\n",
    "                \n",
    "            # Update state value\n",
    "            if i >= n:           \n",
    "                target = 0  # gain i-n:i\n",
    "                sa_i = actions[-1] if actions else None # latest observation  \n",
    "                if sa_i:\n",
    "                    target += target_pol.action_values[sa_i]\n",
    "                sampling_ratio = 1\n",
    "                for j in range(len(rewards) - 2, -1, -1):\n",
    "                    sa = actions[j - 1]\n",
    "                    state = (sa[0], sa[1])\n",
    "                    action = sa[2]\n",
    "                    behavior_prob = action_likelihood(behavior, state)[action]\n",
    "                    target_prob = action_likelihood(target_pol, state)[action]\n",
    "                    if control_variate:\n",
    "                        rho_t = target_prob / behavior_prob\n",
    "                        target = rho_t * (rewards[j] + gamma * target) + (1 - rho_t) * target_pol.action_values[sa]\n",
    "                    else:\n",
    "                        sampling_ratio *= target_prob / behavior_prob\n",
    "                        target = rewards[j] + gamma * target\n",
    "                    \n",
    "                if rewards: rewards.popleft()\n",
    "                sa0 = actions.popleft()                \n",
    "                q0 = target_pol.action_values[sa0]\n",
    "                update = (r1 + gamma * target - q0)\n",
    "                if not control_variate:\n",
    "                    update *= sampling_ratio\n",
    "                target_pol.action_values[sa0] = q0 + alpha * update\n",
    "                target_pol.update_state_policy((sa0[0], sa0[1]))   \n",
    "                \n",
    "            # Prep the next timestep\n",
    "            if actions:\n",
    "                sa0 = actions[-1]\n",
    "                a0 = [a for a in Action][sa0[2]]\n",
    "            else:\n",
    "                break\n",
    "\n",
    "    return target_pol\n"
   ]
  },
  {
   "cell_type": "code",
   "execution_count": 45,
   "metadata": {
    "ExecuteTime": {
     "end_time": "2020-05-25T19:32:45.357494Z",
     "start_time": "2020-05-25T19:32:20.684310Z"
    }
   },
   "outputs": [
    {
     "data": {
      "image/png": "[encoded data removed]",
      "text/plain": [
       "<Figure size 345.6x345.6 with 2 Axes>"
      ]
     },
     "metadata": {
      "needs_background": "light"
     },
     "output_type": "display_data"
    },
    {
     "data": {
      "image/png": "[encoded data removed]",
      "text/plain": [
       "<Figure size 345.6x345.6 with 2 Axes>"
      ]
     },
     "metadata": {
      "needs_background": "light"
     },
     "output_type": "display_data"
    },
    {
     "data": {
      "image/png": "[encoded data removed]",
      "text/plain": [
       "<Figure size 345.6x345.6 with 2 Axes>"
      ]
     },
     "metadata": {
      "needs_background": "light"
     },
     "output_type": "display_data"
    }
   ],
   "source": [
    "for n in [1,2,3]:\n",
    "    ntdbp_agent = EpsilonGreedyAgent(state_values=vi_state_values, epsilon=0.25)  # must obey assumption of coverage\n",
    "    ntdtp_agent = LearnedAgent(name='Target Policy', epsilon=0)  # deterministic\n",
    "    off_policy_ntd(ntdbp_agent, ntdtp_agent, 0.05, n, iterations=int(1e3), T=8, control_variate=False)\n",
    "    display_state_values(ntdtp_agent.action_values.max(axis=2), \n",
    "                         title=f'Off-Policy {n}-Step TD Control')\n",
    "    ntdtp_agent.action_values.max(axis=2)"
   ]
  },
  {
   "cell_type": "markdown",
   "metadata": {},
   "source": [
    "#### Control Variate\n",
    "Enable an update when our behavior policy produces an action $a_t$ that has 0% likelihood in our target policy using the bootstrapped estimate for the $Q(s_t,a_t)$. The strategy can be extended to all possible actions using *n-step Tree Backup*. Sampling outcomes and bootstrapping expected outcomes can be interpolated using *n-step Q($\\sigma$)*."
   ]
  },
  {
   "cell_type": "code",
   "execution_count": 46,
   "metadata": {
    "ExecuteTime": {
     "end_time": "2020-05-25T19:33:09.945889Z",
     "start_time": "2020-05-25T19:32:45.358944Z"
    }
   },
   "outputs": [
    {
     "data": {
      "image/png": "[encoded data removed]",
      "text/plain": [
       "<Figure size 345.6x345.6 with 2 Axes>"
      ]
     },
     "metadata": {
      "needs_background": "light"
     },
     "output_type": "display_data"
    },
    {
     "data": {
      "image/png": "[encoded data removed]",
      "text/plain": [
       "<Figure size 345.6x345.6 with 2 Axes>"
      ]
     },
     "metadata": {
      "needs_background": "light"
     },
     "output_type": "display_data"
    },
    {
     "data": {
      "image/png": "[encoded data removed]",
      "text/plain": [
       "<Figure size 345.6x345.6 with 2 Axes>"
      ]
     },
     "metadata": {
      "needs_background": "light"
     },
     "output_type": "display_data"
    }
   ],
   "source": [
    "for n in [1,2,3]:\n",
    "    ntdbp_agent = EpsilonGreedyAgent(state_values=vi_state_values, epsilon=0.25)  # must obey assumption of coverage\n",
    "    ntdtp_agent = LearnedAgent(name='Target Policy', epsilon=0)  # deterministic\n",
    "    off_policy_ntd(ntdbp_agent, ntdtp_agent, 0.05, n, iterations=int(1e3), T=8, control_variate=True)\n",
    "    display_state_values(ntdtp_agent.action_values.max(axis=2), \n",
    "                         title=f'Off-Policy {n}-Step TD Control')\n",
    "    ntdtp_agent.action_values.max(axis=2)"
   ]
  },
  {
   "cell_type": "markdown",
   "metadata": {},
   "source": [
    "## Conclusion\n",
    "In this notebook, we have intestigated 4 types of algorithms, **Linear Programming (LP)**, **Dynamic Programming (DP)**, **Monte Carlo (MC)**, and **Temporal Difference Learning (TD)** in our toy Gridworld environment. For the most part, all of these algorithms were able to solve our problem optimally. However **LP** and **DP** require exact models of the environment, making them difficult to use in complex problems. They both also scale poorly with large problems. Neither **MC** nor **TD** require these models, making them both more suitable to complex, real-world scenarios.\n",
    "\n",
    "For **MC** and **TD**, we divided the problem into 3 aspects, **Prediction** (evaluating the returns for a policy), **On-Policy Control** (using our policy on the environment to improve itself) and **Off-Policy Control** (learning while another policy is in control). We also explore a generalization of **TD**, **N-Step TD**, which extends the update window and begins to resemble the longer horizon estimates used in **MC**."
   ]
  },
  {
   "cell_type": "code",
   "execution_count": null,
   "metadata": {},
   "outputs": [],
   "source": []
  }
 ],
 "metadata": {
  "kernelspec": {
   "display_name": "Python 3",
   "language": "python",
   "name": "python3"
  },
  "language_info": {
   "codemirror_mode": {
    "name": "ipython",
    "version": 3
   },
   "file_extension": ".py",
   "mimetype": "text/x-python",
   "name": "python",
   "nbconvert_exporter": "python",
   "pygments_lexer": "ipython3",
   "version": "3.6.9"
  }
 },
 "nbformat": 4,
 "nbformat_minor": 4
}
