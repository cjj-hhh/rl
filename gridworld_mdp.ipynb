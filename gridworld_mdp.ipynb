{
 "cells": [
  {
   "cell_type": "code",
   "execution_count": 1,
   "metadata": {
    "ExecuteTime": {
     "end_time": "2020-04-27T04:13:19.272939Z",
     "start_time": "2020-04-27T04:13:19.270845Z"
    }
   },
   "outputs": [],
   "source": [
    "from __future__ import print_function"
   ]
  },
  {
   "cell_type": "markdown",
   "metadata": {},
   "source": [
    "# Gridworld\n",
    "This is completely over-engineered, but we will tackle this problem using different RL algorithms from future chapters.\n",
    "\n",
    "From [Sutton & Barto](http://incompleteideas.net/book/the-book-2nd.html) Example 3.5/3.8 and Berkeley [CS287: Advanced Robotics](https://people.eecs.berkeley.edu/~pabbeel/cs287-fa12/slides/mdps-exact-methods.pdf) (see slide 30)"
   ]
  },
  {
   "cell_type": "markdown",
   "metadata": {},
   "source": [
    "<img src=\"images/gridworld.png\" width=\"85%\" />"
   ]
  },
  {
   "cell_type": "code",
   "execution_count": 2,
   "metadata": {
    "ExecuteTime": {
     "end_time": "2020-04-27T04:13:21.124002Z",
     "start_time": "2020-04-27T04:13:19.276408Z"
    }
   },
   "outputs": [],
   "source": [
    "%matplotlib inline\n",
    "\n",
    "from IPython.display import display, clear_output\n",
    "from datetime import datetime, timedelta\n",
    "from itertools import product\n",
    "from pandas.plotting import register_matplotlib_converters\n",
    "\n",
    "import ipywidgets as widgets\n",
    "import numpy as np\n",
    "import matplotlib.pyplot as plt\n",
    "import pandas as pd\n",
    "import random\n",
    "import tensorflow as tf\n",
    "\n",
    "\n",
    "pd.options.display.max_columns = None\n",
    "register_matplotlib_converters()"
   ]
  },
  {
   "cell_type": "markdown",
   "metadata": {},
   "source": [
    "Verify dependencies (can use image \"TF2.1 Py3.6 NLP\" or similar -- thanks Arman )"
   ]
  },
  {
   "cell_type": "code",
   "execution_count": 3,
   "metadata": {
    "ExecuteTime": {
     "end_time": "2020-04-27T04:13:21.128121Z",
     "start_time": "2020-04-27T04:13:21.125902Z"
    }
   },
   "outputs": [],
   "source": [
    "assert tf.__version__.startswith('2'), tf.__version__"
   ]
  },
  {
   "cell_type": "code",
   "execution_count": 4,
   "metadata": {
    "ExecuteTime": {
     "end_time": "2020-04-27T04:13:23.001351Z",
     "start_time": "2020-04-27T04:13:21.129628Z"
    }
   },
   "outputs": [
    {
     "name": "stdout",
     "output_type": "stream",
     "text": [
      "Looking in indexes: https://pypi.org/simple, https://pypi.lyft.net/pypi/\n",
      "Requirement already satisfied: ortools in /code/venvs/venv/lib/python3.6/site-packages (7.5.7466)\n",
      "Requirement already satisfied: six>=1.10 in /code/venvs/venv/lib/python3.6/site-packages (from ortools) (1.12.0)\n",
      "Requirement already satisfied: protobuf>=3.11.2 in /code/venvs/venv/lib/python3.6/site-packages (from ortools) (3.11.3)\n",
      "Requirement already satisfied: setuptools in /code/venvs/venv/lib/python3.6/site-packages (from protobuf>=3.11.2->ortools) (45.2.0)\n",
      "Note: you may need to restart the kernel to use updated packages.\n"
     ]
    }
   ],
   "source": [
    "%pip install ortools\n",
    "\n",
    "from ortools.linear_solver import pywraplp\n",
    "\n",
    "# need to restart notebook after installing first time\n",
    "_ = pywraplp.Solver('LinearProgrammingGridworld', pywraplp.Solver.GLOP_LINEAR_PROGRAMMING)"
   ]
  },
  {
   "cell_type": "markdown",
   "metadata": {
    "ExecuteTime": {
     "end_time": "2020-04-22T07:14:42.383807Z",
     "start_time": "2020-04-22T07:12:50.820Z"
    }
   },
   "source": [
    "<img src=\"images/gridworld2.png\" width=\"85%\" />"
   ]
  },
  {
   "cell_type": "markdown",
   "metadata": {},
   "source": [
    "## The Grid\n",
    "A digital [frontier](https://www.youtube.com/watch?v=4-J4duzP8Ng)..."
   ]
  },
  {
   "cell_type": "code",
   "execution_count": 5,
   "metadata": {
    "ExecuteTime": {
     "end_time": "2020-04-27T04:13:23.006173Z",
     "start_time": "2020-04-27T04:13:23.003200Z"
    }
   },
   "outputs": [],
   "source": [
    "# optimal strategy, gamma=0.9\n",
    "expected_values = np.array([\n",
    "    [22.0, 24.4, 22.0, 19.4, 17.5],\n",
    "    [19.8, 22.0, 19.8, 17.8, 16.0],\n",
    "    [17.8, 19.8, 17.8, 16.0, 14.4],\n",
    "    [16.0, 17.8, 16.0, 14.4, 13.0],\n",
    "    [14.4, 16.0, 14.4, 13.0, 11.7]\n",
    "])"
   ]
  },
  {
   "cell_type": "markdown",
   "metadata": {
    "ExecuteTime": {
     "end_time": "2020-04-20T06:46:22.702445Z",
     "start_time": "2020-04-20T06:46:22.696856Z"
    }
   },
   "source": [
    "## Actions\n",
    "[North](https://www.youtube.com/watch?v=K31sJIbv_20), [East](https://www.youtube.com/watch?v=dq3rVbGCijo), [West](https://www.youtube.com/watch?v=2LVLo61M0rY), [South](https://www.youtube.com/watch?v=zRYQJw_pYgY)"
   ]
  },
  {
   "cell_type": "code",
   "execution_count": 6,
   "metadata": {
    "ExecuteTime": {
     "end_time": "2020-04-27T04:13:23.012480Z",
     "start_time": "2020-04-27T04:13:23.007388Z"
    }
   },
   "outputs": [],
   "source": [
    "from enum import Enum\n",
    "\n",
    "\n",
    "class Action(Enum):\n",
    "    NORTH = 'N', 0, lambda x: (x[0] - 1, x[1]), (0, 1)\n",
    "    EAST = 'E', 1, lambda x: (x[0], x[1] + 1), (1, 0)\n",
    "    WEST = 'W', 2, lambda x: (x[0], x[1] - 1), (-1, 0)\n",
    "    SOUTH = 'S', 3, lambda x: (x[0] + 1, x[1]), (0, -1)\n",
    "    def __init__(self, display_name, index, transition, direction):\n",
    "        self.display_name = display_name\n",
    "        self.index = index\n",
    "        self.transition = transition  # numpy row-major coordinates\n",
    "        self.direction = direction  # matplotlib coordinates\n",
    "        \n",
    "    def __str__(self):\n",
    "        return self.display_name"
   ]
  },
  {
   "cell_type": "markdown",
   "metadata": {},
   "source": [
    "## Agents"
   ]
  },
  {
   "cell_type": "code",
   "execution_count": 7,
   "metadata": {
    "ExecuteTime": {
     "end_time": "2020-04-27T04:13:23.016531Z",
     "start_time": "2020-04-27T04:13:23.013661Z"
    }
   },
   "outputs": [],
   "source": [
    "class Agent(object):\n",
    "    def __init__(self, name):\n",
    "        self.name = name\n",
    "        \n",
    "    def policy(self, state):\n",
    "        \"\"\"Return an Action given STATE\"\"\"\n",
    "        raise NotImplementedError()\n"
   ]
  },
  {
   "cell_type": "code",
   "execution_count": 8,
   "metadata": {
    "ExecuteTime": {
     "end_time": "2020-04-27T04:13:23.022366Z",
     "start_time": "2020-04-27T04:13:23.017695Z"
    }
   },
   "outputs": [],
   "source": [
    "class GreedyAgent(Agent):\n",
    "    \"\"\"\n",
    "    This agent has perfect information regarding the environment transition probabilities and rewards.\n",
    "    \n",
    "    This approach is infeasible for complex problems where the environment is unknown.\n",
    "    \"\"\"\n",
    "    def __init__(self, state_values=None, name='Optimal', gamma=0.9):\n",
    "        super().__init__(name)\n",
    "        if state_values is None:\n",
    "            state_values = np.random.randn(5, 5)\n",
    "        self.state_values = state_values  # v(s)\n",
    "        self.gamma = gamma\n",
    "        \n",
    "        self.environment = Gridworld()\n",
    "        \n",
    "    def policy(self, state):\n",
    "        \"\"\"Policy iteration using the exact transition/reward outcomes.\"\"\"\n",
    "        action = None\n",
    "        max_action_value = -1000\n",
    "        for a in Action:\n",
    "            self.environment.set_state(state)\n",
    "            s1, r = self.environment.transition(a)\n",
    "            \n",
    "            action_value = r + self.gamma * self.state_values[s1]\n",
    "            if action_value > max_action_value:\n",
    "                action = a\n",
    "                max_action_value = action_value\n",
    "                \n",
    "        return action"
   ]
  },
  {
   "cell_type": "code",
   "execution_count": 9,
   "metadata": {
    "ExecuteTime": {
     "end_time": "2020-04-27T04:13:23.027565Z",
     "start_time": "2020-04-27T04:13:23.024161Z"
    }
   },
   "outputs": [],
   "source": [
    "class EpsilonGreedyAgent(GreedyAgent):\n",
    "    \"\"\"\n",
    "    GreedyAgent with epsilon greedy exploration.\n",
    "    \n",
    "    This approach is infeasible for complex problems where the environment is unknown.\n",
    "    \"\"\"\n",
    "    def __init__(self, epsilon=1e-2, **kwargs):\n",
    "        super().__init__(**kwargs)\n",
    "        self.epsilon = epsilon\n",
    "        \n",
    "    def policy(self, state):\n",
    "        if random.random() < self.epsilon:\n",
    "            return random.choice([a for a in Action])\n",
    "                \n",
    "        return super().policy(state)"
   ]
  },
  {
   "cell_type": "code",
   "execution_count": 10,
   "metadata": {
    "ExecuteTime": {
     "end_time": "2020-04-27T04:13:23.037236Z",
     "start_time": "2020-04-27T04:13:23.028986Z"
    }
   },
   "outputs": [],
   "source": [
    "class LearnedAgent(Agent):\n",
    "    \"\"\"Learn the Optimal Policy beginning with a random policy and no priors.\"\"\"    \n",
    "    def __init__(self, name='Learned', gamma=0.9, dim=5, epsilon=0):\n",
    "        super().__init__(name)\n",
    "        #self.state_values = np.random.randn(5, 5)  # v(s)\n",
    "        self.action_values = np.random.randn(5, 5, 4)  # q(s, a)\n",
    "        self._policy = {s: random.choice([a for a in Action])\n",
    "                        for s in product(range(dim), range(dim))}\n",
    "        self.gamma = gamma\n",
    "        self.epsilon = epsilon\n",
    "        \n",
    "        self.environment = Gridworld()\n",
    "        \n",
    "    def policy(self, state):\n",
    "        if random.random() < self.epsilon:\n",
    "            return random.choice([a for a in Action])\n",
    "        return self._policy[state]\n",
    "    \n",
    "    def policy_improvement(self):\n",
    "        \"\"\"Update our policy based on our latest action_values\"\"\"\n",
    "        policy_stable = True\n",
    "        for s, old_action in self._policy.items():\n",
    "            max_action_value = -1000\n",
    "            for a in Action:\n",
    "                action_value = self.action_values[(s[0], s[1], a.index)]\n",
    "                if action_value > max_action_value:\n",
    "                    action = a\n",
    "                    max_action_value = action_value\n",
    "            if action != old_action:\n",
    "                policy_stable = False\n",
    "            self._policy[s] = action\n",
    "            \n",
    "        return policy_stable"
   ]
  },
  {
   "cell_type": "markdown",
   "metadata": {},
   "source": [
    "## Environment"
   ]
  },
  {
   "cell_type": "code",
   "execution_count": 11,
   "metadata": {
    "ExecuteTime": {
     "end_time": "2020-04-27T04:13:23.043900Z",
     "start_time": "2020-04-27T04:13:23.038420Z"
    }
   },
   "outputs": [],
   "source": [
    "class Gridworld(object):\n",
    "    def __init__(self, initial_state=(0, 0)):\n",
    "        self.dim = 5\n",
    "        self.state = initial_state\n",
    "        \n",
    "    def set_state(self, state):\n",
    "        self.state = state\n",
    "\n",
    "    def _transition_state(self, action):\n",
    "        \"\"\"Try to apply the ACTION and check whether it is valid\"\"\"\n",
    "        x, y = action.transition(self.state)\n",
    "        if x < 0 or x >= self.dim:\n",
    "            return self.state\n",
    "        elif y < 0 or y >= self.dim:\n",
    "            return self.state\n",
    "        return x, y\n",
    "    \n",
    "    def transition(self, action):\n",
    "        \"\"\"Apply the given ACTION to the current state and return the new state and reward.\"\"\"\n",
    "        reward = 0\n",
    "        if self.state == (0, 1):  # special state A            \n",
    "            new_state = (4, 1)\n",
    "            reward = 10\n",
    "        elif self.state == (0, 3):  # specal state B\n",
    "            new_state = (2, 3)\n",
    "            reward = 5\n",
    "        else:\n",
    "            new_state = self._transition_state(action)\n",
    "            # invalid move\n",
    "            if new_state == self.state:\n",
    "                reward = -1\n",
    "\n",
    "        self.state = new_state\n",
    "        return new_state, reward       "
   ]
  },
  {
   "cell_type": "markdown",
   "metadata": {},
   "source": [
    "## Inspect the OptimalAgent\n",
    "Given the textbook solution, our agent generally moves straight to position `(1, 4)` to collect the 10 reward."
   ]
  },
  {
   "cell_type": "code",
   "execution_count": 12,
   "metadata": {
    "ExecuteTime": {
     "end_time": "2020-04-27T04:13:23.051462Z",
     "start_time": "2020-04-27T04:13:23.045109Z"
    }
   },
   "outputs": [],
   "source": [
    "def display_state_values(state_values, title=None):\n",
    "    fig, ax = plt.subplots(figsize=(4.8, 4.8))\n",
    "    if title:\n",
    "        ax.set_title(title)\n",
    "    # Transform row-major numpy coords to matplotlib coords        \n",
    "    transformed_values = np.rot90(state_values.T)\n",
    "    im = ax.imshow(transformed_values, cmap='hot')\n",
    "    fig.colorbar(im, ax=ax)\n",
    "    \n",
    "    agent = GreedyAgent(state_values)\n",
    "    for s in product(range(5), range(5)):\n",
    "        action = agent.policy(s)\n",
    "        dx, dy = action.direction\n",
    "        \n",
    "        # Transform row-major numpy coords to matplotlib coords\n",
    "        x, y = s[1], 4 - s[0]\n",
    "        ax.arrow(x - 0.25 * dx, y - 0.25 * dy, 0.5 * dx, 0.5 * dy, head_width=0.05)\n",
    "    \n",
    "    ax.set_xlim(-0.5, 4.5)\n",
    "    ax.set_ylim(-0.5, 4.5)\n",
    "    plt.show()\n",
    "\n",
    "    \n",
    "def display_state(state, fig=None, ax=None):\n",
    "    if ax == None:        \n",
    "        fig, ax = plt.subplots(figsize=(6.4*2, 4.8))\n",
    "    grid = np.zeros((5, 5))\n",
    "    grid[state[0], state[1]] = 1\n",
    "    ax.imshow(grid, cmap='viridis')\n",
    "    display(fig)\n",
    "    clear_output(wait=True)\n",
    "    plt.show()"
   ]
  },
  {
   "cell_type": "code",
   "execution_count": 13,
   "metadata": {
    "ExecuteTime": {
     "end_time": "2020-04-27T04:13:23.238830Z",
     "start_time": "2020-04-27T04:13:23.052560Z"
    }
   },
   "outputs": [
    {
     "data": {
      "image/png": "[encoded data removed]",
      "text/plain": [
       "<Figure size 345.6x345.6 with 2 Axes>"
      ]
     },
     "metadata": {
      "needs_background": "light"
     },
     "output_type": "display_data"
    }
   ],
   "source": [
    "display_state_values(expected_values, title='Solution: Optimal Agent')"
   ]
  },
  {
   "cell_type": "markdown",
   "metadata": {},
   "source": [
    "## Linear Programming Value Estimation\n",
    "An exact solution, but extremely sensitive to formulation, hyperparameters, and unscaleable to anything but the simplest problems without making drastic simplifications/assumptions."
   ]
  },
  {
   "cell_type": "code",
   "execution_count": 14,
   "metadata": {
    "ExecuteTime": {
     "end_time": "2020-04-27T04:13:23.246630Z",
     "start_time": "2020-04-27T04:13:23.240118Z"
    }
   },
   "outputs": [],
   "source": [
    "def solve_optimization(gamma=0.9, dim=5):\n",
    "    solver = pywraplp.Solver('LinearProgrammingGridworld',\n",
    "                             pywraplp.Solver.GLOP_LINEAR_PROGRAMMING)\n",
    "\n",
    "    state_values = {s: solver.NumVar(-solver.infinity(), solver.infinity(), f'state_{s[0]}_{s[1]}')\n",
    "                    for s in product(range(dim), range(dim))}\n",
    "    objective = solver.Objective()\n",
    "    objective.SetMinimization()\n",
    "    environment = Gridworld()\n",
    "\n",
    "    # Objective: minimize sum(v(s)) for all s\n",
    "    for s0, v_s0 in state_values.items():\n",
    "        objective.SetCoefficient(v_s0, 1)\n",
    "\n",
    "        # Optimal: v(s) = max_a{r + gamma * v(s')}\n",
    "        for a in Action:\n",
    "\n",
    "            # Deterministically apply (s, a) to Gridworld to get (s', r)\n",
    "            environment.set_state(s0)\n",
    "            s1, r = environment.transition(a)            \n",
    "            v_s1 = state_values[s1]\n",
    "\n",
    "            # Constraint: v(s) - gamma * v(s') >= r\n",
    "            constraint = solver.Constraint(r, solver.infinity())\n",
    "            constraint.SetCoefficient(v_s0, 1)\n",
    "            constraint.SetCoefficient(v_s1, -gamma)\n",
    "\n",
    "    print(f'Number of variables={solver.NumVariables()}, constraints={solver.NumConstraints()}')\n",
    "    solver.EnableOutput()\n",
    "    status = solver.Solve() \n",
    "    if status == solver.OPTIMAL:\n",
    "        values = np.zeros((5, 5))\n",
    "        for (x, y), var in state_values.items():\n",
    "            values[x, y] = var.solution_value()\n",
    "        return values\n",
    "    else:\n",
    "        if status == solver.FEASIBLE:\n",
    "            print('A potentially suboptimal solution was found.')\n",
    "        else:\n",
    "            print('The solver could not solve the problem.')    "
   ]
  },
  {
   "cell_type": "code",
   "execution_count": 15,
   "metadata": {
    "ExecuteTime": {
     "end_time": "2020-04-27T04:13:23.420375Z",
     "start_time": "2020-04-27T04:13:23.247809Z"
    }
   },
   "outputs": [
    {
     "name": "stdout",
     "output_type": "stream",
     "text": [
      "Number of variables=25, constraints=100\n"
     ]
    },
    {
     "data": {
      "image/png": "[encoded data removed]",
      "text/plain": [
       "<Figure size 345.6x345.6 with 2 Axes>"
      ]
     },
     "metadata": {
      "needs_background": "light"
     },
     "output_type": "display_data"
    },
    {
     "data": {
      "text/plain": [
       "array([[ 3.00730776, 10.02435919,  3.00730776,  5.13874615,  1.54162384],\n",
       "       [ 0.90219233,  3.00730776,  0.90219233,  1.54162384,  0.46248715],\n",
       "       [ 0.2706577 ,  0.90219233,  0.2706577 ,  0.46248715,  0.13874615],\n",
       "       [ 0.08119731,  0.2706577 ,  0.08119731,  0.13874615,  0.04162384],\n",
       "       [ 0.02435919,  0.08119731,  0.02435919,  0.04162384,  0.01248715]])"
      ]
     },
     "execution_count": 15,
     "metadata": {},
     "output_type": "execute_result"
    }
   ],
   "source": [
    "# TODO: investigate feasability of gamma=0.9\n",
    "glop_state_values = solve_optimization(gamma=0.3) \n",
    "display_state_values(glop_state_values, title='Linear Programming: GLOP')\n",
    "glop_state_values"
   ]
  },
  {
   "cell_type": "markdown",
   "metadata": {},
   "source": [
    "## Gradient Descent\n",
    "Using gradient descent and a loss defined around the error between `v(s) - v*(s)` (big thanks to Gautam Kedia for cleaning up the loss function)."
   ]
  },
  {
   "cell_type": "code",
   "execution_count": 16,
   "metadata": {
    "ExecuteTime": {
     "end_time": "2020-04-27T04:13:23.431895Z",
     "start_time": "2020-04-27T04:13:23.421575Z"
    }
   },
   "outputs": [],
   "source": [
    "tf.config.experimental_run_functions_eagerly(True)\n",
    "\n",
    "\n",
    "@tf.function\n",
    "def get_problem(gamma, constraint_penalty, state_values=None, dim=5):\n",
    "    # TODO: set better initial values\n",
    "    if state_values == None:\n",
    "        state_values = {s: tf.Variable(np.random.rand(), name=f'state_{s[0]}_{s[1]}', dtype=tf.float32)\n",
    "                        for s in product(range(dim), range(dim))}\n",
    "\n",
    "    errors = []\n",
    "    environment = Gridworld()\n",
    "    for s0, v_s0 in state_values.items():\n",
    "        action_values = []\n",
    "        for a in Action:       \n",
    "            # Deterministically apply (s, a) to Gridworld to get (s', r)\n",
    "            environment.set_state(s0)\n",
    "            s1, r = environment.transition(a)            \n",
    "            v_s1 = state_values[s1]\n",
    "\n",
    "            action_value = r + gamma * v_s1\n",
    "            action_values.append(action_value - v_s0)\n",
    "        errors.append(tf.reduce_max(action_values))\n",
    "\n",
    "    objective = tf.reduce_sum(tf.square(errors), name='objective')\n",
    "    return objective, state_values\n",
    "\n",
    "\n",
    "def plot_lp_state_values(state_values_dict, title=None):\n",
    "    lp_values = np.zeros((5, 5))\n",
    "    for (x, y), var in state_values_dict.items():\n",
    "        lp_values[x, y] = var.numpy()\n",
    "    display_state_values(lp_values, title=title)   \n",
    "    return lp_values\n",
    "\n",
    "\n",
    "def solve_gradients_tf(gamma=0.9, constraint_penalty=10.,\n",
    "                          iterations=50000, stopping_delta=1e-4, log_frequency=None):\n",
    "    if log_frequency is None:\n",
    "        log_frequency = iterations + 1\n",
    "    optimizer = tf.keras.optimizers.Adam()\n",
    "    prev_loss_value = 1e9\n",
    "    loss_history = []\n",
    "\n",
    "    objective, state_values = get_problem(gamma=gamma, constraint_penalty=constraint_penalty)\n",
    "    for i in range(1, iterations):\n",
    "        with tf.GradientTape() as tape:    \n",
    "            objective, state_values = get_problem(gamma=gamma, constraint_penalty=constraint_penalty, \n",
    "                                                  state_values=state_values)\n",
    "            trainable_vars = list(state_values.values())\n",
    "            loss = objective\n",
    "\n",
    "        grads = tape.gradient(loss, trainable_vars)\n",
    "        optimizer.apply_gradients(zip(grads, trainable_vars))\n",
    "        \n",
    "        loss_value = loss.numpy()\n",
    "        loss_history.append(loss_value)\n",
    "        if i % log_frequency == 0:\n",
    "            print(f'Iteration {i}: Loss={loss_value}')\n",
    "            plot_lp_state_values(state_values, title=f'Iteration {i}')\n",
    "            if abs(prev_loss_value - loss_value) < stopping_delta:\n",
    "                break\n",
    "            prev_loss_value = loss_value\n",
    "    return state_values"
   ]
  },
  {
   "cell_type": "code",
   "execution_count": 17,
   "metadata": {
    "ExecuteTime": {
     "end_time": "2020-04-27T04:37:20.624373Z",
     "start_time": "2020-04-27T04:13:23.433091Z"
    },
    "scrolled": true
   },
   "outputs": [
    {
     "data": {
      "image/png": "[encoded data removed]",
      "text/plain": [
       "<Figure size 345.6x345.6 with 2 Axes>"
      ]
     },
     "metadata": {
      "needs_background": "light"
     },
     "output_type": "display_data"
    },
    {
     "data": {
      "text/plain": [
       "array([[21.97732735, 24.41935349, 21.97750473, 19.41955376, 17.47743034],\n",
       "       [19.77977562, 21.97742844, 19.77986526, 17.80185699, 16.02178192],\n",
       "       [17.80177307, 19.77975273, 17.80181694, 16.02166557, 14.41949844],\n",
       "       [16.02165031, 17.80169106, 16.02163506, 14.41943741, 12.97756481],\n",
       "       [14.41939545, 16.02142715, 14.4195776 , 12.97746277, 11.67983627]])"
      ]
     },
     "execution_count": 17,
     "metadata": {},
     "output_type": "execute_result"
    }
   ],
   "source": [
    "# Go get a coffee, this will take ~20 minutes\n",
    "lp_state_values = solve_gradients_tf(gamma=0.9, stopping_delta=0.1)\n",
    "plot_lp_state_values(lp_state_values, title='Tensorflow Gradient Descent')"
   ]
  },
  {
   "cell_type": "code",
   "execution_count": 18,
   "metadata": {
    "ExecuteTime": {
     "end_time": "2020-04-27T04:37:20.800383Z",
     "start_time": "2020-04-27T04:37:20.625777Z"
    }
   },
   "outputs": [
    {
     "data": {
      "image/png": "[encoded data removed]",
      "text/plain": [
       "<Figure size 345.6x345.6 with 2 Axes>"
      ]
     },
     "metadata": {
      "needs_background": "light"
     },
     "output_type": "display_data"
    },
    {
     "data": {
      "text/plain": [
       "array([[22. , 24.4, 22. , 19.4, 17.5],\n",
       "       [19.8, 22. , 19.8, 17.8, 16. ],\n",
       "       [17.8, 19.8, 17.8, 16. , 14.4],\n",
       "       [16. , 17.8, 16. , 14.4, 13. ],\n",
       "       [14.4, 16. , 14.4, 13. , 11.7]])"
      ]
     },
     "execution_count": 18,
     "metadata": {},
     "output_type": "execute_result"
    }
   ],
   "source": [
    "# Expected (from textbook)\n",
    "display_state_values(expected_values, title='Solution: Optimal Agent') \n",
    "expected_values"
   ]
  },
  {
   "cell_type": "markdown",
   "metadata": {},
   "source": [
    "## Dynamic Programming: Value Iteration\n",
    "Another strategy for finding the exact solution. This also requires a perfect understanding of the environment and not scaleable to complex problems. It also has weaker convergence guarantees than Linear Programming. Dynamic Programming can handle larger problems than Linear Programming, however state-space grows exponentially and we must use other methods for the largest problems.\n",
    "\n",
    "For this toy-problem, Value Iteration is extremely efficient, solving the optimal solution in ~200ms."
   ]
  },
  {
   "cell_type": "code",
   "execution_count": 19,
   "metadata": {
    "ExecuteTime": {
     "end_time": "2020-04-27T04:37:20.806099Z",
     "start_time": "2020-04-27T04:37:20.801641Z"
    }
   },
   "outputs": [],
   "source": [
    "def value_iteration(gamma=0.9, epsilon=1e-4):\n",
    "    state_values = np.random.randn(5, 5)\n",
    "    dim = 5\n",
    "    environment = Gridworld()\n",
    "\n",
    "    delta = 1000\n",
    "    while delta > epsilon:\n",
    "        delta = 0\n",
    "        for s0 in product(range(dim), range(dim)):\n",
    "            v_s0 = state_values[s0]\n",
    "\n",
    "            # Policy: arg-max action-value, having perfect information about the environment\n",
    "            optimal_action_value = -1000\n",
    "            for a in Action:   \n",
    "                # Deterministically apply (s, a) to Gridworld\n",
    "                environment.set_state(s0)\n",
    "                s1, r = environment.transition(a)            \n",
    "                v_s1 = state_values[s1]\n",
    "\n",
    "                action_value = r + gamma * v_s1\n",
    "                optimal_action_value = max(action_value, optimal_action_value)\n",
    "            state_values[s0] = optimal_action_value\n",
    "            delta += abs(v_s0 - optimal_action_value)\n",
    "\n",
    "    return state_values\n",
    "            "
   ]
  },
  {
   "cell_type": "code",
   "execution_count": 20,
   "metadata": {
    "ExecuteTime": {
     "end_time": "2020-04-27T04:37:20.986754Z",
     "start_time": "2020-04-27T04:37:20.807301Z"
    }
   },
   "outputs": [
    {
     "data": {
      "image/png": "[encoded data removed]",
      "text/plain": [
       "<Figure size 345.6x345.6 with 2 Axes>"
      ]
     },
     "metadata": {
      "needs_background": "light"
     },
     "output_type": "display_data"
    },
    {
     "data": {
      "text/plain": [
       "array([[21.9774764 , 24.41942227, 21.97748004, 19.41942227, 17.47748004],\n",
       "       [19.77972876, 21.97748004, 19.77973204, 17.80175883, 16.02158295],\n",
       "       [17.80175589, 19.77973204, 17.80175883, 16.02158295, 14.41942465],\n",
       "       [16.0215803 , 17.80175883, 16.02158295, 14.41942465, 12.97748219],\n",
       "       [14.41942227, 16.02158295, 14.41942465, 12.97748219, 11.67973397]])"
      ]
     },
     "execution_count": 20,
     "metadata": {},
     "output_type": "execute_result"
    }
   ],
   "source": [
    "vi_state_values = value_iteration()\n",
    "display_state_values(vi_state_values, title='Value Iteration')\n",
    "vi_state_values"
   ]
  },
  {
   "cell_type": "markdown",
   "metadata": {},
   "source": [
    "## Monte Carlo\n",
    "Monte Carlo is the first class of algorithm that is scaleable to complex real world problems. Unlike the previous approaches, Monte Carlo methods do not require a model of the environment, learning from both simulated episodes and actual experience. Additionally, this strategy does not require precise estimation of every state if only particular regions are relevant to our use-case.\n",
    "\n",
    "However Monte Carlo requires a strategy for generating episodes, either for on-policy learning, off-policy learning, simulation, or back-test. None of the these algorithms generate sensible results in a reasonable amount of time without some form of exploration, such as epsilon-greedy policies. This is an extremely strong indication that a supervised learning approach would naively hammer a suboptimal policy while guaranteeing to never uncover the data necessary to get out of the local minima."
   ]
  },
  {
   "cell_type": "code",
   "execution_count": 21,
   "metadata": {
    "ExecuteTime": {
     "end_time": "2020-04-27T04:37:20.995897Z",
     "start_time": "2020-04-27T04:37:20.987994Z"
    }
   },
   "outputs": [],
   "source": [
    "#  TODO: early stopping\n",
    "def mc_prediction(every_visit=False, gamma=0.9, dim=5, T=32, iterations=int(1e4), log_frequency=None):\n",
    "    if log_frequency is None:\n",
    "        log_frequency = iterations + 1\n",
    "\n",
    "    # GreedyAgent fails spectacularly here (likely supervised learning would also fail)\n",
    "    agent = EpsilonGreedyAgent(name='First-Value MC Prediction')\n",
    "    returns = {s: (0, 0) for s in product(range(dim), range(dim))}\n",
    "    environment = Gridworld()\n",
    "    for i in range(1, iterations):\n",
    "        if i % log_frequency == 0:\n",
    "            display_state_values(agent.state_values, title=f'MC Prediction: Iteration {i}')\n",
    "        \n",
    "        # Simulate episode\n",
    "        s0 = (random.randint(0, 4), random.randint(0, 4))\n",
    "        environment.set_state(s0)\n",
    "        episode = [s0]  # s0, a0, s1, r1, a1, s2, r2, a2, s3...\n",
    "        for _ in range(T):\n",
    "            a0 = agent.policy(s0)\n",
    "            s1, r1 = environment.transition(a0)\n",
    "            episode.extend([a0, s1, r1]) \n",
    "            s0 = s1\n",
    "\n",
    "        # Replay backwards from the end of the episode\n",
    "        ret = 0\n",
    "        j = T - 1\n",
    "        episode_returns = {}\n",
    "        while j > 0:\n",
    "            r1 = episode[3*j + 3]\n",
    "            s0 = episode[3*j - 1]\n",
    "            j -= 1\n",
    "\n",
    "            ret = r1 + gamma * ret\n",
    "            episode_returns[s0] = ret\n",
    "            if every_visit:\n",
    "                mean_ret, c = returns[s0]\n",
    "                returns[s0] = ((mean_ret * c + ret) / (c + 1), c + 1)\n",
    "            \n",
    "        # Update state values v(s)\n",
    "        for s, ret in episode_returns.items():\n",
    "            if not every_visit:\n",
    "                mean_ret, c = returns[s]\n",
    "                returns[s] = ((mean_ret * c + ret) / (c + 1), c + 1)\n",
    "            agent.state_values[s] = returns[s][0]\n",
    "    return agent"
   ]
  },
  {
   "cell_type": "code",
   "execution_count": 22,
   "metadata": {
    "ExecuteTime": {
     "end_time": "2020-04-27T04:46:46.559382Z",
     "start_time": "2020-04-27T04:37:20.997136Z"
    }
   },
   "outputs": [
    {
     "data": {
      "image/png": "[encoded data removed]",
      "text/plain": [
       "<Figure size 345.6x345.6 with 2 Axes>"
      ]
     },
     "metadata": {
      "needs_background": "light"
     },
     "output_type": "display_data"
    },
    {
     "data": {
      "text/plain": [
       "array([[20.47448467, 21.40960867, 21.39748642, 16.87823453, 17.15060415],\n",
       "       [17.76865822, 18.81133812, 19.17294564, 15.81201692, 15.35823582],\n",
       "       [14.60320056, 16.60668535, 13.56034364, 14.01118125, 13.66202101],\n",
       "       [12.89122799, 14.65403258, 11.86426122, 14.15440767, 12.68608741],\n",
       "       [11.08867266, 12.92034425, 10.47696261, 10.64692786, 11.01884875]])"
      ]
     },
     "execution_count": 22,
     "metadata": {},
     "output_type": "execute_result"
    }
   ],
   "source": [
    "mcp_agent = mc_prediction(every_visit=True, iterations=int(1e6), T=64)\n",
    "display_state_values(mcp_agent.state_values, title='Every-Visit MC Prediction')\n",
    "mcp_agent.state_values"
   ]
  },
  {
   "cell_type": "markdown",
   "metadata": {},
   "source": [
    "### Every Visit\n",
    "Use every available example in the episode, instead of the earliest example only for each state. In other words, use more data to estimate state-value, even if the examples near the end of the episode are not very precise estimates."
   ]
  },
  {
   "cell_type": "code",
   "execution_count": 23,
   "metadata": {
    "ExecuteTime": {
     "end_time": "2020-04-27T04:55:56.527724Z",
     "start_time": "2020-04-27T04:46:46.560999Z"
    }
   },
   "outputs": [
    {
     "data": {
      "image/png": "[encoded data removed]",
      "text/plain": [
       "<Figure size 345.6x345.6 with 2 Axes>"
      ]
     },
     "metadata": {
      "needs_background": "light"
     },
     "output_type": "display_data"
    },
    {
     "data": {
      "text/plain": [
       "array([[18.75211569, 24.01005329, 20.76412568, 18.34102872, 16.15859583],\n",
       "       [17.02322597, 21.56980765, 16.68907694, 16.49166631, 12.68134575],\n",
       "       [14.90552681, 19.31303071, 14.5652678 , 14.82835762, 11.14054534],\n",
       "       [13.03805846, 17.34328606, 13.00237509, 13.10052032, 11.78644226],\n",
       "       [11.41536233, 15.57863577, 11.45133458, 11.9840439 , 10.74450045]])"
      ]
     },
     "execution_count": 23,
     "metadata": {},
     "output_type": "execute_result"
    }
   ],
   "source": [
    "mcp_agent = mc_prediction(iterations=int(1e6), T=64)\n",
    "display_state_values(mcp_agent.state_values, title='First-Visit MC Prediction')\n",
    "mcp_agent.state_values"
   ]
  },
  {
   "cell_type": "markdown",
   "metadata": {},
   "source": [
    "### Monte Carlo Control\n",
    "This is the first example in our exploration of a strategy that does not need a model of the environment. Instead, we use our Agent to interact with the environment to generate new samples. In other words, we learn through affecting users, for better or worse, even if this means giving our users a terrible experience in the short term."
   ]
  },
  {
   "cell_type": "code",
   "execution_count": 24,
   "metadata": {
    "ExecuteTime": {
     "end_time": "2020-04-27T04:55:56.539959Z",
     "start_time": "2020-04-27T04:55:56.530404Z"
    }
   },
   "outputs": [],
   "source": [
    "def mc_control(every_visit=False, gamma=0.9, dim=5, T=32, iterations=int(1e4), log_frequency=None):\n",
    "    if log_frequency is None:\n",
    "        log_frequency = iterations + 1\n",
    "\n",
    "    agent = LearnedAgent(name='MC Control', epsilon=0.01)  # this doesn't work without some exploration\n",
    "    returns = {(x, y, a): (0, 0) for x, y, a in product(range(dim), range(dim), [a for a in Action])}\n",
    "    environment = Gridworld()\n",
    "    for i in range(1, iterations):\n",
    "        if i % log_frequency == 0:\n",
    "            display_state_values(agent.action_values.max(axis=2), title=f'MC Control: Iteration {i}')\n",
    "\n",
    "        # Simulate episode from random (state, action)\n",
    "        x, y, a0 = (random.randint(0, 4), random.randint(0, 4), random.choice([a for a in Action]))\n",
    "        s0 = (x, y)\n",
    "        environment.set_state(s0)\n",
    "        episode = [s0]  # s0, a0, s1, r1, a1, s2, r2, a2, s3...\n",
    "        for _ in range(T):\n",
    "            s1, r1 = environment.transition(a0)\n",
    "            episode.extend([a0, s1, r1])             \n",
    "            a0 = agent.policy(s1)\n",
    "\n",
    "        # Replay backwards from the end of the episode\n",
    "        ret = 0\n",
    "        j = T - 1\n",
    "        episode_returns = {}\n",
    "        while j > 0:\n",
    "            r1 = episode[3*j + 3]\n",
    "            a0 = episode[3*j + 1]\n",
    "            x0, y0 = episode[3*j - 1]\n",
    "            key = (x0, y0, a0)\n",
    "            j -= 1\n",
    "\n",
    "            ret = r1 + gamma * ret\n",
    "            episode_returns[key] = ret\n",
    "            if every_visit:\n",
    "                mean_ret, c = returns[key]\n",
    "                returns[key] = ((mean_ret * c + ret) / (c + 1), c + 1)\n",
    "\n",
    "        # Update action values q(s,a)\n",
    "        for (x, y, a), ret in episode_returns.items():\n",
    "            key = (x, y, a)\n",
    "            if not every_visit:\n",
    "                mean_ret, c = returns[key]\n",
    "                returns[key] = ((mean_ret * c + ret) / (c + 1), c + 1)\n",
    "            agent.action_values[(x, y, a.index)] = returns[key][0]\n",
    "\n",
    "        # Update policy\n",
    "        agent.policy_improvement()\n",
    "    return agent"
   ]
  },
  {
   "cell_type": "code",
   "execution_count": 25,
   "metadata": {
    "ExecuteTime": {
     "end_time": "2020-04-27T04:58:55.831237Z",
     "start_time": "2020-04-27T04:55:56.541329Z"
    }
   },
   "outputs": [
    {
     "data": {
      "image/png": "[encoded data removed]",
      "text/plain": [
       "<Figure size 345.6x345.6 with 2 Axes>"
      ]
     },
     "metadata": {
      "needs_background": "light"
     },
     "output_type": "display_data"
    },
    {
     "data": {
      "text/plain": [
       "array([[21.76310244, 24.18255798, 21.74160191, 19.21809041, 17.29216626],\n",
       "       [18.37533028, 21.76291097, 19.35644731, 17.57969836, 15.80375334],\n",
       "       [16.37795433, 19.54407803, 17.37431728, 15.8086161 , 14.21424447],\n",
       "       [14.63248892, 17.56335456, 14.6250659 , 14.21104335, 12.77971454],\n",
       "       [13.02914731, 15.78233914, 13.01986135, 12.77709849, 11.4891233 ]])"
      ]
     },
     "execution_count": 25,
     "metadata": {},
     "output_type": "execute_result"
    }
   ],
   "source": [
    "mcc_agent = mc_control(iterations=int(1e6), T=64)\n",
    "display_state_values(mcc_agent.action_values.max(axis=2), title='First-Visit MC Control')\n",
    "mcc_agent.action_values.max(axis=2)"
   ]
  },
  {
   "cell_type": "code",
   "execution_count": 26,
   "metadata": {
    "ExecuteTime": {
     "end_time": "2020-04-27T05:02:25.831483Z",
     "start_time": "2020-04-27T04:58:55.832834Z"
    }
   },
   "outputs": [
    {
     "data": {
      "image/png": "[encoded data removed]",
      "text/plain": [
       "<Figure size 345.6x345.6 with 2 Axes>"
      ]
     },
     "metadata": {
      "needs_background": "light"
     },
     "output_type": "display_data"
    },
    {
     "data": {
      "text/plain": [
       "array([[20.75169663, 21.38384351, 21.7476717 , 16.43668959, 16.99919379],\n",
       "       [18.32573751, 18.94891223, 19.17941004, 17.5606327 , 15.64193475],\n",
       "       [16.36017431, 16.5873389 , 16.91189201, 13.07969235, 13.98904886],\n",
       "       [14.57074268, 14.61895549, 15.32866503, 14.18291965, 12.5473603 ],\n",
       "       [13.00030696, 12.88268697, 12.99600445, 12.6486818 , 11.48720114]])"
      ]
     },
     "execution_count": 26,
     "metadata": {},
     "output_type": "execute_result"
    }
   ],
   "source": [
    "mcc_agent = mc_control(every_visit=True, iterations=int(1e6), T=64)\n",
    "display_state_values(mcc_agent.action_values.max(axis=2), title='Every-Visit MC Control')\n",
    "mcc_agent.action_values.max(axis=2)"
   ]
  },
  {
   "cell_type": "markdown",
   "metadata": {},
   "source": [
    "### Importance Sampling\n",
    "Assuming our strategy for data collection obeys the *coverage* assumption (every state is visited at least once, such as by using a holdout or epsilon-greedy behavior policy), we can reasonably develop new agents without affecting users. This allows to utilize a reasonable good policy in the interim while learning better and better agents without subjecting their actions to users while they are underdeveloped.\n",
    "\n",
    "However this strategy is extremely slow, especially if the behavior policy and target policy behave differently, in which case most episodes will not be usable by the target policy."
   ]
  },
  {
   "cell_type": "code",
   "execution_count": 27,
   "metadata": {
    "ExecuteTime": {
     "end_time": "2020-04-27T05:02:25.844703Z",
     "start_time": "2020-04-27T05:02:25.833593Z"
    }
   },
   "outputs": [],
   "source": [
    "def get_policy_probs(agent, state, samples=100):\n",
    "    probs = {a: 0 for a in Action}\n",
    "    for _ in range(samples):\n",
    "        a = agent.policy(state)\n",
    "        probs[a] += 1 / samples\n",
    "    return probs\n",
    "\n",
    "# Importance Sampling\n",
    "def off_policy_mc(behavior, target, gamma=0.9, \n",
    "                  dim=5, T=32, iterations=int(1e4), log_frequency=None):\n",
    "    if log_frequency is None:\n",
    "        log_frequency = iterations + 1\n",
    "\n",
    "    returns = {(x, y, a): (0, 0) for x, y, a in product(range(dim), range(dim), [a for a in Action])}\n",
    "    environment = Gridworld()\n",
    "    for i in range(1, iterations):\n",
    "        if i % log_frequency == 0:\n",
    "            display_state_values(target.action_values.max(axis=2), title=f'MC Control: Iteration {i}')\n",
    "\n",
    "        # Simulate episode from random (state, action)\n",
    "        x, y, a0 = (random.randint(0, 4), random.randint(0, 4), random.choice([a for a in Action]))\n",
    "        s0 = (x, y)\n",
    "        environment.set_state(s0)\n",
    "        episode = [s0]  # s0, a0, s1, r1, a1, s2, r2, a2, s3...\n",
    "        for _ in range(T):\n",
    "            s1, r1 = environment.transition(a0)\n",
    "            episode.extend([a0, s1, r1])             \n",
    "            a0 = behavior.policy(s1)\n",
    "\n",
    "        # Replay backwards from the end of the episode\n",
    "        ret = 0\n",
    "        j = T - 1\n",
    "        w = 1\n",
    "        while j > 0:\n",
    "            r1 = episode[3*j + 3]\n",
    "            a0 = episode[3*j + 1]\n",
    "            x0, y0 = episode[3*j - 1]\n",
    "            j -= 1\n",
    "\n",
    "            key = (x0, y0, a0)\n",
    "            ret = r1 + gamma * ret             \n",
    "            mean_ret, c = returns[key]\n",
    "            returns[key] = ((mean_ret + (w / (c + w)) * (ret - mean_ret)), c + w)\n",
    "            \n",
    "            # If the episode doesn't match the target policy, reject it\n",
    "            target_action = target.policy((x0, y0))\n",
    "            if target_action != a0:\n",
    "                break\n",
    "            w += get_policy_probs(behavior, (x0, y0))[a0]\n",
    "\n",
    "        # Update policy\n",
    "        for (x, y, a), ret in returns.items():\n",
    "            target.action_values[(x, y, a.index)] = returns[(x, y, a)][0]\n",
    "        target.policy_improvement()\n",
    "    return target"
   ]
  },
  {
   "cell_type": "code",
   "execution_count": 28,
   "metadata": {
    "ExecuteTime": {
     "end_time": "2020-04-27T05:28:21.574946Z",
     "start_time": "2020-04-27T05:02:25.845941Z"
    }
   },
   "outputs": [
    {
     "data": {
      "image/png": "[encoded data removed]",
      "text/plain": [
       "<Figure size 345.6x345.6 with 2 Axes>"
      ]
     },
     "metadata": {
      "needs_background": "light"
     },
     "output_type": "display_data"
    },
    {
     "data": {
      "text/plain": [
       "array([[ 3.48170505, 10.47917248,  4.02194575,  5.04411105,  0.18690096],\n",
       "       [ 1.97226593,  4.01885467,  2.02671412,  0.48222525,  0.06681068],\n",
       "       [ 1.16531412,  1.96591815,  1.05627222,  0.36358964,  0.        ],\n",
       "       [ 0.76071691,  1.13036547,  0.72888747,  0.76777029,  0.        ],\n",
       "       [ 0.47199288,  0.71398819,  0.49569741,  0.2827155 ,  0.        ]])"
      ]
     },
     "execution_count": 28,
     "metadata": {},
     "output_type": "execute_result"
    }
   ],
   "source": [
    "behavior_policy = EpsilonGreedyAgent(state_values=vi_state_values, epsilon=0.25)  # must obey assumption of coverage\n",
    "target = LearnedAgent(name='Target Policy', epsilon=0)  # deterministic\n",
    "off_policy_mc(behavior_policy, target, iterations=int(1e6), T=64)\n",
    "display_state_values(target.action_values.max(axis=2), title='Off-Policy MC Control')\n",
    "target.action_values.max(axis=2)"
   ]
  },
  {
   "cell_type": "code",
   "execution_count": 29,
   "metadata": {
    "ExecuteTime": {
     "end_time": "2020-04-27T05:28:21.578442Z",
     "start_time": "2020-04-27T05:28:21.576465Z"
    }
   },
   "outputs": [],
   "source": [
    "# TODO: SARSA, TD(0), Q-learning"
   ]
  }
 ],
 "metadata": {
  "kernelspec": {
   "display_name": "Python 3",
   "language": "python",
   "name": "python3"
  },
  "language_info": {
   "codemirror_mode": {
    "name": "ipython",
    "version": 3
   },
   "file_extension": ".py",
   "mimetype": "text/x-python",
   "name": "python",
   "nbconvert_exporter": "python",
   "pygments_lexer": "ipython3",
   "version": "3.6.9"
  }
 },
 "nbformat": 4,
 "nbformat_minor": 4
}
